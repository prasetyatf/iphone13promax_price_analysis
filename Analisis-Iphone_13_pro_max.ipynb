{
 "metadata": {
  "language_info": {
   "codemirror_mode": {
    "name": "ipython",
    "version": 3
   },
   "file_extension": ".py",
   "mimetype": "text/x-python",
   "name": "python",
   "nbconvert_exporter": "python",
   "pygments_lexer": "ipython3",
   "version": "3.8.6-final"
  },
  "orig_nbformat": 2,
  "kernelspec": {
   "name": "python38632bit1410168d057a4958a3f64ea7907d3b18",
   "display_name": "Python 3.8.6 32-bit"
  }
 },
 "nbformat": 4,
 "nbformat_minor": 2,
 "cells": [
  {
   "cell_type": "code",
   "execution_count": 2,
   "metadata": {},
   "outputs": [],
   "source": [
    "import pandas as pd\n",
    "import matplotlib.pyplot as plt\n",
    "import re"
   ]
  },
  {
   "cell_type": "code",
   "execution_count": 3,
   "metadata": {},
   "outputs": [
    {
     "output_type": "execute_result",
     "data": {
      "text/plain": [
       "                                                 name          price  \\\n",
       "0   Iphone 11 128GB Garansi Resmi TAM / Ibox - whi...   Rp 7.950.000   \n",
       "1         IPhone 12 Garansi Resmi Ibox - Hijau, 64 gb  Rp 11.599.000   \n",
       "2                          Iphone 12 mini 128GB - Red   Rp10.499.000   \n",
       "3                        Iphone 12 mini 128GB - White   Rp10.499.000   \n",
       "4               (OFFICIAL) Iphone 12 Pro 512GB - Gold   Rp19.299.000   \n",
       "..                                                ...            ...   \n",
       "28            Iphone 13 Pro Max 256gb - Garansi Resmi   Rp19.991.000   \n",
       "29                        Iphone 13 mini 256GB - Pink   Rp15.999.000   \n",
       "30          (OFFICIAL) Iphone 12 Pro 512GB - Graphite   Rp19.299.000   \n",
       "31                         Iphone 13 512GB - Midnight   Rp20.099.000   \n",
       "32                       Iphone 12 mini 128GB - Black   Rp10.499.000   \n",
       "\n",
       "                               shop     location  \n",
       "0                                 -            -  \n",
       "1                                 -            -  \n",
       "2   Wellio Smartphone Official Shop  Kab. Bekasi  \n",
       "3   Wellio Smartphone Official Shop  Kab. Bekasi  \n",
       "4   Wellio Smartphone Official Shop  Kab. Bekasi  \n",
       "..                              ...          ...  \n",
       "28                    Maju Hardware       Madiun  \n",
       "29  Wellio Smartphone Official Shop  Kab. Bekasi  \n",
       "30  Wellio Smartphone Official Shop  Kab. Bekasi  \n",
       "31  Wellio Smartphone Official Shop  Kab. Bekasi  \n",
       "32  Wellio Smartphone Official Shop  Kab. Bekasi  \n",
       "\n",
       "[175 rows x 4 columns]"
      ],
      "text/html": "<div>\n<style scoped>\n    .dataframe tbody tr th:only-of-type {\n        vertical-align: middle;\n    }\n\n    .dataframe tbody tr th {\n        vertical-align: top;\n    }\n\n    .dataframe thead th {\n        text-align: right;\n    }\n</style>\n<table border=\"1\" class=\"dataframe\">\n  <thead>\n    <tr style=\"text-align: right;\">\n      <th></th>\n      <th>name</th>\n      <th>price</th>\n      <th>shop</th>\n      <th>location</th>\n    </tr>\n  </thead>\n  <tbody>\n    <tr>\n      <th>0</th>\n      <td>Iphone 11 128GB Garansi Resmi TAM / Ibox - whi...</td>\n      <td>Rp 7.950.000</td>\n      <td>-</td>\n      <td>-</td>\n    </tr>\n    <tr>\n      <th>1</th>\n      <td>IPhone 12 Garansi Resmi Ibox - Hijau, 64 gb</td>\n      <td>Rp 11.599.000</td>\n      <td>-</td>\n      <td>-</td>\n    </tr>\n    <tr>\n      <th>2</th>\n      <td>Iphone 12 mini 128GB - Red</td>\n      <td>Rp10.499.000</td>\n      <td>Wellio Smartphone Official Shop</td>\n      <td>Kab. Bekasi</td>\n    </tr>\n    <tr>\n      <th>3</th>\n      <td>Iphone 12 mini 128GB - White</td>\n      <td>Rp10.499.000</td>\n      <td>Wellio Smartphone Official Shop</td>\n      <td>Kab. Bekasi</td>\n    </tr>\n    <tr>\n      <th>4</th>\n      <td>(OFFICIAL) Iphone 12 Pro 512GB - Gold</td>\n      <td>Rp19.299.000</td>\n      <td>Wellio Smartphone Official Shop</td>\n      <td>Kab. Bekasi</td>\n    </tr>\n    <tr>\n      <th>...</th>\n      <td>...</td>\n      <td>...</td>\n      <td>...</td>\n      <td>...</td>\n    </tr>\n    <tr>\n      <th>28</th>\n      <td>Iphone 13 Pro Max 256gb - Garansi Resmi</td>\n      <td>Rp19.991.000</td>\n      <td>Maju Hardware</td>\n      <td>Madiun</td>\n    </tr>\n    <tr>\n      <th>29</th>\n      <td>Iphone 13 mini 256GB - Pink</td>\n      <td>Rp15.999.000</td>\n      <td>Wellio Smartphone Official Shop</td>\n      <td>Kab. Bekasi</td>\n    </tr>\n    <tr>\n      <th>30</th>\n      <td>(OFFICIAL) Iphone 12 Pro 512GB - Graphite</td>\n      <td>Rp19.299.000</td>\n      <td>Wellio Smartphone Official Shop</td>\n      <td>Kab. Bekasi</td>\n    </tr>\n    <tr>\n      <th>31</th>\n      <td>Iphone 13 512GB - Midnight</td>\n      <td>Rp20.099.000</td>\n      <td>Wellio Smartphone Official Shop</td>\n      <td>Kab. Bekasi</td>\n    </tr>\n    <tr>\n      <th>32</th>\n      <td>Iphone 12 mini 128GB - Black</td>\n      <td>Rp10.499.000</td>\n      <td>Wellio Smartphone Official Shop</td>\n      <td>Kab. Bekasi</td>\n    </tr>\n  </tbody>\n</table>\n<p>175 rows × 4 columns</p>\n</div>"
     },
     "metadata": {},
     "execution_count": 3
    }
   ],
   "source": [
    "df1 = pd.read_csv('result-1.csv')\n",
    "df2 = pd.read_csv('result-2.csv')\n",
    "df3 = pd.read_csv('result-3.csv')\n",
    "\n",
    "df = pd.concat([df1,df2,df3])\n",
    "df"
   ]
  },
  {
   "cell_type": "code",
   "execution_count": 4,
   "metadata": {},
   "outputs": [],
   "source": [
    "pd.options.display.max_colwidth = 100\n",
    "pd.options.display.max_rows = 10"
   ]
  },
  {
   "cell_type": "code",
   "execution_count": 5,
   "metadata": {},
   "outputs": [
    {
     "output_type": "stream",
     "name": "stdout",
     "text": [
      "<class 'pandas.core.frame.DataFrame'>\nInt64Index: 175 entries, 0 to 32\nData columns (total 4 columns):\n #   Column    Non-Null Count  Dtype \n---  ------    --------------  ----- \n 0   name      175 non-null    object\n 1   price     175 non-null    object\n 2   shop      175 non-null    object\n 3   location  175 non-null    object\ndtypes: object(4)\nmemory usage: 4.1+ KB\n"
     ]
    }
   ],
   "source": [
    "df.info()"
   ]
  },
  {
   "cell_type": "code",
   "execution_count": 6,
   "metadata": {},
   "outputs": [
    {
     "output_type": "error",
     "ename": "ValueError",
     "evalue": "invalid literal for int() with base 10: 'Rp 7.950.000'",
     "traceback": [
      "\u001b[1;31m---------------------------------------------------------------------------\u001b[0m",
      "\u001b[1;31mValueError\u001b[0m                                Traceback (most recent call last)",
      "Input \u001b[1;32mIn [6]\u001b[0m, in \u001b[0;36m<cell line: 1>\u001b[1;34m()\u001b[0m\n\u001b[1;32m----> 1\u001b[0m \u001b[43mdf\u001b[49m\u001b[38;5;241;43m.\u001b[39;49m\u001b[43mprice\u001b[49m\u001b[38;5;241;43m.\u001b[39;49m\u001b[43mastype\u001b[49m\u001b[43m(\u001b[49m\u001b[38;5;28;43mint\u001b[39;49m\u001b[43m)\u001b[49m\n\u001b[0;32m      2\u001b[0m df\u001b[38;5;241m.\u001b[39minfo()\n",
      "File \u001b[1;32mC:\\Python\\lib\\site-packages\\pandas\\core\\generic.py:5912\u001b[0m, in \u001b[0;36mNDFrame.astype\u001b[1;34m(self, dtype, copy, errors)\u001b[0m\n\u001b[0;32m   5905\u001b[0m     results \u001b[38;5;241m=\u001b[39m [\n\u001b[0;32m   5906\u001b[0m         \u001b[38;5;28mself\u001b[39m\u001b[38;5;241m.\u001b[39miloc[:, i]\u001b[38;5;241m.\u001b[39mastype(dtype, copy\u001b[38;5;241m=\u001b[39mcopy)\n\u001b[0;32m   5907\u001b[0m         \u001b[38;5;28;01mfor\u001b[39;00m i \u001b[38;5;129;01min\u001b[39;00m \u001b[38;5;28mrange\u001b[39m(\u001b[38;5;28mlen\u001b[39m(\u001b[38;5;28mself\u001b[39m\u001b[38;5;241m.\u001b[39mcolumns))\n\u001b[0;32m   5908\u001b[0m     ]\n\u001b[0;32m   5910\u001b[0m \u001b[38;5;28;01melse\u001b[39;00m:\n\u001b[0;32m   5911\u001b[0m     \u001b[38;5;66;03m# else, only a single dtype is given\u001b[39;00m\n\u001b[1;32m-> 5912\u001b[0m     new_data \u001b[38;5;241m=\u001b[39m \u001b[38;5;28;43mself\u001b[39;49m\u001b[38;5;241;43m.\u001b[39;49m\u001b[43m_mgr\u001b[49m\u001b[38;5;241;43m.\u001b[39;49m\u001b[43mastype\u001b[49m\u001b[43m(\u001b[49m\u001b[43mdtype\u001b[49m\u001b[38;5;241;43m=\u001b[39;49m\u001b[43mdtype\u001b[49m\u001b[43m,\u001b[49m\u001b[43m \u001b[49m\u001b[43mcopy\u001b[49m\u001b[38;5;241;43m=\u001b[39;49m\u001b[43mcopy\u001b[49m\u001b[43m,\u001b[49m\u001b[43m \u001b[49m\u001b[43merrors\u001b[49m\u001b[38;5;241;43m=\u001b[39;49m\u001b[43merrors\u001b[49m\u001b[43m)\u001b[49m\n\u001b[0;32m   5913\u001b[0m     \u001b[38;5;28;01mreturn\u001b[39;00m \u001b[38;5;28mself\u001b[39m\u001b[38;5;241m.\u001b[39m_constructor(new_data)\u001b[38;5;241m.\u001b[39m__finalize__(\u001b[38;5;28mself\u001b[39m, method\u001b[38;5;241m=\u001b[39m\u001b[38;5;124m\"\u001b[39m\u001b[38;5;124mastype\u001b[39m\u001b[38;5;124m\"\u001b[39m)\n\u001b[0;32m   5915\u001b[0m \u001b[38;5;66;03m# GH 33113: handle empty frame or series\u001b[39;00m\n",
      "File \u001b[1;32mC:\\Python\\lib\\site-packages\\pandas\\core\\internals\\managers.py:419\u001b[0m, in \u001b[0;36mBaseBlockManager.astype\u001b[1;34m(self, dtype, copy, errors)\u001b[0m\n\u001b[0;32m    418\u001b[0m \u001b[38;5;28;01mdef\u001b[39;00m \u001b[38;5;21mastype\u001b[39m(\u001b[38;5;28mself\u001b[39m: T, dtype, copy: \u001b[38;5;28mbool\u001b[39m \u001b[38;5;241m=\u001b[39m \u001b[38;5;28;01mFalse\u001b[39;00m, errors: \u001b[38;5;28mstr\u001b[39m \u001b[38;5;241m=\u001b[39m \u001b[38;5;124m\"\u001b[39m\u001b[38;5;124mraise\u001b[39m\u001b[38;5;124m\"\u001b[39m) \u001b[38;5;241m-\u001b[39m\u001b[38;5;241m>\u001b[39m T:\n\u001b[1;32m--> 419\u001b[0m     \u001b[38;5;28;01mreturn\u001b[39;00m \u001b[38;5;28;43mself\u001b[39;49m\u001b[38;5;241;43m.\u001b[39;49m\u001b[43mapply\u001b[49m\u001b[43m(\u001b[49m\u001b[38;5;124;43m\"\u001b[39;49m\u001b[38;5;124;43mastype\u001b[39;49m\u001b[38;5;124;43m\"\u001b[39;49m\u001b[43m,\u001b[49m\u001b[43m \u001b[49m\u001b[43mdtype\u001b[49m\u001b[38;5;241;43m=\u001b[39;49m\u001b[43mdtype\u001b[49m\u001b[43m,\u001b[49m\u001b[43m \u001b[49m\u001b[43mcopy\u001b[49m\u001b[38;5;241;43m=\u001b[39;49m\u001b[43mcopy\u001b[49m\u001b[43m,\u001b[49m\u001b[43m \u001b[49m\u001b[43merrors\u001b[49m\u001b[38;5;241;43m=\u001b[39;49m\u001b[43merrors\u001b[49m\u001b[43m)\u001b[49m\n",
      "File \u001b[1;32mC:\\Python\\lib\\site-packages\\pandas\\core\\internals\\managers.py:304\u001b[0m, in \u001b[0;36mBaseBlockManager.apply\u001b[1;34m(self, f, align_keys, ignore_failures, **kwargs)\u001b[0m\n\u001b[0;32m    302\u001b[0m         applied \u001b[38;5;241m=\u001b[39m b\u001b[38;5;241m.\u001b[39mapply(f, \u001b[38;5;241m*\u001b[39m\u001b[38;5;241m*\u001b[39mkwargs)\n\u001b[0;32m    303\u001b[0m     \u001b[38;5;28;01melse\u001b[39;00m:\n\u001b[1;32m--> 304\u001b[0m         applied \u001b[38;5;241m=\u001b[39m \u001b[38;5;28;43mgetattr\u001b[39;49m\u001b[43m(\u001b[49m\u001b[43mb\u001b[49m\u001b[43m,\u001b[49m\u001b[43m \u001b[49m\u001b[43mf\u001b[49m\u001b[43m)\u001b[49m\u001b[43m(\u001b[49m\u001b[38;5;241;43m*\u001b[39;49m\u001b[38;5;241;43m*\u001b[39;49m\u001b[43mkwargs\u001b[49m\u001b[43m)\u001b[49m\n\u001b[0;32m    305\u001b[0m \u001b[38;5;28;01mexcept\u001b[39;00m (\u001b[38;5;167;01mTypeError\u001b[39;00m, \u001b[38;5;167;01mNotImplementedError\u001b[39;00m):\n\u001b[0;32m    306\u001b[0m     \u001b[38;5;28;01mif\u001b[39;00m \u001b[38;5;129;01mnot\u001b[39;00m ignore_failures:\n",
      "File \u001b[1;32mC:\\Python\\lib\\site-packages\\pandas\\core\\internals\\blocks.py:580\u001b[0m, in \u001b[0;36mBlock.astype\u001b[1;34m(self, dtype, copy, errors)\u001b[0m\n\u001b[0;32m    562\u001b[0m \u001b[38;5;124;03m\"\"\"\u001b[39;00m\n\u001b[0;32m    563\u001b[0m \u001b[38;5;124;03mCoerce to the new dtype.\u001b[39;00m\n\u001b[0;32m    564\u001b[0m \n\u001b[1;32m   (...)\u001b[0m\n\u001b[0;32m    576\u001b[0m \u001b[38;5;124;03mBlock\u001b[39;00m\n\u001b[0;32m    577\u001b[0m \u001b[38;5;124;03m\"\"\"\u001b[39;00m\n\u001b[0;32m    578\u001b[0m values \u001b[38;5;241m=\u001b[39m \u001b[38;5;28mself\u001b[39m\u001b[38;5;241m.\u001b[39mvalues\n\u001b[1;32m--> 580\u001b[0m new_values \u001b[38;5;241m=\u001b[39m \u001b[43mastype_array_safe\u001b[49m\u001b[43m(\u001b[49m\u001b[43mvalues\u001b[49m\u001b[43m,\u001b[49m\u001b[43m \u001b[49m\u001b[43mdtype\u001b[49m\u001b[43m,\u001b[49m\u001b[43m \u001b[49m\u001b[43mcopy\u001b[49m\u001b[38;5;241;43m=\u001b[39;49m\u001b[43mcopy\u001b[49m\u001b[43m,\u001b[49m\u001b[43m \u001b[49m\u001b[43merrors\u001b[49m\u001b[38;5;241;43m=\u001b[39;49m\u001b[43merrors\u001b[49m\u001b[43m)\u001b[49m\n\u001b[0;32m    582\u001b[0m new_values \u001b[38;5;241m=\u001b[39m maybe_coerce_values(new_values)\n\u001b[0;32m    583\u001b[0m newb \u001b[38;5;241m=\u001b[39m \u001b[38;5;28mself\u001b[39m\u001b[38;5;241m.\u001b[39mmake_block(new_values)\n",
      "File \u001b[1;32mC:\\Python\\lib\\site-packages\\pandas\\core\\dtypes\\cast.py:1292\u001b[0m, in \u001b[0;36mastype_array_safe\u001b[1;34m(values, dtype, copy, errors)\u001b[0m\n\u001b[0;32m   1289\u001b[0m     dtype \u001b[38;5;241m=\u001b[39m dtype\u001b[38;5;241m.\u001b[39mnumpy_dtype\n\u001b[0;32m   1291\u001b[0m \u001b[38;5;28;01mtry\u001b[39;00m:\n\u001b[1;32m-> 1292\u001b[0m     new_values \u001b[38;5;241m=\u001b[39m \u001b[43mastype_array\u001b[49m\u001b[43m(\u001b[49m\u001b[43mvalues\u001b[49m\u001b[43m,\u001b[49m\u001b[43m \u001b[49m\u001b[43mdtype\u001b[49m\u001b[43m,\u001b[49m\u001b[43m \u001b[49m\u001b[43mcopy\u001b[49m\u001b[38;5;241;43m=\u001b[39;49m\u001b[43mcopy\u001b[49m\u001b[43m)\u001b[49m\n\u001b[0;32m   1293\u001b[0m \u001b[38;5;28;01mexcept\u001b[39;00m (\u001b[38;5;167;01mValueError\u001b[39;00m, \u001b[38;5;167;01mTypeError\u001b[39;00m):\n\u001b[0;32m   1294\u001b[0m     \u001b[38;5;66;03m# e.g. astype_nansafe can fail on object-dtype of strings\u001b[39;00m\n\u001b[0;32m   1295\u001b[0m     \u001b[38;5;66;03m#  trying to convert to float\u001b[39;00m\n\u001b[0;32m   1296\u001b[0m     \u001b[38;5;28;01mif\u001b[39;00m errors \u001b[38;5;241m==\u001b[39m \u001b[38;5;124m\"\u001b[39m\u001b[38;5;124mignore\u001b[39m\u001b[38;5;124m\"\u001b[39m:\n",
      "File \u001b[1;32mC:\\Python\\lib\\site-packages\\pandas\\core\\dtypes\\cast.py:1237\u001b[0m, in \u001b[0;36mastype_array\u001b[1;34m(values, dtype, copy)\u001b[0m\n\u001b[0;32m   1234\u001b[0m     values \u001b[38;5;241m=\u001b[39m values\u001b[38;5;241m.\u001b[39mastype(dtype, copy\u001b[38;5;241m=\u001b[39mcopy)\n\u001b[0;32m   1236\u001b[0m \u001b[38;5;28;01melse\u001b[39;00m:\n\u001b[1;32m-> 1237\u001b[0m     values \u001b[38;5;241m=\u001b[39m \u001b[43mastype_nansafe\u001b[49m\u001b[43m(\u001b[49m\u001b[43mvalues\u001b[49m\u001b[43m,\u001b[49m\u001b[43m \u001b[49m\u001b[43mdtype\u001b[49m\u001b[43m,\u001b[49m\u001b[43m \u001b[49m\u001b[43mcopy\u001b[49m\u001b[38;5;241;43m=\u001b[39;49m\u001b[43mcopy\u001b[49m\u001b[43m)\u001b[49m\n\u001b[0;32m   1239\u001b[0m \u001b[38;5;66;03m# in pandas we don't store numpy str dtypes, so convert to object\u001b[39;00m\n\u001b[0;32m   1240\u001b[0m \u001b[38;5;28;01mif\u001b[39;00m \u001b[38;5;28misinstance\u001b[39m(dtype, np\u001b[38;5;241m.\u001b[39mdtype) \u001b[38;5;129;01mand\u001b[39;00m \u001b[38;5;28missubclass\u001b[39m(values\u001b[38;5;241m.\u001b[39mdtype\u001b[38;5;241m.\u001b[39mtype, \u001b[38;5;28mstr\u001b[39m):\n",
      "File \u001b[1;32mC:\\Python\\lib\\site-packages\\pandas\\core\\dtypes\\cast.py:1154\u001b[0m, in \u001b[0;36mastype_nansafe\u001b[1;34m(arr, dtype, copy, skipna)\u001b[0m\n\u001b[0;32m   1150\u001b[0m \u001b[38;5;28;01melif\u001b[39;00m is_object_dtype(arr\u001b[38;5;241m.\u001b[39mdtype):\n\u001b[0;32m   1151\u001b[0m \n\u001b[0;32m   1152\u001b[0m     \u001b[38;5;66;03m# work around NumPy brokenness, #1987\u001b[39;00m\n\u001b[0;32m   1153\u001b[0m     \u001b[38;5;28;01mif\u001b[39;00m np\u001b[38;5;241m.\u001b[39missubdtype(dtype\u001b[38;5;241m.\u001b[39mtype, np\u001b[38;5;241m.\u001b[39minteger):\n\u001b[1;32m-> 1154\u001b[0m         \u001b[38;5;28;01mreturn\u001b[39;00m \u001b[43mlib\u001b[49m\u001b[38;5;241;43m.\u001b[39;49m\u001b[43mastype_intsafe\u001b[49m\u001b[43m(\u001b[49m\u001b[43marr\u001b[49m\u001b[43m,\u001b[49m\u001b[43m \u001b[49m\u001b[43mdtype\u001b[49m\u001b[43m)\u001b[49m\n\u001b[0;32m   1156\u001b[0m     \u001b[38;5;66;03m# if we have a datetime/timedelta array of objects\u001b[39;00m\n\u001b[0;32m   1157\u001b[0m     \u001b[38;5;66;03m# then coerce to a proper dtype and recall astype_nansafe\u001b[39;00m\n\u001b[0;32m   1159\u001b[0m     \u001b[38;5;28;01melif\u001b[39;00m is_datetime64_dtype(dtype):\n",
      "File \u001b[1;32mC:\\Python\\lib\\site-packages\\pandas\\_libs\\lib.pyx:668\u001b[0m, in \u001b[0;36mpandas._libs.lib.astype_intsafe\u001b[1;34m()\u001b[0m\n",
      "\u001b[1;31mValueError\u001b[0m: invalid literal for int() with base 10: 'Rp 7.950.000'"
     ]
    }
   ],
   "source": [
    "df.price.astype(int)\n",
    "df.info()"
   ]
  },
  {
   "cell_type": "code",
   "execution_count": 7,
   "metadata": {},
   "outputs": [
    {
     "output_type": "execute_result",
     "data": {
      "text/plain": [
       "                                                               name  \\\n",
       "0   Iphone 11 128GB Garansi Resmi TAM / Ibox - white, 64 New Packed   \n",
       "1                       IPhone 12 Garansi Resmi Ibox - Hijau, 64 gb   \n",
       "2                                        Iphone 12 mini 128GB - Red   \n",
       "3                                      Iphone 12 mini 128GB - White   \n",
       "4                             (OFFICIAL) Iphone 12 Pro 512GB - Gold   \n",
       "..                                                              ...   \n",
       "28                          Iphone 13 Pro Max 256gb - Garansi Resmi   \n",
       "29                                      Iphone 13 mini 256GB - Pink   \n",
       "30                        (OFFICIAL) Iphone 12 Pro 512GB - Graphite   \n",
       "31                                       Iphone 13 512GB - Midnight   \n",
       "32                                     Iphone 12 mini 128GB - Black   \n",
       "\n",
       "        price                             shop     location  \n",
       "0     7950000                                -            -  \n",
       "1    11599000                                -            -  \n",
       "2    10499000  Wellio Smartphone Official Shop  Kab. Bekasi  \n",
       "3    10499000  Wellio Smartphone Official Shop  Kab. Bekasi  \n",
       "4    19299000  Wellio Smartphone Official Shop  Kab. Bekasi  \n",
       "..        ...                              ...          ...  \n",
       "28   19991000                    Maju Hardware       Madiun  \n",
       "29   15999000  Wellio Smartphone Official Shop  Kab. Bekasi  \n",
       "30   19299000  Wellio Smartphone Official Shop  Kab. Bekasi  \n",
       "31   20099000  Wellio Smartphone Official Shop  Kab. Bekasi  \n",
       "32   10499000  Wellio Smartphone Official Shop  Kab. Bekasi  \n",
       "\n",
       "[175 rows x 4 columns]"
      ],
      "text/html": "<div>\n<style scoped>\n    .dataframe tbody tr th:only-of-type {\n        vertical-align: middle;\n    }\n\n    .dataframe tbody tr th {\n        vertical-align: top;\n    }\n\n    .dataframe thead th {\n        text-align: right;\n    }\n</style>\n<table border=\"1\" class=\"dataframe\">\n  <thead>\n    <tr style=\"text-align: right;\">\n      <th></th>\n      <th>name</th>\n      <th>price</th>\n      <th>shop</th>\n      <th>location</th>\n    </tr>\n  </thead>\n  <tbody>\n    <tr>\n      <th>0</th>\n      <td>Iphone 11 128GB Garansi Resmi TAM / Ibox - white, 64 New Packed</td>\n      <td>7950000</td>\n      <td>-</td>\n      <td>-</td>\n    </tr>\n    <tr>\n      <th>1</th>\n      <td>IPhone 12 Garansi Resmi Ibox - Hijau, 64 gb</td>\n      <td>11599000</td>\n      <td>-</td>\n      <td>-</td>\n    </tr>\n    <tr>\n      <th>2</th>\n      <td>Iphone 12 mini 128GB - Red</td>\n      <td>10499000</td>\n      <td>Wellio Smartphone Official Shop</td>\n      <td>Kab. Bekasi</td>\n    </tr>\n    <tr>\n      <th>3</th>\n      <td>Iphone 12 mini 128GB - White</td>\n      <td>10499000</td>\n      <td>Wellio Smartphone Official Shop</td>\n      <td>Kab. Bekasi</td>\n    </tr>\n    <tr>\n      <th>4</th>\n      <td>(OFFICIAL) Iphone 12 Pro 512GB - Gold</td>\n      <td>19299000</td>\n      <td>Wellio Smartphone Official Shop</td>\n      <td>Kab. Bekasi</td>\n    </tr>\n    <tr>\n      <th>...</th>\n      <td>...</td>\n      <td>...</td>\n      <td>...</td>\n      <td>...</td>\n    </tr>\n    <tr>\n      <th>28</th>\n      <td>Iphone 13 Pro Max 256gb - Garansi Resmi</td>\n      <td>19991000</td>\n      <td>Maju Hardware</td>\n      <td>Madiun</td>\n    </tr>\n    <tr>\n      <th>29</th>\n      <td>Iphone 13 mini 256GB - Pink</td>\n      <td>15999000</td>\n      <td>Wellio Smartphone Official Shop</td>\n      <td>Kab. Bekasi</td>\n    </tr>\n    <tr>\n      <th>30</th>\n      <td>(OFFICIAL) Iphone 12 Pro 512GB - Graphite</td>\n      <td>19299000</td>\n      <td>Wellio Smartphone Official Shop</td>\n      <td>Kab. Bekasi</td>\n    </tr>\n    <tr>\n      <th>31</th>\n      <td>Iphone 13 512GB - Midnight</td>\n      <td>20099000</td>\n      <td>Wellio Smartphone Official Shop</td>\n      <td>Kab. Bekasi</td>\n    </tr>\n    <tr>\n      <th>32</th>\n      <td>Iphone 12 mini 128GB - Black</td>\n      <td>10499000</td>\n      <td>Wellio Smartphone Official Shop</td>\n      <td>Kab. Bekasi</td>\n    </tr>\n  </tbody>\n</table>\n<p>175 rows × 4 columns</p>\n</div>"
     },
     "metadata": {},
     "execution_count": 7
    }
   ],
   "source": [
    "# cleaning price data\n",
    "price_list = []\n",
    "for p in df.price:\n",
    "    replace = re.sub(r\"\\.\", \"\", p.lstrip(\"Rp\"))\n",
    "    price_list.append(replace)\n",
    "df.price = price_list\n",
    "df"
   ]
  },
  {
   "cell_type": "code",
   "execution_count": 8,
   "metadata": {},
   "outputs": [],
   "source": [
    "df.price = df.price.astype(int)"
   ]
  },
  {
   "cell_type": "code",
   "execution_count": 9,
   "metadata": {},
   "outputs": [
    {
     "output_type": "stream",
     "name": "stdout",
     "text": [
      "<class 'pandas.core.frame.DataFrame'>\nInt64Index: 175 entries, 0 to 32\nData columns (total 4 columns):\n #   Column    Non-Null Count  Dtype \n---  ------    --------------  ----- \n 0   name      175 non-null    object\n 1   price     175 non-null    int32 \n 2   shop      175 non-null    object\n 3   location  175 non-null    object\ndtypes: int32(1), object(3)\nmemory usage: 4.1+ KB\n"
     ]
    }
   ],
   "source": [
    "df.info()"
   ]
  },
  {
   "cell_type": "code",
   "execution_count": 11,
   "metadata": {},
   "outputs": [
    {
     "output_type": "execute_result",
     "data": {
      "text/plain": [
       "                                                                  name  \\\n",
       "index                                                                    \n",
       "0      Iphone 11 128GB Garansi Resmi TAM / Ibox - white, 64 New Packed   \n",
       "1                          IPhone 12 Garansi Resmi Ibox - Hijau, 64 gb   \n",
       "2                                           Iphone 12 mini 128GB - Red   \n",
       "3                                         Iphone 12 mini 128GB - White   \n",
       "4                                (OFFICIAL) Iphone 12 Pro 512GB - Gold   \n",
       "...                                                                ...   \n",
       "170                            Iphone 13 Pro Max 256gb - Garansi Resmi   \n",
       "171                                        Iphone 13 mini 256GB - Pink   \n",
       "172                          (OFFICIAL) Iphone 12 Pro 512GB - Graphite   \n",
       "173                                         Iphone 13 512GB - Midnight   \n",
       "174                                       Iphone 12 mini 128GB - Black   \n",
       "\n",
       "          price                             shop     location  \n",
       "index                                                          \n",
       "0       7950000                                -            -  \n",
       "1      11599000                                -            -  \n",
       "2      10499000  Wellio Smartphone Official Shop  Kab. Bekasi  \n",
       "3      10499000  Wellio Smartphone Official Shop  Kab. Bekasi  \n",
       "4      19299000  Wellio Smartphone Official Shop  Kab. Bekasi  \n",
       "...         ...                              ...          ...  \n",
       "170    19991000                    Maju Hardware       Madiun  \n",
       "171    15999000  Wellio Smartphone Official Shop  Kab. Bekasi  \n",
       "172    19299000  Wellio Smartphone Official Shop  Kab. Bekasi  \n",
       "173    20099000  Wellio Smartphone Official Shop  Kab. Bekasi  \n",
       "174    10499000  Wellio Smartphone Official Shop  Kab. Bekasi  \n",
       "\n",
       "[175 rows x 4 columns]"
      ],
      "text/html": "<div>\n<style scoped>\n    .dataframe tbody tr th:only-of-type {\n        vertical-align: middle;\n    }\n\n    .dataframe tbody tr th {\n        vertical-align: top;\n    }\n\n    .dataframe thead th {\n        text-align: right;\n    }\n</style>\n<table border=\"1\" class=\"dataframe\">\n  <thead>\n    <tr style=\"text-align: right;\">\n      <th></th>\n      <th>name</th>\n      <th>price</th>\n      <th>shop</th>\n      <th>location</th>\n    </tr>\n    <tr>\n      <th>index</th>\n      <th></th>\n      <th></th>\n      <th></th>\n      <th></th>\n    </tr>\n  </thead>\n  <tbody>\n    <tr>\n      <th>0</th>\n      <td>Iphone 11 128GB Garansi Resmi TAM / Ibox - white, 64 New Packed</td>\n      <td>7950000</td>\n      <td>-</td>\n      <td>-</td>\n    </tr>\n    <tr>\n      <th>1</th>\n      <td>IPhone 12 Garansi Resmi Ibox - Hijau, 64 gb</td>\n      <td>11599000</td>\n      <td>-</td>\n      <td>-</td>\n    </tr>\n    <tr>\n      <th>2</th>\n      <td>Iphone 12 mini 128GB - Red</td>\n      <td>10499000</td>\n      <td>Wellio Smartphone Official Shop</td>\n      <td>Kab. Bekasi</td>\n    </tr>\n    <tr>\n      <th>3</th>\n      <td>Iphone 12 mini 128GB - White</td>\n      <td>10499000</td>\n      <td>Wellio Smartphone Official Shop</td>\n      <td>Kab. Bekasi</td>\n    </tr>\n    <tr>\n      <th>4</th>\n      <td>(OFFICIAL) Iphone 12 Pro 512GB - Gold</td>\n      <td>19299000</td>\n      <td>Wellio Smartphone Official Shop</td>\n      <td>Kab. Bekasi</td>\n    </tr>\n    <tr>\n      <th>...</th>\n      <td>...</td>\n      <td>...</td>\n      <td>...</td>\n      <td>...</td>\n    </tr>\n    <tr>\n      <th>170</th>\n      <td>Iphone 13 Pro Max 256gb - Garansi Resmi</td>\n      <td>19991000</td>\n      <td>Maju Hardware</td>\n      <td>Madiun</td>\n    </tr>\n    <tr>\n      <th>171</th>\n      <td>Iphone 13 mini 256GB - Pink</td>\n      <td>15999000</td>\n      <td>Wellio Smartphone Official Shop</td>\n      <td>Kab. Bekasi</td>\n    </tr>\n    <tr>\n      <th>172</th>\n      <td>(OFFICIAL) Iphone 12 Pro 512GB - Graphite</td>\n      <td>19299000</td>\n      <td>Wellio Smartphone Official Shop</td>\n      <td>Kab. Bekasi</td>\n    </tr>\n    <tr>\n      <th>173</th>\n      <td>Iphone 13 512GB - Midnight</td>\n      <td>20099000</td>\n      <td>Wellio Smartphone Official Shop</td>\n      <td>Kab. Bekasi</td>\n    </tr>\n    <tr>\n      <th>174</th>\n      <td>Iphone 12 mini 128GB - Black</td>\n      <td>10499000</td>\n      <td>Wellio Smartphone Official Shop</td>\n      <td>Kab. Bekasi</td>\n    </tr>\n  </tbody>\n</table>\n<p>175 rows × 4 columns</p>\n</div>"
     },
     "metadata": {},
     "execution_count": 11
    }
   ],
   "source": [
    "#set index\n",
    "df['index'] = [x for x in range(len(df.name))]\n",
    "df.set_index('index', inplace=True)\n",
    "df"
   ]
  },
  {
   "cell_type": "code",
   "execution_count": 12,
   "metadata": {},
   "outputs": [
    {
     "output_type": "execute_result",
     "data": {
      "text/plain": [
       "                                                                     name  \\\n",
       "index                                                                       \n",
       "40     Iphone 13 Mini 13 Pro Max Araree C-Sub Core Lens Camera Real Glass   \n",
       "50                     Case Iphone 13 Pro Max 13 Pro Uag [U] Dot Slim Fit   \n",
       "0         Iphone 11 128GB Garansi Resmi TAM / Ibox - white, 64 New Packed   \n",
       "142       Iphone 11 128GB Garansi Resmi TAM / Ibox - white, 64 New Packed   \n",
       "72        Iphone 11 128GB Garansi Resmi TAM / Ibox - white, 64 New Packed   \n",
       "...                                                                   ...   \n",
       "93                                                Iphone 13 Pro Max 512gb   \n",
       "153                    Apple Iphone 13 Pro Max 512gb Garansi Resmi [Ibox]   \n",
       "116                 Iphone 13 Pro Max Internal 1tb Garansi Resmi Tam Ibox   \n",
       "162                    Apple Iphone 13 Pro Max 1tb 6.7 Inch Garansi Resmi   \n",
       "28                             Iphone 13 Pro Max 256gb Garansi Resmi Ibox   \n",
       "\n",
       "          price                    shop       location  \n",
       "index                                                   \n",
       "40        86330        Primary Original  Jakarta Barat  \n",
       "50       494100  UAG OFFICIAL INDONESIA  Jakarta Barat  \n",
       "0       7950000                       -              -  \n",
       "142     7950000                       -              -  \n",
       "72      7950000                       -              -  \n",
       "...         ...                     ...            ...  \n",
       "93     27299000        OkeShopku Online  Jakarta Pusat  \n",
       "153    27500000            tokolasvegas       Surabaya  \n",
       "116    31299000         VJ Princellindo         Bekasi  \n",
       "162    31299000    Andalas Cellular Bpn     Balikpapan  \n",
       "28     31500000             enterphone2  Jakarta Pusat  \n",
       "\n",
       "[175 rows x 4 columns]"
      ],
      "text/html": "<div>\n<style scoped>\n    .dataframe tbody tr th:only-of-type {\n        vertical-align: middle;\n    }\n\n    .dataframe tbody tr th {\n        vertical-align: top;\n    }\n\n    .dataframe thead th {\n        text-align: right;\n    }\n</style>\n<table border=\"1\" class=\"dataframe\">\n  <thead>\n    <tr style=\"text-align: right;\">\n      <th></th>\n      <th>name</th>\n      <th>price</th>\n      <th>shop</th>\n      <th>location</th>\n    </tr>\n    <tr>\n      <th>index</th>\n      <th></th>\n      <th></th>\n      <th></th>\n      <th></th>\n    </tr>\n  </thead>\n  <tbody>\n    <tr>\n      <th>40</th>\n      <td>Iphone 13 Mini 13 Pro Max Araree C-Sub Core Lens Camera Real Glass</td>\n      <td>86330</td>\n      <td>Primary Original</td>\n      <td>Jakarta Barat</td>\n    </tr>\n    <tr>\n      <th>50</th>\n      <td>Case Iphone 13 Pro Max 13 Pro Uag [U] Dot Slim Fit</td>\n      <td>494100</td>\n      <td>UAG OFFICIAL INDONESIA</td>\n      <td>Jakarta Barat</td>\n    </tr>\n    <tr>\n      <th>0</th>\n      <td>Iphone 11 128GB Garansi Resmi TAM / Ibox - white, 64 New Packed</td>\n      <td>7950000</td>\n      <td>-</td>\n      <td>-</td>\n    </tr>\n    <tr>\n      <th>142</th>\n      <td>Iphone 11 128GB Garansi Resmi TAM / Ibox - white, 64 New Packed</td>\n      <td>7950000</td>\n      <td>-</td>\n      <td>-</td>\n    </tr>\n    <tr>\n      <th>72</th>\n      <td>Iphone 11 128GB Garansi Resmi TAM / Ibox - white, 64 New Packed</td>\n      <td>7950000</td>\n      <td>-</td>\n      <td>-</td>\n    </tr>\n    <tr>\n      <th>...</th>\n      <td>...</td>\n      <td>...</td>\n      <td>...</td>\n      <td>...</td>\n    </tr>\n    <tr>\n      <th>93</th>\n      <td>Iphone 13 Pro Max 512gb</td>\n      <td>27299000</td>\n      <td>OkeShopku Online</td>\n      <td>Jakarta Pusat</td>\n    </tr>\n    <tr>\n      <th>153</th>\n      <td>Apple Iphone 13 Pro Max 512gb Garansi Resmi [Ibox]</td>\n      <td>27500000</td>\n      <td>tokolasvegas</td>\n      <td>Surabaya</td>\n    </tr>\n    <tr>\n      <th>116</th>\n      <td>Iphone 13 Pro Max Internal 1tb Garansi Resmi Tam Ibox</td>\n      <td>31299000</td>\n      <td>VJ Princellindo</td>\n      <td>Bekasi</td>\n    </tr>\n    <tr>\n      <th>162</th>\n      <td>Apple Iphone 13 Pro Max 1tb 6.7 Inch Garansi Resmi</td>\n      <td>31299000</td>\n      <td>Andalas Cellular Bpn</td>\n      <td>Balikpapan</td>\n    </tr>\n    <tr>\n      <th>28</th>\n      <td>Iphone 13 Pro Max 256gb Garansi Resmi Ibox</td>\n      <td>31500000</td>\n      <td>enterphone2</td>\n      <td>Jakarta Pusat</td>\n    </tr>\n  </tbody>\n</table>\n<p>175 rows × 4 columns</p>\n</div>"
     },
     "metadata": {},
     "execution_count": 12
    }
   ],
   "source": [
    "# sort by price\n",
    "df.sort_values(by='price', ascending=True, inplace=True)\n",
    "df"
   ]
  },
  {
   "cell_type": "code",
   "execution_count": 13,
   "metadata": {},
   "outputs": [
    {
     "output_type": "execute_result",
     "data": {
      "text/plain": [
       "                                                                         name  \\\n",
       "index                                                                           \n",
       "11     Apple Iphone 13 Pro Max 128gb Ibox Dual Sim Green | Iphone 13 Mini 128   \n",
       "119                      Iphone 13 Pro Max 128gb Ibox / Single / Dual / Apple   \n",
       "22                     Apple Iphone 13 Pro Max 128gb Grs Resmi Ibox Indonesia   \n",
       "152     Iphone 13 Pro Max 128gb|256gb|512gb|1tb New Series - Garansi Ibox 1th   \n",
       "52                                              Apple Iphone 13 Pro Max 128gb   \n",
       "...                                                                       ...   \n",
       "37     Iphone 13 Pro Max 128gb / 256gb / 512gb / 1tb Garansi Resmi Tam / Ibox   \n",
       "155                Iphone 13 Pro Max 128gb | 256gb | 512gb Garansi Resmi Ibox   \n",
       "91      Iphone 13 Pro Max 128gb 256gb 512gb 1tb Blue Graphite Gold - Ibox 1th   \n",
       "137    Iphone 13 Pro Max 128gb 256gb 512gb 1tb Sierra Blue Graphite Gold Silv   \n",
       "41     Apple Iphone 13 Pro Max 128,256,512gb,1tb Garansi Resmi Ibox Indonesia   \n",
       "\n",
       "          price                     shop       location  \n",
       "index                                                    \n",
       "11     12765000            Studio Ponsel  Jakarta Pusat  \n",
       "119    17338000                   HokiHP  Jakarta Pusat  \n",
       "22     19349000                CMP phone  Jakarta Pusat  \n",
       "152    19359000             Doran Gadget       Surabaya  \n",
       "52     19499000  Bhinneka Official Store  Jakarta Utara  \n",
       "...         ...                      ...            ...  \n",
       "37     22135000         Kreasindo Online  Jakarta Pusat  \n",
       "155    22259000             Fenix Gadget       Surabaya  \n",
       "91     22259000           Gadget Channel  Jakarta Pusat  \n",
       "137    23625000              BeyondGames        Bandung  \n",
       "41     26079000              Ori Selular         Bekasi  \n",
       "\n",
       "[42 rows x 4 columns]"
      ],
      "text/html": "<div>\n<style scoped>\n    .dataframe tbody tr th:only-of-type {\n        vertical-align: middle;\n    }\n\n    .dataframe tbody tr th {\n        vertical-align: top;\n    }\n\n    .dataframe thead th {\n        text-align: right;\n    }\n</style>\n<table border=\"1\" class=\"dataframe\">\n  <thead>\n    <tr style=\"text-align: right;\">\n      <th></th>\n      <th>name</th>\n      <th>price</th>\n      <th>shop</th>\n      <th>location</th>\n    </tr>\n    <tr>\n      <th>index</th>\n      <th></th>\n      <th></th>\n      <th></th>\n      <th></th>\n    </tr>\n  </thead>\n  <tbody>\n    <tr>\n      <th>11</th>\n      <td>Apple Iphone 13 Pro Max 128gb Ibox Dual Sim Green | Iphone 13 Mini 128</td>\n      <td>12765000</td>\n      <td>Studio Ponsel</td>\n      <td>Jakarta Pusat</td>\n    </tr>\n    <tr>\n      <th>119</th>\n      <td>Iphone 13 Pro Max 128gb Ibox / Single / Dual / Apple</td>\n      <td>17338000</td>\n      <td>HokiHP</td>\n      <td>Jakarta Pusat</td>\n    </tr>\n    <tr>\n      <th>22</th>\n      <td>Apple Iphone 13 Pro Max 128gb Grs Resmi Ibox Indonesia</td>\n      <td>19349000</td>\n      <td>CMP phone</td>\n      <td>Jakarta Pusat</td>\n    </tr>\n    <tr>\n      <th>152</th>\n      <td>Iphone 13 Pro Max 128gb|256gb|512gb|1tb New Series - Garansi Ibox 1th</td>\n      <td>19359000</td>\n      <td>Doran Gadget</td>\n      <td>Surabaya</td>\n    </tr>\n    <tr>\n      <th>52</th>\n      <td>Apple Iphone 13 Pro Max 128gb</td>\n      <td>19499000</td>\n      <td>Bhinneka Official Store</td>\n      <td>Jakarta Utara</td>\n    </tr>\n    <tr>\n      <th>...</th>\n      <td>...</td>\n      <td>...</td>\n      <td>...</td>\n      <td>...</td>\n    </tr>\n    <tr>\n      <th>37</th>\n      <td>Iphone 13 Pro Max 128gb / 256gb / 512gb / 1tb Garansi Resmi Tam / Ibox</td>\n      <td>22135000</td>\n      <td>Kreasindo Online</td>\n      <td>Jakarta Pusat</td>\n    </tr>\n    <tr>\n      <th>155</th>\n      <td>Iphone 13 Pro Max 128gb | 256gb | 512gb Garansi Resmi Ibox</td>\n      <td>22259000</td>\n      <td>Fenix Gadget</td>\n      <td>Surabaya</td>\n    </tr>\n    <tr>\n      <th>91</th>\n      <td>Iphone 13 Pro Max 128gb 256gb 512gb 1tb Blue Graphite Gold - Ibox 1th</td>\n      <td>22259000</td>\n      <td>Gadget Channel</td>\n      <td>Jakarta Pusat</td>\n    </tr>\n    <tr>\n      <th>137</th>\n      <td>Iphone 13 Pro Max 128gb 256gb 512gb 1tb Sierra Blue Graphite Gold Silv</td>\n      <td>23625000</td>\n      <td>BeyondGames</td>\n      <td>Bandung</td>\n    </tr>\n    <tr>\n      <th>41</th>\n      <td>Apple Iphone 13 Pro Max 128,256,512gb,1tb Garansi Resmi Ibox Indonesia</td>\n      <td>26079000</td>\n      <td>Ori Selular</td>\n      <td>Bekasi</td>\n    </tr>\n  </tbody>\n</table>\n<p>42 rows × 4 columns</p>\n</div>"
     },
     "metadata": {},
     "execution_count": 13
    }
   ],
   "source": [
    "# Iphone 13 pro max has 3 variance: 128gb, 256gb, 512gb\n",
    "# i choose 128gb\n",
    "df = df[df.name.str.contains(r\"iphone 13 pro max 128\", case=False, regex=False)]\n",
    "df"
   ]
  },
  {
   "cell_type": "code",
   "execution_count": 32,
   "metadata": {},
   "outputs": [
    {
     "output_type": "execute_result",
     "data": {
      "text/plain": [
       "                                                                         name  \\\n",
       "index                                                                           \n",
       "11     Apple Iphone 13 Pro Max 128gb Ibox Dual Sim Green | Iphone 13 Mini 128   \n",
       "152     Iphone 13 Pro Max 128gb|256gb|512gb|1tb New Series - Garansi Ibox 1th   \n",
       "10             Iphone 13 Pro Max 128gb/256gb/512gb/1tb Garansi Resmi Ibox/Tam   \n",
       "78       Apple Iphone 13 Pro Max 128gb 256gb 512gb Binb New Ibox New Original   \n",
       "9      Apple Iphone 13 Pro Max 128gb | 256gb | 512gb | 1tb Garansi Resmi Ibox   \n",
       "18      Apple Iphone 13 Pro Max 128/256/512 Gb 1 Tb Rom 128 256 512gb 1tb Ios   \n",
       "23                    Iphone 13 Pro Max 128 256 512 Gb 1tb Garansi Resmi Ibox   \n",
       "65                      Iphone 13 Pro Max 128gb 256gb 512gb 1tb Garansi Resmi   \n",
       "98             Iphone 13 Pro Max 128gb/256gb/512gb/1tb Garansi Resmi Ibox/Tam   \n",
       "109                                   Iphone 13 Pro Max 128gb 256gb 512gb 1tb   \n",
       "156     Iphone 13 Pro Max 128gb | 256gb | 512gb | 1tb - Original Garansi Ibox   \n",
       "150                                       Iphone 13 Pro Max 128gb/256gb/512gb   \n",
       "124                (Ibox) Iphone 13 Pro Max 128gb / 256gb / 512gb / 1tb Resmi   \n",
       "60                      Iphone 13 Pro Max 128gb 256gb 512gb 1tb Garansi Resmi   \n",
       "37     Iphone 13 Pro Max 128gb / 256gb / 512gb / 1tb Garansi Resmi Tam / Ibox   \n",
       "155                Iphone 13 Pro Max 128gb | 256gb | 512gb Garansi Resmi Ibox   \n",
       "91      Iphone 13 Pro Max 128gb 256gb 512gb 1tb Blue Graphite Gold - Ibox 1th   \n",
       "137    Iphone 13 Pro Max 128gb 256gb 512gb 1tb Sierra Blue Graphite Gold Silv   \n",
       "41     Apple Iphone 13 Pro Max 128,256,512gb,1tb Garansi Resmi Ibox Indonesia   \n",
       "\n",
       "          price                    shop         location  \n",
       "index                                                     \n",
       "11     12765000           Studio Ponsel    Jakarta Pusat  \n",
       "152    19359000            Doran Gadget         Surabaya  \n",
       "10     19599000         Senjaya Selindo    Jakarta Pusat  \n",
       "78     19650000             kotakkatik_  Kab. Purwakarta  \n",
       "9      19699000          Universe Store    Jakarta Utara  \n",
       "18     19797000            SUPER_GADGET    Jakarta Pusat  \n",
       "23     19799000               Garasi.ku    Jakarta Pusat  \n",
       "65     19870000             Pandawatiga    Jakarta Pusat  \n",
       "98     19999000                Nic-cell    Jakarta Pusat  \n",
       "109    20059000              Gawai Mart    Jakarta Pusat  \n",
       "156    20179000   Doran Gadget Semarang         Semarang  \n",
       "150    20199000         alibabastore.id           Malang  \n",
       "124    20199000  Diamond Handphone Bali         Denpasar  \n",
       "60     21099000             Super Store    Jakarta Pusat  \n",
       "37     22135000        Kreasindo Online    Jakarta Pusat  \n",
       "155    22259000            Fenix Gadget         Surabaya  \n",
       "91     22259000          Gadget Channel    Jakarta Pusat  \n",
       "137    23625000             BeyondGames          Bandung  \n",
       "41     26079000             Ori Selular           Bekasi  "
      ],
      "text/html": "<div>\n<style scoped>\n    .dataframe tbody tr th:only-of-type {\n        vertical-align: middle;\n    }\n\n    .dataframe tbody tr th {\n        vertical-align: top;\n    }\n\n    .dataframe thead th {\n        text-align: right;\n    }\n</style>\n<table border=\"1\" class=\"dataframe\">\n  <thead>\n    <tr style=\"text-align: right;\">\n      <th></th>\n      <th>name</th>\n      <th>price</th>\n      <th>shop</th>\n      <th>location</th>\n    </tr>\n    <tr>\n      <th>index</th>\n      <th></th>\n      <th></th>\n      <th></th>\n      <th></th>\n    </tr>\n  </thead>\n  <tbody>\n    <tr>\n      <th>11</th>\n      <td>Apple Iphone 13 Pro Max 128gb Ibox Dual Sim Green | Iphone 13 Mini 128</td>\n      <td>12765000</td>\n      <td>Studio Ponsel</td>\n      <td>Jakarta Pusat</td>\n    </tr>\n    <tr>\n      <th>152</th>\n      <td>Iphone 13 Pro Max 128gb|256gb|512gb|1tb New Series - Garansi Ibox 1th</td>\n      <td>19359000</td>\n      <td>Doran Gadget</td>\n      <td>Surabaya</td>\n    </tr>\n    <tr>\n      <th>10</th>\n      <td>Iphone 13 Pro Max 128gb/256gb/512gb/1tb Garansi Resmi Ibox/Tam</td>\n      <td>19599000</td>\n      <td>Senjaya Selindo</td>\n      <td>Jakarta Pusat</td>\n    </tr>\n    <tr>\n      <th>78</th>\n      <td>Apple Iphone 13 Pro Max 128gb 256gb 512gb Binb New Ibox New Original</td>\n      <td>19650000</td>\n      <td>kotakkatik_</td>\n      <td>Kab. Purwakarta</td>\n    </tr>\n    <tr>\n      <th>9</th>\n      <td>Apple Iphone 13 Pro Max 128gb | 256gb | 512gb | 1tb Garansi Resmi Ibox</td>\n      <td>19699000</td>\n      <td>Universe Store</td>\n      <td>Jakarta Utara</td>\n    </tr>\n    <tr>\n      <th>18</th>\n      <td>Apple Iphone 13 Pro Max 128/256/512 Gb 1 Tb Rom 128 256 512gb 1tb Ios</td>\n      <td>19797000</td>\n      <td>SUPER_GADGET</td>\n      <td>Jakarta Pusat</td>\n    </tr>\n    <tr>\n      <th>23</th>\n      <td>Iphone 13 Pro Max 128 256 512 Gb 1tb Garansi Resmi Ibox</td>\n      <td>19799000</td>\n      <td>Garasi.ku</td>\n      <td>Jakarta Pusat</td>\n    </tr>\n    <tr>\n      <th>65</th>\n      <td>Iphone 13 Pro Max 128gb 256gb 512gb 1tb Garansi Resmi</td>\n      <td>19870000</td>\n      <td>Pandawatiga</td>\n      <td>Jakarta Pusat</td>\n    </tr>\n    <tr>\n      <th>98</th>\n      <td>Iphone 13 Pro Max 128gb/256gb/512gb/1tb Garansi Resmi Ibox/Tam</td>\n      <td>19999000</td>\n      <td>Nic-cell</td>\n      <td>Jakarta Pusat</td>\n    </tr>\n    <tr>\n      <th>109</th>\n      <td>Iphone 13 Pro Max 128gb 256gb 512gb 1tb</td>\n      <td>20059000</td>\n      <td>Gawai Mart</td>\n      <td>Jakarta Pusat</td>\n    </tr>\n    <tr>\n      <th>156</th>\n      <td>Iphone 13 Pro Max 128gb | 256gb | 512gb | 1tb - Original Garansi Ibox</td>\n      <td>20179000</td>\n      <td>Doran Gadget Semarang</td>\n      <td>Semarang</td>\n    </tr>\n    <tr>\n      <th>150</th>\n      <td>Iphone 13 Pro Max 128gb/256gb/512gb</td>\n      <td>20199000</td>\n      <td>alibabastore.id</td>\n      <td>Malang</td>\n    </tr>\n    <tr>\n      <th>124</th>\n      <td>(Ibox) Iphone 13 Pro Max 128gb / 256gb / 512gb / 1tb Resmi</td>\n      <td>20199000</td>\n      <td>Diamond Handphone Bali</td>\n      <td>Denpasar</td>\n    </tr>\n    <tr>\n      <th>60</th>\n      <td>Iphone 13 Pro Max 128gb 256gb 512gb 1tb Garansi Resmi</td>\n      <td>21099000</td>\n      <td>Super Store</td>\n      <td>Jakarta Pusat</td>\n    </tr>\n    <tr>\n      <th>37</th>\n      <td>Iphone 13 Pro Max 128gb / 256gb / 512gb / 1tb Garansi Resmi Tam / Ibox</td>\n      <td>22135000</td>\n      <td>Kreasindo Online</td>\n      <td>Jakarta Pusat</td>\n    </tr>\n    <tr>\n      <th>155</th>\n      <td>Iphone 13 Pro Max 128gb | 256gb | 512gb Garansi Resmi Ibox</td>\n      <td>22259000</td>\n      <td>Fenix Gadget</td>\n      <td>Surabaya</td>\n    </tr>\n    <tr>\n      <th>91</th>\n      <td>Iphone 13 Pro Max 128gb 256gb 512gb 1tb Blue Graphite Gold - Ibox 1th</td>\n      <td>22259000</td>\n      <td>Gadget Channel</td>\n      <td>Jakarta Pusat</td>\n    </tr>\n    <tr>\n      <th>137</th>\n      <td>Iphone 13 Pro Max 128gb 256gb 512gb 1tb Sierra Blue Graphite Gold Silv</td>\n      <td>23625000</td>\n      <td>BeyondGames</td>\n      <td>Bandung</td>\n    </tr>\n    <tr>\n      <th>41</th>\n      <td>Apple Iphone 13 Pro Max 128,256,512gb,1tb Garansi Resmi Ibox Indonesia</td>\n      <td>26079000</td>\n      <td>Ori Selular</td>\n      <td>Bekasi</td>\n    </tr>\n  </tbody>\n</table>\n</div>"
     },
     "metadata": {},
     "execution_count": 32
    }
   ],
   "source": [
    "# data still has noise\n",
    "# divide 128 only and 256 512 \n",
    "\n",
    "# 128,256 & 512(ambigu)\n",
    "\n",
    "ambigu = df.name.str.contains(r\"256\" or r\"512\", regex=False) | df.name.str.contains(r\"mini\", case=False, regex=False)\n",
    "\n",
    "df[ambigu]"
   ]
  },
  {
   "cell_type": "code",
   "execution_count": 33,
   "metadata": {},
   "outputs": [
    {
     "output_type": "execute_result",
     "data": {
      "text/plain": [
       "                                                                       name  \\\n",
       "index                                                                         \n",
       "119                    Iphone 13 Pro Max 128gb Ibox / Single / Dual / Apple   \n",
       "22                   Apple Iphone 13 Pro Max 128gb Grs Resmi Ibox Indonesia   \n",
       "52                                            Apple Iphone 13 Pro Max 128gb   \n",
       "63       Apple Iphone 13 Pro Max 128gb Garansi Resmi Tam / Ibox / Indonesia   \n",
       "158                    Apple Iphone 13 Pro Max 128gb Garansi Resmi Tam/Ibox   \n",
       "12                         Iphone 13 Pro Max 128gb Garansi Resmi Ibox / Tam   \n",
       "58                           Iphone 13 Pro Max 128gb Garansi Resmi Ibox Tam   \n",
       "17                           Iphone 13 Pro Max 128gb Garansi Resmi Tam/Ibox   \n",
       "46                               Iphone 13 Pro Max 128gb Garansi Resmi Ibox   \n",
       "123                                           Apple Iphone 13 Pro Max 128gb   \n",
       "34       Apple Iphone 13 Pro Max 128gb Garansi Resmi Ibox / Tam / Indonesia   \n",
       "43     Iphone 13 Pro Max 128gb Garansi Resmi Ibox | Apple Iphone 13 Pro Max   \n",
       "126                                                 Iphone 13 Pro Max 128gb   \n",
       "61                               Iphone 13 Pro Max 128gb Garansi Resmi Ibox   \n",
       "66                               Iphone 13 Pro Max 128gb Garansi Resmi Ibox   \n",
       "111                       Iphone 13 Pro Max 128gb Barang Baru Garansi Resmi   \n",
       "121                                           Apple Iphone 13 Pro Max 128gb   \n",
       "128                                           Apple Iphone 13 Pro Max 128gb   \n",
       "130                      Apple Iphone 13 Pro Max 128gb Garansi Resmi [Ibox]   \n",
       "160                    Apple Iphone 13 Pro Max 128gb 6.7 Inch Garansi Resmi   \n",
       "87                         (Official) Iphone 13 Pro Max 128gb - Sierra Blue   \n",
       "101                        (Official) Iphone 13 Pro Max 128gb - Sierra Blue   \n",
       "99                                                  Iphone 13 Pro Max 128gb   \n",
       "\n",
       "          price                             shop         location  \n",
       "index                                                              \n",
       "119    17338000                           HokiHP    Jakarta Pusat  \n",
       "22     19349000                        CMP phone    Jakarta Pusat  \n",
       "52     19499000          Bhinneka Official Store    Jakarta Utara  \n",
       "63     19639000                         Vote VIP    Jakarta Utara  \n",
       "158    19650000                      kotakkatik_  Kab. Purwakarta  \n",
       "12     19689000           PREMIUM OFFICIAL STORE           Bekasi  \n",
       "58     19689000                      Shadow Gold           Bekasi  \n",
       "17     19699000                    INTIKOM STORE            Medan  \n",
       "46     19699000              Rajaponsel Official          Bandung  \n",
       "123    19699000                    Indokom Store    Jakarta Pusat  \n",
       "34     19743000                 SFONE OMNI STORE  Jakarta Selatan  \n",
       "43     19799000                           Wijaya           Bekasi  \n",
       "126    19899000                Atlantic Cellular           Cimahi  \n",
       "61     19999000                      enterphone2    Jakarta Pusat  \n",
       "66     19999000                        JKT-PHONE    Jakarta Pusat  \n",
       "111    20199000              LotteMart Indonesia  Jakarta Selatan  \n",
       "121    20199000                             DOSS  Jakarta Selatan  \n",
       "128    20199000                        dossjogja      Kab. Sleman  \n",
       "130    20199000                     tokolasvegas         Surabaya  \n",
       "160    20199000             Andalas Cellular Bpn       Balikpapan  \n",
       "87     20699000  Wellio Smartphone Official Shop      Kab. Bekasi  \n",
       "101    20699000             Wellio Official Shop      Kab. Bekasi  \n",
       "99     21690100            ITC Roxy Mas Official    Jakarta Pusat  "
      ],
      "text/html": "<div>\n<style scoped>\n    .dataframe tbody tr th:only-of-type {\n        vertical-align: middle;\n    }\n\n    .dataframe tbody tr th {\n        vertical-align: top;\n    }\n\n    .dataframe thead th {\n        text-align: right;\n    }\n</style>\n<table border=\"1\" class=\"dataframe\">\n  <thead>\n    <tr style=\"text-align: right;\">\n      <th></th>\n      <th>name</th>\n      <th>price</th>\n      <th>shop</th>\n      <th>location</th>\n    </tr>\n    <tr>\n      <th>index</th>\n      <th></th>\n      <th></th>\n      <th></th>\n      <th></th>\n    </tr>\n  </thead>\n  <tbody>\n    <tr>\n      <th>119</th>\n      <td>Iphone 13 Pro Max 128gb Ibox / Single / Dual / Apple</td>\n      <td>17338000</td>\n      <td>HokiHP</td>\n      <td>Jakarta Pusat</td>\n    </tr>\n    <tr>\n      <th>22</th>\n      <td>Apple Iphone 13 Pro Max 128gb Grs Resmi Ibox Indonesia</td>\n      <td>19349000</td>\n      <td>CMP phone</td>\n      <td>Jakarta Pusat</td>\n    </tr>\n    <tr>\n      <th>52</th>\n      <td>Apple Iphone 13 Pro Max 128gb</td>\n      <td>19499000</td>\n      <td>Bhinneka Official Store</td>\n      <td>Jakarta Utara</td>\n    </tr>\n    <tr>\n      <th>63</th>\n      <td>Apple Iphone 13 Pro Max 128gb Garansi Resmi Tam / Ibox / Indonesia</td>\n      <td>19639000</td>\n      <td>Vote VIP</td>\n      <td>Jakarta Utara</td>\n    </tr>\n    <tr>\n      <th>158</th>\n      <td>Apple Iphone 13 Pro Max 128gb Garansi Resmi Tam/Ibox</td>\n      <td>19650000</td>\n      <td>kotakkatik_</td>\n      <td>Kab. Purwakarta</td>\n    </tr>\n    <tr>\n      <th>12</th>\n      <td>Iphone 13 Pro Max 128gb Garansi Resmi Ibox / Tam</td>\n      <td>19689000</td>\n      <td>PREMIUM OFFICIAL STORE</td>\n      <td>Bekasi</td>\n    </tr>\n    <tr>\n      <th>58</th>\n      <td>Iphone 13 Pro Max 128gb Garansi Resmi Ibox Tam</td>\n      <td>19689000</td>\n      <td>Shadow Gold</td>\n      <td>Bekasi</td>\n    </tr>\n    <tr>\n      <th>17</th>\n      <td>Iphone 13 Pro Max 128gb Garansi Resmi Tam/Ibox</td>\n      <td>19699000</td>\n      <td>INTIKOM STORE</td>\n      <td>Medan</td>\n    </tr>\n    <tr>\n      <th>46</th>\n      <td>Iphone 13 Pro Max 128gb Garansi Resmi Ibox</td>\n      <td>19699000</td>\n      <td>Rajaponsel Official</td>\n      <td>Bandung</td>\n    </tr>\n    <tr>\n      <th>123</th>\n      <td>Apple Iphone 13 Pro Max 128gb</td>\n      <td>19699000</td>\n      <td>Indokom Store</td>\n      <td>Jakarta Pusat</td>\n    </tr>\n    <tr>\n      <th>34</th>\n      <td>Apple Iphone 13 Pro Max 128gb Garansi Resmi Ibox / Tam / Indonesia</td>\n      <td>19743000</td>\n      <td>SFONE OMNI STORE</td>\n      <td>Jakarta Selatan</td>\n    </tr>\n    <tr>\n      <th>43</th>\n      <td>Iphone 13 Pro Max 128gb Garansi Resmi Ibox | Apple Iphone 13 Pro Max</td>\n      <td>19799000</td>\n      <td>Wijaya</td>\n      <td>Bekasi</td>\n    </tr>\n    <tr>\n      <th>126</th>\n      <td>Iphone 13 Pro Max 128gb</td>\n      <td>19899000</td>\n      <td>Atlantic Cellular</td>\n      <td>Cimahi</td>\n    </tr>\n    <tr>\n      <th>61</th>\n      <td>Iphone 13 Pro Max 128gb Garansi Resmi Ibox</td>\n      <td>19999000</td>\n      <td>enterphone2</td>\n      <td>Jakarta Pusat</td>\n    </tr>\n    <tr>\n      <th>66</th>\n      <td>Iphone 13 Pro Max 128gb Garansi Resmi Ibox</td>\n      <td>19999000</td>\n      <td>JKT-PHONE</td>\n      <td>Jakarta Pusat</td>\n    </tr>\n    <tr>\n      <th>111</th>\n      <td>Iphone 13 Pro Max 128gb Barang Baru Garansi Resmi</td>\n      <td>20199000</td>\n      <td>LotteMart Indonesia</td>\n      <td>Jakarta Selatan</td>\n    </tr>\n    <tr>\n      <th>121</th>\n      <td>Apple Iphone 13 Pro Max 128gb</td>\n      <td>20199000</td>\n      <td>DOSS</td>\n      <td>Jakarta Selatan</td>\n    </tr>\n    <tr>\n      <th>128</th>\n      <td>Apple Iphone 13 Pro Max 128gb</td>\n      <td>20199000</td>\n      <td>dossjogja</td>\n      <td>Kab. Sleman</td>\n    </tr>\n    <tr>\n      <th>130</th>\n      <td>Apple Iphone 13 Pro Max 128gb Garansi Resmi [Ibox]</td>\n      <td>20199000</td>\n      <td>tokolasvegas</td>\n      <td>Surabaya</td>\n    </tr>\n    <tr>\n      <th>160</th>\n      <td>Apple Iphone 13 Pro Max 128gb 6.7 Inch Garansi Resmi</td>\n      <td>20199000</td>\n      <td>Andalas Cellular Bpn</td>\n      <td>Balikpapan</td>\n    </tr>\n    <tr>\n      <th>87</th>\n      <td>(Official) Iphone 13 Pro Max 128gb - Sierra Blue</td>\n      <td>20699000</td>\n      <td>Wellio Smartphone Official Shop</td>\n      <td>Kab. Bekasi</td>\n    </tr>\n    <tr>\n      <th>101</th>\n      <td>(Official) Iphone 13 Pro Max 128gb - Sierra Blue</td>\n      <td>20699000</td>\n      <td>Wellio Official Shop</td>\n      <td>Kab. Bekasi</td>\n    </tr>\n    <tr>\n      <th>99</th>\n      <td>Iphone 13 Pro Max 128gb</td>\n      <td>21690100</td>\n      <td>ITC Roxy Mas Official</td>\n      <td>Jakarta Pusat</td>\n    </tr>\n  </tbody>\n</table>\n</div>"
     },
     "metadata": {},
     "execution_count": 33
    }
   ],
   "source": [
    "# 128 only(normal)\n",
    "\n",
    "df[~ambigu]"
   ]
  },
  {
   "cell_type": "code",
   "execution_count": 34,
   "metadata": {},
   "outputs": [
    {
     "output_type": "execute_result",
     "data": {
      "text/plain": [
       "<AxesSubplot:>"
      ]
     },
     "metadata": {},
     "execution_count": 34
    },
    {
     "output_type": "display_data",
     "data": {
      "text/plain": "<Figure size 640x480 with 1 Axes>",
      "image/svg+xml": "<?xml version=\"1.0\" encoding=\"utf-8\" standalone=\"no\"?>\n<!DOCTYPE svg PUBLIC \"-//W3C//DTD SVG 1.1//EN\"\n  \"http://www.w3.org/Graphics/SVG/1.1/DTD/svg11.dtd\">\n<svg xmlns:xlink=\"http://www.w3.org/1999/xlink\" width=\"394.423125pt\" height=\"307.788562pt\" viewBox=\"0 0 394.423125 307.788562\" xmlns=\"http://www.w3.org/2000/svg\" version=\"1.1\">\n <metadata>\n  <rdf:RDF xmlns:dc=\"http://purl.org/dc/elements/1.1/\" xmlns:cc=\"http://creativecommons.org/ns#\" xmlns:rdf=\"http://www.w3.org/1999/02/22-rdf-syntax-ns#\">\n   <cc:Work>\n    <dc:type rdf:resource=\"http://purl.org/dc/dcmitype/StillImage\"/>\n    <dc:date>2022-06-27T04:41:13.654650</dc:date>\n    <dc:format>image/svg+xml</dc:format>\n    <dc:creator>\n     <cc:Agent>\n      <dc:title>Matplotlib v3.5.2, https://matplotlib.org/</dc:title>\n     </cc:Agent>\n    </dc:creator>\n   </cc:Work>\n  </rdf:RDF>\n </metadata>\n <defs>\n  <style type=\"text/css\">*{stroke-linejoin: round; stroke-linecap: butt}</style>\n </defs>\n <g id=\"figure_1\">\n  <g id=\"patch_1\">\n   <path d=\"M 0 307.788562 \nL 394.423125 307.788562 \nL 394.423125 0 \nL 0 0 \nz\n\" style=\"fill: #ffffff\"/>\n  </g>\n  <g id=\"axes_1\">\n   <g id=\"patch_2\">\n    <path d=\"M 30.103125 283.910437 \nL 387.223125 283.910437 \nL 387.223125 17.798437 \nL 30.103125 17.798437 \nz\n\" style=\"fill: #ffffff\"/>\n   </g>\n   <g id=\"matplotlib.axis_1\">\n    <g id=\"xtick_1\">\n     <g id=\"line2d_1\">\n      <path d=\"M 208.663125 283.910437 \nL 208.663125 17.798437 \n\" clip-path=\"url(#p450a8dbc09)\" style=\"fill: none; stroke: #b0b0b0; stroke-width: 0.8; stroke-linecap: square\"/>\n     </g>\n     <g id=\"line2d_2\">\n      <defs>\n       <path id=\"m63f9bda045\" d=\"M 0 0 \nL 0 3.5 \n\" style=\"stroke: #000000; stroke-width: 0.8\"/>\n      </defs>\n      <g>\n       <use xlink:href=\"#m63f9bda045\" x=\"208.663125\" y=\"283.910437\" style=\"stroke: #000000; stroke-width: 0.8\"/>\n      </g>\n     </g>\n     <g id=\"text_1\">\n      <!-- price -->\n      <g transform=\"translate(196.218594 298.508875)scale(0.1 -0.1)\">\n       <defs>\n        <path id=\"DejaVuSans-70\" d=\"M 1159 525 \nL 1159 -1331 \nL 581 -1331 \nL 581 3500 \nL 1159 3500 \nL 1159 2969 \nQ 1341 3281 1617 3432 \nQ 1894 3584 2278 3584 \nQ 2916 3584 3314 3078 \nQ 3713 2572 3713 1747 \nQ 3713 922 3314 415 \nQ 2916 -91 2278 -91 \nQ 1894 -91 1617 61 \nQ 1341 213 1159 525 \nz\nM 3116 1747 \nQ 3116 2381 2855 2742 \nQ 2594 3103 2138 3103 \nQ 1681 3103 1420 2742 \nQ 1159 2381 1159 1747 \nQ 1159 1113 1420 752 \nQ 1681 391 2138 391 \nQ 2594 391 2855 752 \nQ 3116 1113 3116 1747 \nz\n\" transform=\"scale(0.015625)\"/>\n        <path id=\"DejaVuSans-72\" d=\"M 2631 2963 \nQ 2534 3019 2420 3045 \nQ 2306 3072 2169 3072 \nQ 1681 3072 1420 2755 \nQ 1159 2438 1159 1844 \nL 1159 0 \nL 581 0 \nL 581 3500 \nL 1159 3500 \nL 1159 2956 \nQ 1341 3275 1631 3429 \nQ 1922 3584 2338 3584 \nQ 2397 3584 2469 3576 \nQ 2541 3569 2628 3553 \nL 2631 2963 \nz\n\" transform=\"scale(0.015625)\"/>\n        <path id=\"DejaVuSans-69\" d=\"M 603 3500 \nL 1178 3500 \nL 1178 0 \nL 603 0 \nL 603 3500 \nz\nM 603 4863 \nL 1178 4863 \nL 1178 4134 \nL 603 4134 \nL 603 4863 \nz\n\" transform=\"scale(0.015625)\"/>\n        <path id=\"DejaVuSans-63\" d=\"M 3122 3366 \nL 3122 2828 \nQ 2878 2963 2633 3030 \nQ 2388 3097 2138 3097 \nQ 1578 3097 1268 2742 \nQ 959 2388 959 1747 \nQ 959 1106 1268 751 \nQ 1578 397 2138 397 \nQ 2388 397 2633 464 \nQ 2878 531 3122 666 \nL 3122 134 \nQ 2881 22 2623 -34 \nQ 2366 -91 2075 -91 \nQ 1284 -91 818 406 \nQ 353 903 353 1747 \nQ 353 2603 823 3093 \nQ 1294 3584 2113 3584 \nQ 2378 3584 2631 3529 \nQ 2884 3475 3122 3366 \nz\n\" transform=\"scale(0.015625)\"/>\n        <path id=\"DejaVuSans-65\" d=\"M 3597 1894 \nL 3597 1613 \nL 953 1613 \nQ 991 1019 1311 708 \nQ 1631 397 2203 397 \nQ 2534 397 2845 478 \nQ 3156 559 3463 722 \nL 3463 178 \nQ 3153 47 2828 -22 \nQ 2503 -91 2169 -91 \nQ 1331 -91 842 396 \nQ 353 884 353 1716 \nQ 353 2575 817 3079 \nQ 1281 3584 2069 3584 \nQ 2775 3584 3186 3129 \nQ 3597 2675 3597 1894 \nz\nM 3022 2063 \nQ 3016 2534 2758 2815 \nQ 2500 3097 2075 3097 \nQ 1594 3097 1305 2825 \nQ 1016 2553 972 2059 \nL 3022 2063 \nz\n\" transform=\"scale(0.015625)\"/>\n       </defs>\n       <use xlink:href=\"#DejaVuSans-70\"/>\n       <use xlink:href=\"#DejaVuSans-72\" x=\"63.476562\"/>\n       <use xlink:href=\"#DejaVuSans-69\" x=\"104.589844\"/>\n       <use xlink:href=\"#DejaVuSans-63\" x=\"132.373047\"/>\n       <use xlink:href=\"#DejaVuSans-65\" x=\"187.353516\"/>\n      </g>\n     </g>\n    </g>\n   </g>\n   <g id=\"matplotlib.axis_2\">\n    <g id=\"ytick_1\">\n     <g id=\"line2d_3\">\n      <path d=\"M 30.103125 235.015871 \nL 387.223125 235.015871 \n\" clip-path=\"url(#p450a8dbc09)\" style=\"fill: none; stroke: #b0b0b0; stroke-width: 0.8; stroke-linecap: square\"/>\n     </g>\n     <g id=\"line2d_4\">\n      <defs>\n       <path id=\"mafe4fc508d\" d=\"M 0 0 \nL -3.5 0 \n\" style=\"stroke: #000000; stroke-width: 0.8\"/>\n      </defs>\n      <g>\n       <use xlink:href=\"#mafe4fc508d\" x=\"30.103125\" y=\"235.015871\" style=\"stroke: #000000; stroke-width: 0.8\"/>\n      </g>\n     </g>\n     <g id=\"text_2\">\n      <!-- 1.8 -->\n      <g transform=\"translate(7.2 238.81509)scale(0.1 -0.1)\">\n       <defs>\n        <path id=\"DejaVuSans-31\" d=\"M 794 531 \nL 1825 531 \nL 1825 4091 \nL 703 3866 \nL 703 4441 \nL 1819 4666 \nL 2450 4666 \nL 2450 531 \nL 3481 531 \nL 3481 0 \nL 794 0 \nL 794 531 \nz\n\" transform=\"scale(0.015625)\"/>\n        <path id=\"DejaVuSans-2e\" d=\"M 684 794 \nL 1344 794 \nL 1344 0 \nL 684 0 \nL 684 794 \nz\n\" transform=\"scale(0.015625)\"/>\n        <path id=\"DejaVuSans-38\" d=\"M 2034 2216 \nQ 1584 2216 1326 1975 \nQ 1069 1734 1069 1313 \nQ 1069 891 1326 650 \nQ 1584 409 2034 409 \nQ 2484 409 2743 651 \nQ 3003 894 3003 1313 \nQ 3003 1734 2745 1975 \nQ 2488 2216 2034 2216 \nz\nM 1403 2484 \nQ 997 2584 770 2862 \nQ 544 3141 544 3541 \nQ 544 4100 942 4425 \nQ 1341 4750 2034 4750 \nQ 2731 4750 3128 4425 \nQ 3525 4100 3525 3541 \nQ 3525 3141 3298 2862 \nQ 3072 2584 2669 2484 \nQ 3125 2378 3379 2068 \nQ 3634 1759 3634 1313 \nQ 3634 634 3220 271 \nQ 2806 -91 2034 -91 \nQ 1263 -91 848 271 \nQ 434 634 434 1313 \nQ 434 1759 690 2068 \nQ 947 2378 1403 2484 \nz\nM 1172 3481 \nQ 1172 3119 1398 2916 \nQ 1625 2713 2034 2713 \nQ 2441 2713 2670 2916 \nQ 2900 3119 2900 3481 \nQ 2900 3844 2670 4047 \nQ 2441 4250 2034 4250 \nQ 1625 4250 1398 4047 \nQ 1172 3844 1172 3481 \nz\n\" transform=\"scale(0.015625)\"/>\n       </defs>\n       <use xlink:href=\"#DejaVuSans-31\"/>\n       <use xlink:href=\"#DejaVuSans-2e\" x=\"63.623047\"/>\n       <use xlink:href=\"#DejaVuSans-38\" x=\"95.410156\"/>\n      </g>\n     </g>\n    </g>\n    <g id=\"ytick_2\">\n     <g id=\"line2d_5\">\n      <path d=\"M 30.103125 179.428913 \nL 387.223125 179.428913 \n\" clip-path=\"url(#p450a8dbc09)\" style=\"fill: none; stroke: #b0b0b0; stroke-width: 0.8; stroke-linecap: square\"/>\n     </g>\n     <g id=\"line2d_6\">\n      <g>\n       <use xlink:href=\"#mafe4fc508d\" x=\"30.103125\" y=\"179.428913\" style=\"stroke: #000000; stroke-width: 0.8\"/>\n      </g>\n     </g>\n     <g id=\"text_3\">\n      <!-- 1.9 -->\n      <g transform=\"translate(7.2 183.228132)scale(0.1 -0.1)\">\n       <defs>\n        <path id=\"DejaVuSans-39\" d=\"M 703 97 \nL 703 672 \nQ 941 559 1184 500 \nQ 1428 441 1663 441 \nQ 2288 441 2617 861 \nQ 2947 1281 2994 2138 \nQ 2813 1869 2534 1725 \nQ 2256 1581 1919 1581 \nQ 1219 1581 811 2004 \nQ 403 2428 403 3163 \nQ 403 3881 828 4315 \nQ 1253 4750 1959 4750 \nQ 2769 4750 3195 4129 \nQ 3622 3509 3622 2328 \nQ 3622 1225 3098 567 \nQ 2575 -91 1691 -91 \nQ 1453 -91 1209 -44 \nQ 966 3 703 97 \nz\nM 1959 2075 \nQ 2384 2075 2632 2365 \nQ 2881 2656 2881 3163 \nQ 2881 3666 2632 3958 \nQ 2384 4250 1959 4250 \nQ 1534 4250 1286 3958 \nQ 1038 3666 1038 3163 \nQ 1038 2656 1286 2365 \nQ 1534 2075 1959 2075 \nz\n\" transform=\"scale(0.015625)\"/>\n       </defs>\n       <use xlink:href=\"#DejaVuSans-31\"/>\n       <use xlink:href=\"#DejaVuSans-2e\" x=\"63.623047\"/>\n       <use xlink:href=\"#DejaVuSans-39\" x=\"95.410156\"/>\n      </g>\n     </g>\n    </g>\n    <g id=\"ytick_3\">\n     <g id=\"line2d_7\">\n      <path d=\"M 30.103125 123.841955 \nL 387.223125 123.841955 \n\" clip-path=\"url(#p450a8dbc09)\" style=\"fill: none; stroke: #b0b0b0; stroke-width: 0.8; stroke-linecap: square\"/>\n     </g>\n     <g id=\"line2d_8\">\n      <g>\n       <use xlink:href=\"#mafe4fc508d\" x=\"30.103125\" y=\"123.841955\" style=\"stroke: #000000; stroke-width: 0.8\"/>\n      </g>\n     </g>\n     <g id=\"text_4\">\n      <!-- 2.0 -->\n      <g transform=\"translate(7.2 127.641174)scale(0.1 -0.1)\">\n       <defs>\n        <path id=\"DejaVuSans-32\" d=\"M 1228 531 \nL 3431 531 \nL 3431 0 \nL 469 0 \nL 469 531 \nQ 828 903 1448 1529 \nQ 2069 2156 2228 2338 \nQ 2531 2678 2651 2914 \nQ 2772 3150 2772 3378 \nQ 2772 3750 2511 3984 \nQ 2250 4219 1831 4219 \nQ 1534 4219 1204 4116 \nQ 875 4013 500 3803 \nL 500 4441 \nQ 881 4594 1212 4672 \nQ 1544 4750 1819 4750 \nQ 2544 4750 2975 4387 \nQ 3406 4025 3406 3419 \nQ 3406 3131 3298 2873 \nQ 3191 2616 2906 2266 \nQ 2828 2175 2409 1742 \nQ 1991 1309 1228 531 \nz\n\" transform=\"scale(0.015625)\"/>\n        <path id=\"DejaVuSans-30\" d=\"M 2034 4250 \nQ 1547 4250 1301 3770 \nQ 1056 3291 1056 2328 \nQ 1056 1369 1301 889 \nQ 1547 409 2034 409 \nQ 2525 409 2770 889 \nQ 3016 1369 3016 2328 \nQ 3016 3291 2770 3770 \nQ 2525 4250 2034 4250 \nz\nM 2034 4750 \nQ 2819 4750 3233 4129 \nQ 3647 3509 3647 2328 \nQ 3647 1150 3233 529 \nQ 2819 -91 2034 -91 \nQ 1250 -91 836 529 \nQ 422 1150 422 2328 \nQ 422 3509 836 4129 \nQ 1250 4750 2034 4750 \nz\n\" transform=\"scale(0.015625)\"/>\n       </defs>\n       <use xlink:href=\"#DejaVuSans-32\"/>\n       <use xlink:href=\"#DejaVuSans-2e\" x=\"63.623047\"/>\n       <use xlink:href=\"#DejaVuSans-30\" x=\"95.410156\"/>\n      </g>\n     </g>\n    </g>\n    <g id=\"ytick_4\">\n     <g id=\"line2d_9\">\n      <path d=\"M 30.103125 68.254997 \nL 387.223125 68.254997 \n\" clip-path=\"url(#p450a8dbc09)\" style=\"fill: none; stroke: #b0b0b0; stroke-width: 0.8; stroke-linecap: square\"/>\n     </g>\n     <g id=\"line2d_10\">\n      <g>\n       <use xlink:href=\"#mafe4fc508d\" x=\"30.103125\" y=\"68.254997\" style=\"stroke: #000000; stroke-width: 0.8\"/>\n      </g>\n     </g>\n     <g id=\"text_5\">\n      <!-- 2.1 -->\n      <g transform=\"translate(7.2 72.054216)scale(0.1 -0.1)\">\n       <use xlink:href=\"#DejaVuSans-32\"/>\n       <use xlink:href=\"#DejaVuSans-2e\" x=\"63.623047\"/>\n       <use xlink:href=\"#DejaVuSans-31\" x=\"95.410156\"/>\n      </g>\n     </g>\n    </g>\n    <g id=\"text_6\">\n     <!-- 1e7 -->\n     <g transform=\"translate(30.103125 14.798437)scale(0.1 -0.1)\">\n      <defs>\n       <path id=\"DejaVuSans-37\" d=\"M 525 4666 \nL 3525 4666 \nL 3525 4397 \nL 1831 0 \nL 1172 0 \nL 2766 4134 \nL 525 4134 \nL 525 4666 \nz\n\" transform=\"scale(0.015625)\"/>\n      </defs>\n      <use xlink:href=\"#DejaVuSans-31\"/>\n      <use xlink:href=\"#DejaVuSans-65\" x=\"63.623047\"/>\n      <use xlink:href=\"#DejaVuSans-37\" x=\"125.146484\"/>\n     </g>\n    </g>\n   </g>\n   <g id=\"line2d_11\">\n    <path d=\"M 181.879125 141.129499 \nL 235.447125 141.129499 \nL 235.447125 112.780151 \nL 181.879125 112.780151 \nL 181.879125 141.129499 \n\" clip-path=\"url(#p450a8dbc09)\" style=\"fill: none; stroke: #1f77b4; stroke-linecap: square\"/>\n   </g>\n   <g id=\"line2d_12\">\n    <path d=\"M 208.663125 141.129499 \nL 208.663125 160.029065 \n\" clip-path=\"url(#p450a8dbc09)\" style=\"fill: none; stroke: #1f77b4; stroke-linecap: square\"/>\n   </g>\n   <g id=\"line2d_13\">\n    <path d=\"M 208.663125 112.780151 \nL 208.663125 84.986672 \n\" clip-path=\"url(#p450a8dbc09)\" style=\"fill: none; stroke: #1f77b4; stroke-linecap: square\"/>\n   </g>\n   <g id=\"line2d_14\">\n    <path d=\"M 195.271125 160.029065 \nL 222.055125 160.029065 \n\" clip-path=\"url(#p450a8dbc09)\" style=\"fill: none; stroke: #000000; stroke-linecap: square\"/>\n   </g>\n   <g id=\"line2d_15\">\n    <path d=\"M 195.271125 84.986672 \nL 222.055125 84.986672 \n\" clip-path=\"url(#p450a8dbc09)\" style=\"fill: none; stroke: #000000; stroke-linecap: square\"/>\n   </g>\n   <g id=\"line2d_16\">\n    <defs>\n     <path id=\"me52b61e846\" d=\"M 0 3 \nC 0.795609 3 1.55874 2.683901 2.12132 2.12132 \nC 2.683901 1.55874 3 0.795609 3 0 \nC 3 -0.795609 2.683901 -1.55874 2.12132 -2.12132 \nC 1.55874 -2.683901 0.795609 -3 0 -3 \nC -0.795609 -3 -1.55874 -2.683901 -2.12132 -2.12132 \nC -2.683901 -1.55874 -3 -0.795609 -3 0 \nC -3 0.795609 -2.683901 1.55874 -2.12132 2.12132 \nC -1.55874 2.683901 -0.795609 3 0 3 \nz\n\" style=\"stroke: #000000\"/>\n    </defs>\n    <g clip-path=\"url(#p450a8dbc09)\">\n     <use xlink:href=\"#me52b61e846\" x=\"208.663125\" y=\"271.814438\" style=\"fill-opacity: 0; stroke: #000000\"/>\n     <use xlink:href=\"#me52b61e846\" x=\"208.663125\" y=\"29.894438\" style=\"fill-opacity: 0; stroke: #000000\"/>\n    </g>\n   </g>\n   <g id=\"line2d_17\">\n    <path d=\"M 181.879125 135.014934 \nL 235.447125 135.014934 \n\" clip-path=\"url(#p450a8dbc09)\" style=\"fill: none; stroke: #2ca02c; stroke-linecap: square\"/>\n   </g>\n   <g id=\"patch_3\">\n    <path d=\"M 30.103125 283.910438 \nL 30.103125 17.798438 \n\" style=\"fill: none; stroke: #000000; stroke-width: 0.8; stroke-linejoin: miter; stroke-linecap: square\"/>\n   </g>\n   <g id=\"patch_4\">\n    <path d=\"M 387.223125 283.910438 \nL 387.223125 17.798438 \n\" style=\"fill: none; stroke: #000000; stroke-width: 0.8; stroke-linejoin: miter; stroke-linecap: square\"/>\n   </g>\n   <g id=\"patch_5\">\n    <path d=\"M 30.103125 283.910437 \nL 387.223125 283.910437 \n\" style=\"fill: none; stroke: #000000; stroke-width: 0.8; stroke-linejoin: miter; stroke-linecap: square\"/>\n   </g>\n   <g id=\"patch_6\">\n    <path d=\"M 30.103125 17.798437 \nL 387.223125 17.798437 \n\" style=\"fill: none; stroke: #000000; stroke-width: 0.8; stroke-linejoin: miter; stroke-linecap: square\"/>\n   </g>\n  </g>\n </g>\n <defs>\n  <clipPath id=\"p450a8dbc09\">\n   <rect x=\"30.103125\" y=\"17.798437\" width=\"357.12\" height=\"266.112\"/>\n  </clipPath>\n </defs>\n</svg>\n",
      "image/png": "[encoded data removed]"
     },
     "metadata": {}
    }
   ],
   "source": [
    "# deteksi outlier produk normal\n",
    "df[~ambigu].boxplot('price')"
   ]
  },
  {
   "cell_type": "code",
   "execution_count": 35,
   "metadata": {},
   "outputs": [
    {
     "output_type": "execute_result",
     "data": {
      "text/plain": [
       "count    2.300000e+01\n",
       "mean     1.989009e+07\n",
       "std      7.492291e+05\n",
       "min      1.733800e+07\n",
       "25%      1.968900e+07\n",
       "50%      1.979900e+07\n",
       "75%      2.019900e+07\n",
       "max      2.169010e+07\n",
       "Name: price, dtype: float64"
      ]
     },
     "metadata": {},
     "execution_count": 35
    }
   ],
   "source": [
    "df[~ambigu].price.describe()"
   ]
  },
  {
   "cell_type": "code",
   "execution_count": 47,
   "metadata": {},
   "outputs": [
    {
     "output_type": "execute_result",
     "data": {
      "text/plain": [
       "                                                                         name  \\\n",
       "index                                                                           \n",
       "11     Apple Iphone 13 Pro Max 128gb Ibox Dual Sim Green | Iphone 13 Mini 128   \n",
       "119                      Iphone 13 Pro Max 128gb Ibox / Single / Dual / Apple   \n",
       "22                     Apple Iphone 13 Pro Max 128gb Grs Resmi Ibox Indonesia   \n",
       "152     Iphone 13 Pro Max 128gb|256gb|512gb|1tb New Series - Garansi Ibox 1th   \n",
       "52                                              Apple Iphone 13 Pro Max 128gb   \n",
       "10             Iphone 13 Pro Max 128gb/256gb/512gb/1tb Garansi Resmi Ibox/Tam   \n",
       "63         Apple Iphone 13 Pro Max 128gb Garansi Resmi Tam / Ibox / Indonesia   \n",
       "158                      Apple Iphone 13 Pro Max 128gb Garansi Resmi Tam/Ibox   \n",
       "78       Apple Iphone 13 Pro Max 128gb 256gb 512gb Binb New Ibox New Original   \n",
       "12                           Iphone 13 Pro Max 128gb Garansi Resmi Ibox / Tam   \n",
       "58                             Iphone 13 Pro Max 128gb Garansi Resmi Ibox Tam   \n",
       "17                             Iphone 13 Pro Max 128gb Garansi Resmi Tam/Ibox   \n",
       "46                                 Iphone 13 Pro Max 128gb Garansi Resmi Ibox   \n",
       "123                                             Apple Iphone 13 Pro Max 128gb   \n",
       "9      Apple Iphone 13 Pro Max 128gb | 256gb | 512gb | 1tb Garansi Resmi Ibox   \n",
       "34         Apple Iphone 13 Pro Max 128gb Garansi Resmi Ibox / Tam / Indonesia   \n",
       "18      Apple Iphone 13 Pro Max 128/256/512 Gb 1 Tb Rom 128 256 512gb 1tb Ios   \n",
       "43       Iphone 13 Pro Max 128gb Garansi Resmi Ibox | Apple Iphone 13 Pro Max   \n",
       "23                    Iphone 13 Pro Max 128 256 512 Gb 1tb Garansi Resmi Ibox   \n",
       "65                      Iphone 13 Pro Max 128gb 256gb 512gb 1tb Garansi Resmi   \n",
       "126                                                   Iphone 13 Pro Max 128gb   \n",
       "98             Iphone 13 Pro Max 128gb/256gb/512gb/1tb Garansi Resmi Ibox/Tam   \n",
       "61                                 Iphone 13 Pro Max 128gb Garansi Resmi Ibox   \n",
       "66                                 Iphone 13 Pro Max 128gb Garansi Resmi Ibox   \n",
       "109                                   Iphone 13 Pro Max 128gb 256gb 512gb 1tb   \n",
       "156     Iphone 13 Pro Max 128gb | 256gb | 512gb | 1tb - Original Garansi Ibox   \n",
       "150                                       Iphone 13 Pro Max 128gb/256gb/512gb   \n",
       "111                         Iphone 13 Pro Max 128gb Barang Baru Garansi Resmi   \n",
       "121                                             Apple Iphone 13 Pro Max 128gb   \n",
       "124                (Ibox) Iphone 13 Pro Max 128gb / 256gb / 512gb / 1tb Resmi   \n",
       "128                                             Apple Iphone 13 Pro Max 128gb   \n",
       "130                        Apple Iphone 13 Pro Max 128gb Garansi Resmi [Ibox]   \n",
       "160                      Apple Iphone 13 Pro Max 128gb 6.7 Inch Garansi Resmi   \n",
       "87                           (Official) Iphone 13 Pro Max 128gb - Sierra Blue   \n",
       "101                          (Official) Iphone 13 Pro Max 128gb - Sierra Blue   \n",
       "60                      Iphone 13 Pro Max 128gb 256gb 512gb 1tb Garansi Resmi   \n",
       "99                                                    Iphone 13 Pro Max 128gb   \n",
       "37     Iphone 13 Pro Max 128gb / 256gb / 512gb / 1tb Garansi Resmi Tam / Ibox   \n",
       "155                Iphone 13 Pro Max 128gb | 256gb | 512gb Garansi Resmi Ibox   \n",
       "91      Iphone 13 Pro Max 128gb 256gb 512gb 1tb Blue Graphite Gold - Ibox 1th   \n",
       "137    Iphone 13 Pro Max 128gb 256gb 512gb 1tb Sierra Blue Graphite Gold Silv   \n",
       "41     Apple Iphone 13 Pro Max 128,256,512gb,1tb Garansi Resmi Ibox Indonesia   \n",
       "\n",
       "          price                             shop         location  \n",
       "index                                                              \n",
       "11     12765000                    Studio Ponsel    Jakarta Pusat  \n",
       "119    17338000                           HokiHP    Jakarta Pusat  \n",
       "22     19349000                        CMP phone    Jakarta Pusat  \n",
       "152    19359000                     Doran Gadget         Surabaya  \n",
       "52     19499000          Bhinneka Official Store    Jakarta Utara  \n",
       "10     19599000                  Senjaya Selindo    Jakarta Pusat  \n",
       "63     19639000                         Vote VIP    Jakarta Utara  \n",
       "158    19650000                      kotakkatik_  Kab. Purwakarta  \n",
       "78     19650000                      kotakkatik_  Kab. Purwakarta  \n",
       "12     19689000           PREMIUM OFFICIAL STORE           Bekasi  \n",
       "58     19689000                      Shadow Gold           Bekasi  \n",
       "17     19699000                    INTIKOM STORE            Medan  \n",
       "46     19699000              Rajaponsel Official          Bandung  \n",
       "123    19699000                    Indokom Store    Jakarta Pusat  \n",
       "9      19699000                   Universe Store    Jakarta Utara  \n",
       "34     19743000                 SFONE OMNI STORE  Jakarta Selatan  \n",
       "18     19797000                     SUPER_GADGET    Jakarta Pusat  \n",
       "43     19799000                           Wijaya           Bekasi  \n",
       "23     19799000                        Garasi.ku    Jakarta Pusat  \n",
       "65     19870000                      Pandawatiga    Jakarta Pusat  \n",
       "126    19899000                Atlantic Cellular           Cimahi  \n",
       "98     19999000                         Nic-cell    Jakarta Pusat  \n",
       "61     19999000                      enterphone2    Jakarta Pusat  \n",
       "66     19999000                        JKT-PHONE    Jakarta Pusat  \n",
       "109    20059000                       Gawai Mart    Jakarta Pusat  \n",
       "156    20179000            Doran Gadget Semarang         Semarang  \n",
       "150    20199000                  alibabastore.id           Malang  \n",
       "111    20199000              LotteMart Indonesia  Jakarta Selatan  \n",
       "121    20199000                             DOSS  Jakarta Selatan  \n",
       "124    20199000           Diamond Handphone Bali         Denpasar  \n",
       "128    20199000                        dossjogja      Kab. Sleman  \n",
       "130    20199000                     tokolasvegas         Surabaya  \n",
       "160    20199000             Andalas Cellular Bpn       Balikpapan  \n",
       "87     20699000  Wellio Smartphone Official Shop      Kab. Bekasi  \n",
       "101    20699000             Wellio Official Shop      Kab. Bekasi  \n",
       "60     21099000                      Super Store    Jakarta Pusat  \n",
       "99     21690100            ITC Roxy Mas Official    Jakarta Pusat  \n",
       "37     22135000                 Kreasindo Online    Jakarta Pusat  \n",
       "155    22259000                     Fenix Gadget         Surabaya  \n",
       "91     22259000                   Gadget Channel    Jakarta Pusat  \n",
       "137    23625000                      BeyondGames          Bandung  \n",
       "41     26079000                      Ori Selular           Bekasi  "
      ],
      "text/html": "<div>\n<style scoped>\n    .dataframe tbody tr th:only-of-type {\n        vertical-align: middle;\n    }\n\n    .dataframe tbody tr th {\n        vertical-align: top;\n    }\n\n    .dataframe thead th {\n        text-align: right;\n    }\n</style>\n<table border=\"1\" class=\"dataframe\">\n  <thead>\n    <tr style=\"text-align: right;\">\n      <th></th>\n      <th>name</th>\n      <th>price</th>\n      <th>shop</th>\n      <th>location</th>\n    </tr>\n    <tr>\n      <th>index</th>\n      <th></th>\n      <th></th>\n      <th></th>\n      <th></th>\n    </tr>\n  </thead>\n  <tbody>\n    <tr>\n      <th>11</th>\n      <td>Apple Iphone 13 Pro Max 128gb Ibox Dual Sim Green | Iphone 13 Mini 128</td>\n      <td>12765000</td>\n      <td>Studio Ponsel</td>\n      <td>Jakarta Pusat</td>\n    </tr>\n    <tr>\n      <th>119</th>\n      <td>Iphone 13 Pro Max 128gb Ibox / Single / Dual / Apple</td>\n      <td>17338000</td>\n      <td>HokiHP</td>\n      <td>Jakarta Pusat</td>\n    </tr>\n    <tr>\n      <th>22</th>\n      <td>Apple Iphone 13 Pro Max 128gb Grs Resmi Ibox Indonesia</td>\n      <td>19349000</td>\n      <td>CMP phone</td>\n      <td>Jakarta Pusat</td>\n    </tr>\n    <tr>\n      <th>152</th>\n      <td>Iphone 13 Pro Max 128gb|256gb|512gb|1tb New Series - Garansi Ibox 1th</td>\n      <td>19359000</td>\n      <td>Doran Gadget</td>\n      <td>Surabaya</td>\n    </tr>\n    <tr>\n      <th>52</th>\n      <td>Apple Iphone 13 Pro Max 128gb</td>\n      <td>19499000</td>\n      <td>Bhinneka Official Store</td>\n      <td>Jakarta Utara</td>\n    </tr>\n    <tr>\n      <th>10</th>\n      <td>Iphone 13 Pro Max 128gb/256gb/512gb/1tb Garansi Resmi Ibox/Tam</td>\n      <td>19599000</td>\n      <td>Senjaya Selindo</td>\n      <td>Jakarta Pusat</td>\n    </tr>\n    <tr>\n      <th>63</th>\n      <td>Apple Iphone 13 Pro Max 128gb Garansi Resmi Tam / Ibox / Indonesia</td>\n      <td>19639000</td>\n      <td>Vote VIP</td>\n      <td>Jakarta Utara</td>\n    </tr>\n    <tr>\n      <th>158</th>\n      <td>Apple Iphone 13 Pro Max 128gb Garansi Resmi Tam/Ibox</td>\n      <td>19650000</td>\n      <td>kotakkatik_</td>\n      <td>Kab. Purwakarta</td>\n    </tr>\n    <tr>\n      <th>78</th>\n      <td>Apple Iphone 13 Pro Max 128gb 256gb 512gb Binb New Ibox New Original</td>\n      <td>19650000</td>\n      <td>kotakkatik_</td>\n      <td>Kab. Purwakarta</td>\n    </tr>\n    <tr>\n      <th>12</th>\n      <td>Iphone 13 Pro Max 128gb Garansi Resmi Ibox / Tam</td>\n      <td>19689000</td>\n      <td>PREMIUM OFFICIAL STORE</td>\n      <td>Bekasi</td>\n    </tr>\n    <tr>\n      <th>58</th>\n      <td>Iphone 13 Pro Max 128gb Garansi Resmi Ibox Tam</td>\n      <td>19689000</td>\n      <td>Shadow Gold</td>\n      <td>Bekasi</td>\n    </tr>\n    <tr>\n      <th>17</th>\n      <td>Iphone 13 Pro Max 128gb Garansi Resmi Tam/Ibox</td>\n      <td>19699000</td>\n      <td>INTIKOM STORE</td>\n      <td>Medan</td>\n    </tr>\n    <tr>\n      <th>46</th>\n      <td>Iphone 13 Pro Max 128gb Garansi Resmi Ibox</td>\n      <td>19699000</td>\n      <td>Rajaponsel Official</td>\n      <td>Bandung</td>\n    </tr>\n    <tr>\n      <th>123</th>\n      <td>Apple Iphone 13 Pro Max 128gb</td>\n      <td>19699000</td>\n      <td>Indokom Store</td>\n      <td>Jakarta Pusat</td>\n    </tr>\n    <tr>\n      <th>9</th>\n      <td>Apple Iphone 13 Pro Max 128gb | 256gb | 512gb | 1tb Garansi Resmi Ibox</td>\n      <td>19699000</td>\n      <td>Universe Store</td>\n      <td>Jakarta Utara</td>\n    </tr>\n    <tr>\n      <th>34</th>\n      <td>Apple Iphone 13 Pro Max 128gb Garansi Resmi Ibox / Tam / Indonesia</td>\n      <td>19743000</td>\n      <td>SFONE OMNI STORE</td>\n      <td>Jakarta Selatan</td>\n    </tr>\n    <tr>\n      <th>18</th>\n      <td>Apple Iphone 13 Pro Max 128/256/512 Gb 1 Tb Rom 128 256 512gb 1tb Ios</td>\n      <td>19797000</td>\n      <td>SUPER_GADGET</td>\n      <td>Jakarta Pusat</td>\n    </tr>\n    <tr>\n      <th>43</th>\n      <td>Iphone 13 Pro Max 128gb Garansi Resmi Ibox | Apple Iphone 13 Pro Max</td>\n      <td>19799000</td>\n      <td>Wijaya</td>\n      <td>Bekasi</td>\n    </tr>\n    <tr>\n      <th>23</th>\n      <td>Iphone 13 Pro Max 128 256 512 Gb 1tb Garansi Resmi Ibox</td>\n      <td>19799000</td>\n      <td>Garasi.ku</td>\n      <td>Jakarta Pusat</td>\n    </tr>\n    <tr>\n      <th>65</th>\n      <td>Iphone 13 Pro Max 128gb 256gb 512gb 1tb Garansi Resmi</td>\n      <td>19870000</td>\n      <td>Pandawatiga</td>\n      <td>Jakarta Pusat</td>\n    </tr>\n    <tr>\n      <th>126</th>\n      <td>Iphone 13 Pro Max 128gb</td>\n      <td>19899000</td>\n      <td>Atlantic Cellular</td>\n      <td>Cimahi</td>\n    </tr>\n    <tr>\n      <th>98</th>\n      <td>Iphone 13 Pro Max 128gb/256gb/512gb/1tb Garansi Resmi Ibox/Tam</td>\n      <td>19999000</td>\n      <td>Nic-cell</td>\n      <td>Jakarta Pusat</td>\n    </tr>\n    <tr>\n      <th>61</th>\n      <td>Iphone 13 Pro Max 128gb Garansi Resmi Ibox</td>\n      <td>19999000</td>\n      <td>enterphone2</td>\n      <td>Jakarta Pusat</td>\n    </tr>\n    <tr>\n      <th>66</th>\n      <td>Iphone 13 Pro Max 128gb Garansi Resmi Ibox</td>\n      <td>19999000</td>\n      <td>JKT-PHONE</td>\n      <td>Jakarta Pusat</td>\n    </tr>\n    <tr>\n      <th>109</th>\n      <td>Iphone 13 Pro Max 128gb 256gb 512gb 1tb</td>\n      <td>20059000</td>\n      <td>Gawai Mart</td>\n      <td>Jakarta Pusat</td>\n    </tr>\n    <tr>\n      <th>156</th>\n      <td>Iphone 13 Pro Max 128gb | 256gb | 512gb | 1tb - Original Garansi Ibox</td>\n      <td>20179000</td>\n      <td>Doran Gadget Semarang</td>\n      <td>Semarang</td>\n    </tr>\n    <tr>\n      <th>150</th>\n      <td>Iphone 13 Pro Max 128gb/256gb/512gb</td>\n      <td>20199000</td>\n      <td>alibabastore.id</td>\n      <td>Malang</td>\n    </tr>\n    <tr>\n      <th>111</th>\n      <td>Iphone 13 Pro Max 128gb Barang Baru Garansi Resmi</td>\n      <td>20199000</td>\n      <td>LotteMart Indonesia</td>\n      <td>Jakarta Selatan</td>\n    </tr>\n    <tr>\n      <th>121</th>\n      <td>Apple Iphone 13 Pro Max 128gb</td>\n      <td>20199000</td>\n      <td>DOSS</td>\n      <td>Jakarta Selatan</td>\n    </tr>\n    <tr>\n      <th>124</th>\n      <td>(Ibox) Iphone 13 Pro Max 128gb / 256gb / 512gb / 1tb Resmi</td>\n      <td>20199000</td>\n      <td>Diamond Handphone Bali</td>\n      <td>Denpasar</td>\n    </tr>\n    <tr>\n      <th>128</th>\n      <td>Apple Iphone 13 Pro Max 128gb</td>\n      <td>20199000</td>\n      <td>dossjogja</td>\n      <td>Kab. Sleman</td>\n    </tr>\n    <tr>\n      <th>130</th>\n      <td>Apple Iphone 13 Pro Max 128gb Garansi Resmi [Ibox]</td>\n      <td>20199000</td>\n      <td>tokolasvegas</td>\n      <td>Surabaya</td>\n    </tr>\n    <tr>\n      <th>160</th>\n      <td>Apple Iphone 13 Pro Max 128gb 6.7 Inch Garansi Resmi</td>\n      <td>20199000</td>\n      <td>Andalas Cellular Bpn</td>\n      <td>Balikpapan</td>\n    </tr>\n    <tr>\n      <th>87</th>\n      <td>(Official) Iphone 13 Pro Max 128gb - Sierra Blue</td>\n      <td>20699000</td>\n      <td>Wellio Smartphone Official Shop</td>\n      <td>Kab. Bekasi</td>\n    </tr>\n    <tr>\n      <th>101</th>\n      <td>(Official) Iphone 13 Pro Max 128gb - Sierra Blue</td>\n      <td>20699000</td>\n      <td>Wellio Official Shop</td>\n      <td>Kab. Bekasi</td>\n    </tr>\n    <tr>\n      <th>60</th>\n      <td>Iphone 13 Pro Max 128gb 256gb 512gb 1tb Garansi Resmi</td>\n      <td>21099000</td>\n      <td>Super Store</td>\n      <td>Jakarta Pusat</td>\n    </tr>\n    <tr>\n      <th>99</th>\n      <td>Iphone 13 Pro Max 128gb</td>\n      <td>21690100</td>\n      <td>ITC Roxy Mas Official</td>\n      <td>Jakarta Pusat</td>\n    </tr>\n    <tr>\n      <th>37</th>\n      <td>Iphone 13 Pro Max 128gb / 256gb / 512gb / 1tb Garansi Resmi Tam / Ibox</td>\n      <td>22135000</td>\n      <td>Kreasindo Online</td>\n      <td>Jakarta Pusat</td>\n    </tr>\n    <tr>\n      <th>155</th>\n      <td>Iphone 13 Pro Max 128gb | 256gb | 512gb Garansi Resmi Ibox</td>\n      <td>22259000</td>\n      <td>Fenix Gadget</td>\n      <td>Surabaya</td>\n    </tr>\n    <tr>\n      <th>91</th>\n      <td>Iphone 13 Pro Max 128gb 256gb 512gb 1tb Blue Graphite Gold - Ibox 1th</td>\n      <td>22259000</td>\n      <td>Gadget Channel</td>\n      <td>Jakarta Pusat</td>\n    </tr>\n    <tr>\n      <th>137</th>\n      <td>Iphone 13 Pro Max 128gb 256gb 512gb 1tb Sierra Blue Graphite Gold Silv</td>\n      <td>23625000</td>\n      <td>BeyondGames</td>\n      <td>Bandung</td>\n    </tr>\n    <tr>\n      <th>41</th>\n      <td>Apple Iphone 13 Pro Max 128,256,512gb,1tb Garansi Resmi Ibox Indonesia</td>\n      <td>26079000</td>\n      <td>Ori Selular</td>\n      <td>Bekasi</td>\n    </tr>\n  </tbody>\n</table>\n</div>"
     },
     "metadata": {},
     "execution_count": 47
    }
   ],
   "source": [
    "# cek outlier bawah\n",
    "low_outlier = 19689000 - ((21690100 - 19689000) * 1.5)\n",
    "pd.options.display.max_rows = 50\n",
    "df[~ambigu < low_outlier] # output tidak sesuai dengan ekspektasi----PR"
   ]
  },
  {
   "cell_type": "code",
   "execution_count": 41,
   "metadata": {},
   "outputs": [
    {
     "output_type": "error",
     "ename": "TypeError",
     "evalue": "unsupported operand type(s) for -: 'int' and 'str'",
     "traceback": [
      "\u001b[1;31m---------------------------------------------------------------------------\u001b[0m",
      "\u001b[1;31mTypeError\u001b[0m                                 Traceback (most recent call last)",
      "File \u001b[1;32mC:\\Python\\lib\\site-packages\\pandas\\core\\ops\\array_ops.py:163\u001b[0m, in \u001b[0;36m_na_arithmetic_op\u001b[1;34m(left, right, op, is_cmp)\u001b[0m\n\u001b[0;32m    162\u001b[0m \u001b[38;5;28;01mtry\u001b[39;00m:\n\u001b[1;32m--> 163\u001b[0m     result \u001b[38;5;241m=\u001b[39m \u001b[43mfunc\u001b[49m\u001b[43m(\u001b[49m\u001b[43mleft\u001b[49m\u001b[43m,\u001b[49m\u001b[43m \u001b[49m\u001b[43mright\u001b[49m\u001b[43m)\u001b[49m\n\u001b[0;32m    164\u001b[0m \u001b[38;5;28;01mexcept\u001b[39;00m \u001b[38;5;167;01mTypeError\u001b[39;00m:\n",
      "File \u001b[1;32mC:\\Python\\lib\\site-packages\\pandas\\core\\computation\\expressions.py:239\u001b[0m, in \u001b[0;36mevaluate\u001b[1;34m(op, a, b, use_numexpr)\u001b[0m\n\u001b[0;32m    237\u001b[0m     \u001b[38;5;28;01mif\u001b[39;00m use_numexpr:\n\u001b[0;32m    238\u001b[0m         \u001b[38;5;66;03m# error: \"None\" not callable\u001b[39;00m\n\u001b[1;32m--> 239\u001b[0m         \u001b[38;5;28;01mreturn\u001b[39;00m \u001b[43m_evaluate\u001b[49m\u001b[43m(\u001b[49m\u001b[43mop\u001b[49m\u001b[43m,\u001b[49m\u001b[43m \u001b[49m\u001b[43mop_str\u001b[49m\u001b[43m,\u001b[49m\u001b[43m \u001b[49m\u001b[43ma\u001b[49m\u001b[43m,\u001b[49m\u001b[43m \u001b[49m\u001b[43mb\u001b[49m\u001b[43m)\u001b[49m  \u001b[38;5;66;03m# type: ignore[misc]\u001b[39;00m\n\u001b[0;32m    240\u001b[0m \u001b[38;5;28;01mreturn\u001b[39;00m _evaluate_standard(op, op_str, a, b)\n",
      "File \u001b[1;32mC:\\Python\\lib\\site-packages\\pandas\\core\\computation\\expressions.py:69\u001b[0m, in \u001b[0;36m_evaluate_standard\u001b[1;34m(op, op_str, a, b)\u001b[0m\n\u001b[0;32m     68\u001b[0m     _store_test_result(\u001b[38;5;28;01mFalse\u001b[39;00m)\n\u001b[1;32m---> 69\u001b[0m \u001b[38;5;28;01mreturn\u001b[39;00m \u001b[43mop\u001b[49m\u001b[43m(\u001b[49m\u001b[43ma\u001b[49m\u001b[43m,\u001b[49m\u001b[43m \u001b[49m\u001b[43mb\u001b[49m\u001b[43m)\u001b[49m\n",
      "File \u001b[1;32mC:\\Python\\lib\\site-packages\\pandas\\core\\roperator.py:13\u001b[0m, in \u001b[0;36mrsub\u001b[1;34m(left, right)\u001b[0m\n\u001b[0;32m     12\u001b[0m \u001b[38;5;28;01mdef\u001b[39;00m \u001b[38;5;21mrsub\u001b[39m(left, right):\n\u001b[1;32m---> 13\u001b[0m     \u001b[38;5;28;01mreturn\u001b[39;00m \u001b[43mright\u001b[49m\u001b[43m \u001b[49m\u001b[38;5;241;43m-\u001b[39;49m\u001b[43m \u001b[49m\u001b[43mleft\u001b[49m\n",
      "\u001b[1;31mTypeError\u001b[0m: unsupported operand type(s) for -: 'int' and 'str'",
      "\nDuring handling of the above exception, another exception occurred:\n",
      "\u001b[1;31mTypeError\u001b[0m                                 Traceback (most recent call last)",
      "Input \u001b[1;32mIn [41]\u001b[0m, in \u001b[0;36m<cell line: 2>\u001b[1;34m()\u001b[0m\n\u001b[0;32m      1\u001b[0m \u001b[38;5;66;03m# cek outlier bawah\u001b[39;00m\n\u001b[1;32m----> 2\u001b[0m low_outlier \u001b[38;5;241m=\u001b[39m df[\u001b[38;5;241m~\u001b[39mambigu] \u001b[38;5;241m==\u001b[39m \u001b[38;5;241m19689000\u001b[39m \u001b[38;5;241m-\u001b[39m ((df[\u001b[38;5;241m~\u001b[39mambigu] \u001b[38;5;241m==\u001b[39m \u001b[38;5;241;43m21690100\u001b[39;49m\u001b[43m \u001b[49m\u001b[38;5;241;43m-\u001b[39;49m\u001b[43m \u001b[49m\u001b[43mdf\u001b[49m\u001b[43m[\u001b[49m\u001b[38;5;241;43m~\u001b[39;49m\u001b[43mambigu\u001b[49m\u001b[43m]\u001b[49m \u001b[38;5;241m==\u001b[39m \u001b[38;5;241m19689000\u001b[39m) \u001b[38;5;241m*\u001b[39m \u001b[38;5;241m1.5\u001b[39m)\n\u001b[0;32m      3\u001b[0m pd\u001b[38;5;241m.\u001b[39moptions\u001b[38;5;241m.\u001b[39mdisplay\u001b[38;5;241m.\u001b[39mmax_rows \u001b[38;5;241m=\u001b[39m \u001b[38;5;241m50\u001b[39m\n\u001b[0;32m      4\u001b[0m df[\u001b[38;5;241m~\u001b[39mambigu]\u001b[38;5;241m<\u001b[39m low_outlier\n",
      "File \u001b[1;32mC:\\Python\\lib\\site-packages\\pandas\\core\\ops\\common.py:70\u001b[0m, in \u001b[0;36m_unpack_zerodim_and_defer.<locals>.new_method\u001b[1;34m(self, other)\u001b[0m\n\u001b[0;32m     66\u001b[0m             \u001b[38;5;28;01mreturn\u001b[39;00m \u001b[38;5;28mNotImplemented\u001b[39m\n\u001b[0;32m     68\u001b[0m other \u001b[38;5;241m=\u001b[39m item_from_zerodim(other)\n\u001b[1;32m---> 70\u001b[0m \u001b[38;5;28;01mreturn\u001b[39;00m \u001b[43mmethod\u001b[49m\u001b[43m(\u001b[49m\u001b[38;5;28;43mself\u001b[39;49m\u001b[43m,\u001b[49m\u001b[43m \u001b[49m\u001b[43mother\u001b[49m\u001b[43m)\u001b[49m\n",
      "File \u001b[1;32mC:\\Python\\lib\\site-packages\\pandas\\core\\arraylike.py:112\u001b[0m, in \u001b[0;36mOpsMixin.__rsub__\u001b[1;34m(self, other)\u001b[0m\n\u001b[0;32m    110\u001b[0m \u001b[38;5;129m@unpack_zerodim_and_defer\u001b[39m(\u001b[38;5;124m\"\u001b[39m\u001b[38;5;124m__rsub__\u001b[39m\u001b[38;5;124m\"\u001b[39m)\n\u001b[0;32m    111\u001b[0m \u001b[38;5;28;01mdef\u001b[39;00m \u001b[38;5;21m__rsub__\u001b[39m(\u001b[38;5;28mself\u001b[39m, other):\n\u001b[1;32m--> 112\u001b[0m     \u001b[38;5;28;01mreturn\u001b[39;00m \u001b[38;5;28;43mself\u001b[39;49m\u001b[38;5;241;43m.\u001b[39;49m\u001b[43m_arith_method\u001b[49m\u001b[43m(\u001b[49m\u001b[43mother\u001b[49m\u001b[43m,\u001b[49m\u001b[43m \u001b[49m\u001b[43mroperator\u001b[49m\u001b[38;5;241;43m.\u001b[39;49m\u001b[43mrsub\u001b[49m\u001b[43m)\u001b[49m\n",
      "File \u001b[1;32mC:\\Python\\lib\\site-packages\\pandas\\core\\frame.py:6946\u001b[0m, in \u001b[0;36mDataFrame._arith_method\u001b[1;34m(self, other, op)\u001b[0m\n\u001b[0;32m   6942\u001b[0m other \u001b[38;5;241m=\u001b[39m ops\u001b[38;5;241m.\u001b[39mmaybe_prepare_scalar_for_op(other, (\u001b[38;5;28mself\u001b[39m\u001b[38;5;241m.\u001b[39mshape[axis],))\n\u001b[0;32m   6944\u001b[0m \u001b[38;5;28mself\u001b[39m, other \u001b[38;5;241m=\u001b[39m ops\u001b[38;5;241m.\u001b[39malign_method_FRAME(\u001b[38;5;28mself\u001b[39m, other, axis, flex\u001b[38;5;241m=\u001b[39m\u001b[38;5;28;01mTrue\u001b[39;00m, level\u001b[38;5;241m=\u001b[39m\u001b[38;5;28;01mNone\u001b[39;00m)\n\u001b[1;32m-> 6946\u001b[0m new_data \u001b[38;5;241m=\u001b[39m \u001b[38;5;28;43mself\u001b[39;49m\u001b[38;5;241;43m.\u001b[39;49m\u001b[43m_dispatch_frame_op\u001b[49m\u001b[43m(\u001b[49m\u001b[43mother\u001b[49m\u001b[43m,\u001b[49m\u001b[43m \u001b[49m\u001b[43mop\u001b[49m\u001b[43m,\u001b[49m\u001b[43m \u001b[49m\u001b[43maxis\u001b[49m\u001b[38;5;241;43m=\u001b[39;49m\u001b[43maxis\u001b[49m\u001b[43m)\u001b[49m\n\u001b[0;32m   6947\u001b[0m \u001b[38;5;28;01mreturn\u001b[39;00m \u001b[38;5;28mself\u001b[39m\u001b[38;5;241m.\u001b[39m_construct_result(new_data)\n",
      "File \u001b[1;32mC:\\Python\\lib\\site-packages\\pandas\\core\\frame.py:6973\u001b[0m, in \u001b[0;36mDataFrame._dispatch_frame_op\u001b[1;34m(self, right, func, axis)\u001b[0m\n\u001b[0;32m   6970\u001b[0m \u001b[38;5;28;01mif\u001b[39;00m \u001b[38;5;129;01mnot\u001b[39;00m is_list_like(right):\n\u001b[0;32m   6971\u001b[0m     \u001b[38;5;66;03m# i.e. scalar, faster than checking np.ndim(right) == 0\u001b[39;00m\n\u001b[0;32m   6972\u001b[0m     \u001b[38;5;28;01mwith\u001b[39;00m np\u001b[38;5;241m.\u001b[39merrstate(\u001b[38;5;28mall\u001b[39m\u001b[38;5;241m=\u001b[39m\u001b[38;5;124m\"\u001b[39m\u001b[38;5;124mignore\u001b[39m\u001b[38;5;124m\"\u001b[39m):\n\u001b[1;32m-> 6973\u001b[0m         bm \u001b[38;5;241m=\u001b[39m \u001b[38;5;28;43mself\u001b[39;49m\u001b[38;5;241;43m.\u001b[39;49m\u001b[43m_mgr\u001b[49m\u001b[38;5;241;43m.\u001b[39;49m\u001b[43mapply\u001b[49m\u001b[43m(\u001b[49m\u001b[43marray_op\u001b[49m\u001b[43m,\u001b[49m\u001b[43m \u001b[49m\u001b[43mright\u001b[49m\u001b[38;5;241;43m=\u001b[39;49m\u001b[43mright\u001b[49m\u001b[43m)\u001b[49m\n\u001b[0;32m   6974\u001b[0m     \u001b[38;5;28;01mreturn\u001b[39;00m \u001b[38;5;28mself\u001b[39m\u001b[38;5;241m.\u001b[39m_constructor(bm)\n\u001b[0;32m   6976\u001b[0m \u001b[38;5;28;01melif\u001b[39;00m \u001b[38;5;28misinstance\u001b[39m(right, DataFrame):\n",
      "File \u001b[1;32mC:\\Python\\lib\\site-packages\\pandas\\core\\internals\\managers.py:302\u001b[0m, in \u001b[0;36mBaseBlockManager.apply\u001b[1;34m(self, f, align_keys, ignore_failures, **kwargs)\u001b[0m\n\u001b[0;32m    300\u001b[0m \u001b[38;5;28;01mtry\u001b[39;00m:\n\u001b[0;32m    301\u001b[0m     \u001b[38;5;28;01mif\u001b[39;00m callable(f):\n\u001b[1;32m--> 302\u001b[0m         applied \u001b[38;5;241m=\u001b[39m \u001b[43mb\u001b[49m\u001b[38;5;241;43m.\u001b[39;49m\u001b[43mapply\u001b[49m\u001b[43m(\u001b[49m\u001b[43mf\u001b[49m\u001b[43m,\u001b[49m\u001b[43m \u001b[49m\u001b[38;5;241;43m*\u001b[39;49m\u001b[38;5;241;43m*\u001b[39;49m\u001b[43mkwargs\u001b[49m\u001b[43m)\u001b[49m\n\u001b[0;32m    303\u001b[0m     \u001b[38;5;28;01melse\u001b[39;00m:\n\u001b[0;32m    304\u001b[0m         applied \u001b[38;5;241m=\u001b[39m \u001b[38;5;28mgetattr\u001b[39m(b, f)(\u001b[38;5;241m*\u001b[39m\u001b[38;5;241m*\u001b[39mkwargs)\n",
      "File \u001b[1;32mC:\\Python\\lib\\site-packages\\pandas\\core\\internals\\blocks.py:402\u001b[0m, in \u001b[0;36mBlock.apply\u001b[1;34m(self, func, **kwargs)\u001b[0m\n\u001b[0;32m    396\u001b[0m \u001b[38;5;129m@final\u001b[39m\n\u001b[0;32m    397\u001b[0m \u001b[38;5;28;01mdef\u001b[39;00m \u001b[38;5;21mapply\u001b[39m(\u001b[38;5;28mself\u001b[39m, func, \u001b[38;5;241m*\u001b[39m\u001b[38;5;241m*\u001b[39mkwargs) \u001b[38;5;241m-\u001b[39m\u001b[38;5;241m>\u001b[39m \u001b[38;5;28mlist\u001b[39m[Block]:\n\u001b[0;32m    398\u001b[0m     \u001b[38;5;124;03m\"\"\"\u001b[39;00m\n\u001b[0;32m    399\u001b[0m \u001b[38;5;124;03m    apply the function to my values; return a block if we are not\u001b[39;00m\n\u001b[0;32m    400\u001b[0m \u001b[38;5;124;03m    one\u001b[39;00m\n\u001b[0;32m    401\u001b[0m \u001b[38;5;124;03m    \"\"\"\u001b[39;00m\n\u001b[1;32m--> 402\u001b[0m     result \u001b[38;5;241m=\u001b[39m \u001b[43mfunc\u001b[49m\u001b[43m(\u001b[49m\u001b[38;5;28;43mself\u001b[39;49m\u001b[38;5;241;43m.\u001b[39;49m\u001b[43mvalues\u001b[49m\u001b[43m,\u001b[49m\u001b[43m \u001b[49m\u001b[38;5;241;43m*\u001b[39;49m\u001b[38;5;241;43m*\u001b[39;49m\u001b[43mkwargs\u001b[49m\u001b[43m)\u001b[49m\n\u001b[0;32m    404\u001b[0m     \u001b[38;5;28;01mreturn\u001b[39;00m \u001b[38;5;28mself\u001b[39m\u001b[38;5;241m.\u001b[39m_split_op_result(result)\n",
      "File \u001b[1;32mC:\\Python\\lib\\site-packages\\pandas\\core\\ops\\array_ops.py:222\u001b[0m, in \u001b[0;36marithmetic_op\u001b[1;34m(left, right, op)\u001b[0m\n\u001b[0;32m    217\u001b[0m \u001b[38;5;28;01melse\u001b[39;00m:\n\u001b[0;32m    218\u001b[0m     \u001b[38;5;66;03m# TODO we should handle EAs consistently and move this check before the if/else\u001b[39;00m\n\u001b[0;32m    219\u001b[0m     \u001b[38;5;66;03m# (https://github.com/pandas-dev/pandas/issues/41165)\u001b[39;00m\n\u001b[0;32m    220\u001b[0m     _bool_arith_check(op, left, right)\n\u001b[1;32m--> 222\u001b[0m     res_values \u001b[38;5;241m=\u001b[39m \u001b[43m_na_arithmetic_op\u001b[49m\u001b[43m(\u001b[49m\u001b[43mleft\u001b[49m\u001b[43m,\u001b[49m\u001b[43m \u001b[49m\u001b[43mright\u001b[49m\u001b[43m,\u001b[49m\u001b[43m \u001b[49m\u001b[43mop\u001b[49m\u001b[43m)\u001b[49m\n\u001b[0;32m    224\u001b[0m \u001b[38;5;28;01mreturn\u001b[39;00m res_values\n",
      "File \u001b[1;32mC:\\Python\\lib\\site-packages\\pandas\\core\\ops\\array_ops.py:170\u001b[0m, in \u001b[0;36m_na_arithmetic_op\u001b[1;34m(left, right, op, is_cmp)\u001b[0m\n\u001b[0;32m    164\u001b[0m \u001b[38;5;28;01mexcept\u001b[39;00m \u001b[38;5;167;01mTypeError\u001b[39;00m:\n\u001b[0;32m    165\u001b[0m     \u001b[38;5;28;01mif\u001b[39;00m \u001b[38;5;129;01mnot\u001b[39;00m is_cmp \u001b[38;5;129;01mand\u001b[39;00m (is_object_dtype(left\u001b[38;5;241m.\u001b[39mdtype) \u001b[38;5;129;01mor\u001b[39;00m is_object_dtype(right)):\n\u001b[0;32m    166\u001b[0m         \u001b[38;5;66;03m# For object dtype, fallback to a masked operation (only operating\u001b[39;00m\n\u001b[0;32m    167\u001b[0m         \u001b[38;5;66;03m#  on the non-missing values)\u001b[39;00m\n\u001b[0;32m    168\u001b[0m         \u001b[38;5;66;03m# Don't do this for comparisons, as that will handle complex numbers\u001b[39;00m\n\u001b[0;32m    169\u001b[0m         \u001b[38;5;66;03m#  incorrectly, see GH#32047\u001b[39;00m\n\u001b[1;32m--> 170\u001b[0m         result \u001b[38;5;241m=\u001b[39m \u001b[43m_masked_arith_op\u001b[49m\u001b[43m(\u001b[49m\u001b[43mleft\u001b[49m\u001b[43m,\u001b[49m\u001b[43m \u001b[49m\u001b[43mright\u001b[49m\u001b[43m,\u001b[49m\u001b[43m \u001b[49m\u001b[43mop\u001b[49m\u001b[43m)\u001b[49m\n\u001b[0;32m    171\u001b[0m     \u001b[38;5;28;01melse\u001b[39;00m:\n\u001b[0;32m    172\u001b[0m         \u001b[38;5;28;01mraise\u001b[39;00m\n",
      "File \u001b[1;32mC:\\Python\\lib\\site-packages\\pandas\\core\\ops\\array_ops.py:127\u001b[0m, in \u001b[0;36m_masked_arith_op\u001b[1;34m(x, y, op)\u001b[0m\n\u001b[0;32m    124\u001b[0m         mask \u001b[38;5;241m=\u001b[39m np\u001b[38;5;241m.\u001b[39mwhere(y \u001b[38;5;241m==\u001b[39m \u001b[38;5;241m1\u001b[39m, \u001b[38;5;28;01mFalse\u001b[39;00m, mask)\n\u001b[0;32m    126\u001b[0m     \u001b[38;5;28;01mif\u001b[39;00m mask\u001b[38;5;241m.\u001b[39many():\n\u001b[1;32m--> 127\u001b[0m         result[mask] \u001b[38;5;241m=\u001b[39m \u001b[43mop\u001b[49m\u001b[43m(\u001b[49m\u001b[43mxrav\u001b[49m\u001b[43m[\u001b[49m\u001b[43mmask\u001b[49m\u001b[43m]\u001b[49m\u001b[43m,\u001b[49m\u001b[43m \u001b[49m\u001b[43my\u001b[49m\u001b[43m)\u001b[49m\n\u001b[0;32m    129\u001b[0m np\u001b[38;5;241m.\u001b[39mputmask(result, \u001b[38;5;241m~\u001b[39mmask, np\u001b[38;5;241m.\u001b[39mnan)\n\u001b[0;32m    130\u001b[0m result \u001b[38;5;241m=\u001b[39m result\u001b[38;5;241m.\u001b[39mreshape(x\u001b[38;5;241m.\u001b[39mshape)  \u001b[38;5;66;03m# 2D compat\u001b[39;00m\n",
      "File \u001b[1;32mC:\\Python\\lib\\site-packages\\pandas\\core\\roperator.py:13\u001b[0m, in \u001b[0;36mrsub\u001b[1;34m(left, right)\u001b[0m\n\u001b[0;32m     12\u001b[0m \u001b[38;5;28;01mdef\u001b[39;00m \u001b[38;5;21mrsub\u001b[39m(left, right):\n\u001b[1;32m---> 13\u001b[0m     \u001b[38;5;28;01mreturn\u001b[39;00m \u001b[43mright\u001b[49m\u001b[43m \u001b[49m\u001b[38;5;241;43m-\u001b[39;49m\u001b[43m \u001b[49m\u001b[43mleft\u001b[49m\n",
      "\u001b[1;31mTypeError\u001b[0m: unsupported operand type(s) for -: 'int' and 'str'"
     ]
    }
   ],
   "source": [
    "# cek outlier bawah\n",
    "low_outlier = df[~ambigu] == 19689000 - ((df[~ambigu] == 21690100 - df[~ambigu] == 19689000) * 1.5)\n",
    "pd.options.display.max_rows = 50\n",
    "df[~ambigu]< low_outlier"
   ]
  },
  {
   "cell_type": "code",
   "execution_count": 24,
   "metadata": {},
   "outputs": [
    {
     "output_type": "execute_result",
     "data": {
      "text/plain": [
       "<AxesSubplot:>"
      ]
     },
     "metadata": {},
     "execution_count": 24
    },
    {
     "output_type": "display_data",
     "data": {
      "text/plain": "<Figure size 640x480 with 1 Axes>",
      "image/svg+xml": "<?xml version=\"1.0\" encoding=\"utf-8\" standalone=\"no\"?>\n<!DOCTYPE svg PUBLIC \"-//W3C//DTD SVG 1.1//EN\"\n  \"http://www.w3.org/Graphics/SVG/1.1/DTD/svg11.dtd\">\n<svg xmlns:xlink=\"http://www.w3.org/1999/xlink\" width=\"394.423125pt\" height=\"307.788562pt\" viewBox=\"0 0 394.423125 307.788562\" xmlns=\"http://www.w3.org/2000/svg\" version=\"1.1\">\n <metadata>\n  <rdf:RDF xmlns:dc=\"http://purl.org/dc/elements/1.1/\" xmlns:cc=\"http://creativecommons.org/ns#\" xmlns:rdf=\"http://www.w3.org/1999/02/22-rdf-syntax-ns#\">\n   <cc:Work>\n    <dc:type rdf:resource=\"http://purl.org/dc/dcmitype/StillImage\"/>\n    <dc:date>2022-06-27T04:29:05.832337</dc:date>\n    <dc:format>image/svg+xml</dc:format>\n    <dc:creator>\n     <cc:Agent>\n      <dc:title>Matplotlib v3.5.2, https://matplotlib.org/</dc:title>\n     </cc:Agent>\n    </dc:creator>\n   </cc:Work>\n  </rdf:RDF>\n </metadata>\n <defs>\n  <style type=\"text/css\">*{stroke-linejoin: round; stroke-linecap: butt}</style>\n </defs>\n <g id=\"figure_1\">\n  <g id=\"patch_1\">\n   <path d=\"M 0 307.788562 \nL 394.423125 307.788562 \nL 394.423125 0 \nL 0 0 \nz\n\" style=\"fill: #ffffff\"/>\n  </g>\n  <g id=\"axes_1\">\n   <g id=\"patch_2\">\n    <path d=\"M 30.103125 283.910437 \nL 387.223125 283.910437 \nL 387.223125 17.798437 \nL 30.103125 17.798437 \nz\n\" style=\"fill: #ffffff\"/>\n   </g>\n   <g id=\"matplotlib.axis_1\">\n    <g id=\"xtick_1\">\n     <g id=\"line2d_1\">\n      <path d=\"M 208.663125 283.910437 \nL 208.663125 17.798437 \n\" clip-path=\"url(#p81f92ea480)\" style=\"fill: none; stroke: #b0b0b0; stroke-width: 0.8; stroke-linecap: square\"/>\n     </g>\n     <g id=\"line2d_2\">\n      <defs>\n       <path id=\"m13f9a7a36c\" d=\"M 0 0 \nL 0 3.5 \n\" style=\"stroke: #000000; stroke-width: 0.8\"/>\n      </defs>\n      <g>\n       <use xlink:href=\"#m13f9a7a36c\" x=\"208.663125\" y=\"283.910437\" style=\"stroke: #000000; stroke-width: 0.8\"/>\n      </g>\n     </g>\n     <g id=\"text_1\">\n      <!-- price -->\n      <g transform=\"translate(196.218594 298.508875)scale(0.1 -0.1)\">\n       <defs>\n        <path id=\"DejaVuSans-70\" d=\"M 1159 525 \nL 1159 -1331 \nL 581 -1331 \nL 581 3500 \nL 1159 3500 \nL 1159 2969 \nQ 1341 3281 1617 3432 \nQ 1894 3584 2278 3584 \nQ 2916 3584 3314 3078 \nQ 3713 2572 3713 1747 \nQ 3713 922 3314 415 \nQ 2916 -91 2278 -91 \nQ 1894 -91 1617 61 \nQ 1341 213 1159 525 \nz\nM 3116 1747 \nQ 3116 2381 2855 2742 \nQ 2594 3103 2138 3103 \nQ 1681 3103 1420 2742 \nQ 1159 2381 1159 1747 \nQ 1159 1113 1420 752 \nQ 1681 391 2138 391 \nQ 2594 391 2855 752 \nQ 3116 1113 3116 1747 \nz\n\" transform=\"scale(0.015625)\"/>\n        <path id=\"DejaVuSans-72\" d=\"M 2631 2963 \nQ 2534 3019 2420 3045 \nQ 2306 3072 2169 3072 \nQ 1681 3072 1420 2755 \nQ 1159 2438 1159 1844 \nL 1159 0 \nL 581 0 \nL 581 3500 \nL 1159 3500 \nL 1159 2956 \nQ 1341 3275 1631 3429 \nQ 1922 3584 2338 3584 \nQ 2397 3584 2469 3576 \nQ 2541 3569 2628 3553 \nL 2631 2963 \nz\n\" transform=\"scale(0.015625)\"/>\n        <path id=\"DejaVuSans-69\" d=\"M 603 3500 \nL 1178 3500 \nL 1178 0 \nL 603 0 \nL 603 3500 \nz\nM 603 4863 \nL 1178 4863 \nL 1178 4134 \nL 603 4134 \nL 603 4863 \nz\n\" transform=\"scale(0.015625)\"/>\n        <path id=\"DejaVuSans-63\" d=\"M 3122 3366 \nL 3122 2828 \nQ 2878 2963 2633 3030 \nQ 2388 3097 2138 3097 \nQ 1578 3097 1268 2742 \nQ 959 2388 959 1747 \nQ 959 1106 1268 751 \nQ 1578 397 2138 397 \nQ 2388 397 2633 464 \nQ 2878 531 3122 666 \nL 3122 134 \nQ 2881 22 2623 -34 \nQ 2366 -91 2075 -91 \nQ 1284 -91 818 406 \nQ 353 903 353 1747 \nQ 353 2603 823 3093 \nQ 1294 3584 2113 3584 \nQ 2378 3584 2631 3529 \nQ 2884 3475 3122 3366 \nz\n\" transform=\"scale(0.015625)\"/>\n        <path id=\"DejaVuSans-65\" d=\"M 3597 1894 \nL 3597 1613 \nL 953 1613 \nQ 991 1019 1311 708 \nQ 1631 397 2203 397 \nQ 2534 397 2845 478 \nQ 3156 559 3463 722 \nL 3463 178 \nQ 3153 47 2828 -22 \nQ 2503 -91 2169 -91 \nQ 1331 -91 842 396 \nQ 353 884 353 1716 \nQ 353 2575 817 3079 \nQ 1281 3584 2069 3584 \nQ 2775 3584 3186 3129 \nQ 3597 2675 3597 1894 \nz\nM 3022 2063 \nQ 3016 2534 2758 2815 \nQ 2500 3097 2075 3097 \nQ 1594 3097 1305 2825 \nQ 1016 2553 972 2059 \nL 3022 2063 \nz\n\" transform=\"scale(0.015625)\"/>\n       </defs>\n       <use xlink:href=\"#DejaVuSans-70\"/>\n       <use xlink:href=\"#DejaVuSans-72\" x=\"63.476562\"/>\n       <use xlink:href=\"#DejaVuSans-69\" x=\"104.589844\"/>\n       <use xlink:href=\"#DejaVuSans-63\" x=\"132.373047\"/>\n       <use xlink:href=\"#DejaVuSans-65\" x=\"187.353516\"/>\n      </g>\n     </g>\n    </g>\n   </g>\n   <g id=\"matplotlib.axis_2\">\n    <g id=\"ytick_1\">\n     <g id=\"line2d_3\">\n      <path d=\"M 30.103125 249.374059 \nL 387.223125 249.374059 \n\" clip-path=\"url(#p81f92ea480)\" style=\"fill: none; stroke: #b0b0b0; stroke-width: 0.8; stroke-linecap: square\"/>\n     </g>\n     <g id=\"line2d_4\">\n      <defs>\n       <path id=\"mb4fd457f25\" d=\"M 0 0 \nL -3.5 0 \n\" style=\"stroke: #000000; stroke-width: 0.8\"/>\n      </defs>\n      <g>\n       <use xlink:href=\"#mb4fd457f25\" x=\"30.103125\" y=\"249.374059\" style=\"stroke: #000000; stroke-width: 0.8\"/>\n      </g>\n     </g>\n     <g id=\"text_2\">\n      <!-- 1.4 -->\n      <g transform=\"translate(7.2 253.173278)scale(0.1 -0.1)\">\n       <defs>\n        <path id=\"DejaVuSans-31\" d=\"M 794 531 \nL 1825 531 \nL 1825 4091 \nL 703 3866 \nL 703 4441 \nL 1819 4666 \nL 2450 4666 \nL 2450 531 \nL 3481 531 \nL 3481 0 \nL 794 0 \nL 794 531 \nz\n\" transform=\"scale(0.015625)\"/>\n        <path id=\"DejaVuSans-2e\" d=\"M 684 794 \nL 1344 794 \nL 1344 0 \nL 684 0 \nL 684 794 \nz\n\" transform=\"scale(0.015625)\"/>\n        <path id=\"DejaVuSans-34\" d=\"M 2419 4116 \nL 825 1625 \nL 2419 1625 \nL 2419 4116 \nz\nM 2253 4666 \nL 3047 4666 \nL 3047 1625 \nL 3713 1625 \nL 3713 1100 \nL 3047 1100 \nL 3047 0 \nL 2419 0 \nL 2419 1100 \nL 313 1100 \nL 313 1709 \nL 2253 4666 \nz\n\" transform=\"scale(0.015625)\"/>\n       </defs>\n       <use xlink:href=\"#DejaVuSans-31\"/>\n       <use xlink:href=\"#DejaVuSans-2e\" x=\"63.623047\"/>\n       <use xlink:href=\"#DejaVuSans-34\" x=\"95.410156\"/>\n      </g>\n     </g>\n    </g>\n    <g id=\"ytick_2\">\n     <g id=\"line2d_5\">\n      <path d=\"M 30.103125 213.033365 \nL 387.223125 213.033365 \n\" clip-path=\"url(#p81f92ea480)\" style=\"fill: none; stroke: #b0b0b0; stroke-width: 0.8; stroke-linecap: square\"/>\n     </g>\n     <g id=\"line2d_6\">\n      <g>\n       <use xlink:href=\"#mb4fd457f25\" x=\"30.103125\" y=\"213.033365\" style=\"stroke: #000000; stroke-width: 0.8\"/>\n      </g>\n     </g>\n     <g id=\"text_3\">\n      <!-- 1.6 -->\n      <g transform=\"translate(7.2 216.832584)scale(0.1 -0.1)\">\n       <defs>\n        <path id=\"DejaVuSans-36\" d=\"M 2113 2584 \nQ 1688 2584 1439 2293 \nQ 1191 2003 1191 1497 \nQ 1191 994 1439 701 \nQ 1688 409 2113 409 \nQ 2538 409 2786 701 \nQ 3034 994 3034 1497 \nQ 3034 2003 2786 2293 \nQ 2538 2584 2113 2584 \nz\nM 3366 4563 \nL 3366 3988 \nQ 3128 4100 2886 4159 \nQ 2644 4219 2406 4219 \nQ 1781 4219 1451 3797 \nQ 1122 3375 1075 2522 \nQ 1259 2794 1537 2939 \nQ 1816 3084 2150 3084 \nQ 2853 3084 3261 2657 \nQ 3669 2231 3669 1497 \nQ 3669 778 3244 343 \nQ 2819 -91 2113 -91 \nQ 1303 -91 875 529 \nQ 447 1150 447 2328 \nQ 447 3434 972 4092 \nQ 1497 4750 2381 4750 \nQ 2619 4750 2861 4703 \nQ 3103 4656 3366 4563 \nz\n\" transform=\"scale(0.015625)\"/>\n       </defs>\n       <use xlink:href=\"#DejaVuSans-31\"/>\n       <use xlink:href=\"#DejaVuSans-2e\" x=\"63.623047\"/>\n       <use xlink:href=\"#DejaVuSans-36\" x=\"95.410156\"/>\n      </g>\n     </g>\n    </g>\n    <g id=\"ytick_3\">\n     <g id=\"line2d_7\">\n      <path d=\"M 30.103125 176.692671 \nL 387.223125 176.692671 \n\" clip-path=\"url(#p81f92ea480)\" style=\"fill: none; stroke: #b0b0b0; stroke-width: 0.8; stroke-linecap: square\"/>\n     </g>\n     <g id=\"line2d_8\">\n      <g>\n       <use xlink:href=\"#mb4fd457f25\" x=\"30.103125\" y=\"176.692671\" style=\"stroke: #000000; stroke-width: 0.8\"/>\n      </g>\n     </g>\n     <g id=\"text_4\">\n      <!-- 1.8 -->\n      <g transform=\"translate(7.2 180.49189)scale(0.1 -0.1)\">\n       <defs>\n        <path id=\"DejaVuSans-38\" d=\"M 2034 2216 \nQ 1584 2216 1326 1975 \nQ 1069 1734 1069 1313 \nQ 1069 891 1326 650 \nQ 1584 409 2034 409 \nQ 2484 409 2743 651 \nQ 3003 894 3003 1313 \nQ 3003 1734 2745 1975 \nQ 2488 2216 2034 2216 \nz\nM 1403 2484 \nQ 997 2584 770 2862 \nQ 544 3141 544 3541 \nQ 544 4100 942 4425 \nQ 1341 4750 2034 4750 \nQ 2731 4750 3128 4425 \nQ 3525 4100 3525 3541 \nQ 3525 3141 3298 2862 \nQ 3072 2584 2669 2484 \nQ 3125 2378 3379 2068 \nQ 3634 1759 3634 1313 \nQ 3634 634 3220 271 \nQ 2806 -91 2034 -91 \nQ 1263 -91 848 271 \nQ 434 634 434 1313 \nQ 434 1759 690 2068 \nQ 947 2378 1403 2484 \nz\nM 1172 3481 \nQ 1172 3119 1398 2916 \nQ 1625 2713 2034 2713 \nQ 2441 2713 2670 2916 \nQ 2900 3119 2900 3481 \nQ 2900 3844 2670 4047 \nQ 2441 4250 2034 4250 \nQ 1625 4250 1398 4047 \nQ 1172 3844 1172 3481 \nz\n\" transform=\"scale(0.015625)\"/>\n       </defs>\n       <use xlink:href=\"#DejaVuSans-31\"/>\n       <use xlink:href=\"#DejaVuSans-2e\" x=\"63.623047\"/>\n       <use xlink:href=\"#DejaVuSans-38\" x=\"95.410156\"/>\n      </g>\n     </g>\n    </g>\n    <g id=\"ytick_4\">\n     <g id=\"line2d_9\">\n      <path d=\"M 30.103125 140.351977 \nL 387.223125 140.351977 \n\" clip-path=\"url(#p81f92ea480)\" style=\"fill: none; stroke: #b0b0b0; stroke-width: 0.8; stroke-linecap: square\"/>\n     </g>\n     <g id=\"line2d_10\">\n      <g>\n       <use xlink:href=\"#mb4fd457f25\" x=\"30.103125\" y=\"140.351977\" style=\"stroke: #000000; stroke-width: 0.8\"/>\n      </g>\n     </g>\n     <g id=\"text_5\">\n      <!-- 2.0 -->\n      <g transform=\"translate(7.2 144.151196)scale(0.1 -0.1)\">\n       <defs>\n        <path id=\"DejaVuSans-32\" d=\"M 1228 531 \nL 3431 531 \nL 3431 0 \nL 469 0 \nL 469 531 \nQ 828 903 1448 1529 \nQ 2069 2156 2228 2338 \nQ 2531 2678 2651 2914 \nQ 2772 3150 2772 3378 \nQ 2772 3750 2511 3984 \nQ 2250 4219 1831 4219 \nQ 1534 4219 1204 4116 \nQ 875 4013 500 3803 \nL 500 4441 \nQ 881 4594 1212 4672 \nQ 1544 4750 1819 4750 \nQ 2544 4750 2975 4387 \nQ 3406 4025 3406 3419 \nQ 3406 3131 3298 2873 \nQ 3191 2616 2906 2266 \nQ 2828 2175 2409 1742 \nQ 1991 1309 1228 531 \nz\n\" transform=\"scale(0.015625)\"/>\n        <path id=\"DejaVuSans-30\" d=\"M 2034 4250 \nQ 1547 4250 1301 3770 \nQ 1056 3291 1056 2328 \nQ 1056 1369 1301 889 \nQ 1547 409 2034 409 \nQ 2525 409 2770 889 \nQ 3016 1369 3016 2328 \nQ 3016 3291 2770 3770 \nQ 2525 4250 2034 4250 \nz\nM 2034 4750 \nQ 2819 4750 3233 4129 \nQ 3647 3509 3647 2328 \nQ 3647 1150 3233 529 \nQ 2819 -91 2034 -91 \nQ 1250 -91 836 529 \nQ 422 1150 422 2328 \nQ 422 3509 836 4129 \nQ 1250 4750 2034 4750 \nz\n\" transform=\"scale(0.015625)\"/>\n       </defs>\n       <use xlink:href=\"#DejaVuSans-32\"/>\n       <use xlink:href=\"#DejaVuSans-2e\" x=\"63.623047\"/>\n       <use xlink:href=\"#DejaVuSans-30\" x=\"95.410156\"/>\n      </g>\n     </g>\n    </g>\n    <g id=\"ytick_5\">\n     <g id=\"line2d_11\">\n      <path d=\"M 30.103125 104.011283 \nL 387.223125 104.011283 \n\" clip-path=\"url(#p81f92ea480)\" style=\"fill: none; stroke: #b0b0b0; stroke-width: 0.8; stroke-linecap: square\"/>\n     </g>\n     <g id=\"line2d_12\">\n      <g>\n       <use xlink:href=\"#mb4fd457f25\" x=\"30.103125\" y=\"104.011283\" style=\"stroke: #000000; stroke-width: 0.8\"/>\n      </g>\n     </g>\n     <g id=\"text_6\">\n      <!-- 2.2 -->\n      <g transform=\"translate(7.2 107.810502)scale(0.1 -0.1)\">\n       <use xlink:href=\"#DejaVuSans-32\"/>\n       <use xlink:href=\"#DejaVuSans-2e\" x=\"63.623047\"/>\n       <use xlink:href=\"#DejaVuSans-32\" x=\"95.410156\"/>\n      </g>\n     </g>\n    </g>\n    <g id=\"ytick_6\">\n     <g id=\"line2d_13\">\n      <path d=\"M 30.103125 67.670589 \nL 387.223125 67.670589 \n\" clip-path=\"url(#p81f92ea480)\" style=\"fill: none; stroke: #b0b0b0; stroke-width: 0.8; stroke-linecap: square\"/>\n     </g>\n     <g id=\"line2d_14\">\n      <g>\n       <use xlink:href=\"#mb4fd457f25\" x=\"30.103125\" y=\"67.670589\" style=\"stroke: #000000; stroke-width: 0.8\"/>\n      </g>\n     </g>\n     <g id=\"text_7\">\n      <!-- 2.4 -->\n      <g transform=\"translate(7.2 71.469808)scale(0.1 -0.1)\">\n       <use xlink:href=\"#DejaVuSans-32\"/>\n       <use xlink:href=\"#DejaVuSans-2e\" x=\"63.623047\"/>\n       <use xlink:href=\"#DejaVuSans-34\" x=\"95.410156\"/>\n      </g>\n     </g>\n    </g>\n    <g id=\"ytick_7\">\n     <g id=\"line2d_15\">\n      <path d=\"M 30.103125 31.329895 \nL 387.223125 31.329895 \n\" clip-path=\"url(#p81f92ea480)\" style=\"fill: none; stroke: #b0b0b0; stroke-width: 0.8; stroke-linecap: square\"/>\n     </g>\n     <g id=\"line2d_16\">\n      <g>\n       <use xlink:href=\"#mb4fd457f25\" x=\"30.103125\" y=\"31.329895\" style=\"stroke: #000000; stroke-width: 0.8\"/>\n      </g>\n     </g>\n     <g id=\"text_8\">\n      <!-- 2.6 -->\n      <g transform=\"translate(7.2 35.129114)scale(0.1 -0.1)\">\n       <use xlink:href=\"#DejaVuSans-32\"/>\n       <use xlink:href=\"#DejaVuSans-2e\" x=\"63.623047\"/>\n       <use xlink:href=\"#DejaVuSans-36\" x=\"95.410156\"/>\n      </g>\n     </g>\n    </g>\n    <g id=\"text_9\">\n     <!-- 1e7 -->\n     <g transform=\"translate(30.103125 14.798437)scale(0.1 -0.1)\">\n      <defs>\n       <path id=\"DejaVuSans-37\" d=\"M 525 4666 \nL 3525 4666 \nL 3525 4397 \nL 1831 0 \nL 1172 0 \nL 2766 4134 \nL 525 4134 \nL 525 4666 \nz\n\" transform=\"scale(0.015625)\"/>\n      </defs>\n      <use xlink:href=\"#DejaVuSans-31\"/>\n      <use xlink:href=\"#DejaVuSans-65\" x=\"63.623047\"/>\n      <use xlink:href=\"#DejaVuSans-37\" x=\"125.146484\"/>\n     </g>\n    </g>\n   </g>\n   <g id=\"line2d_17\">\n    <path d=\"M 181.879125 144.930904 \nL 235.447125 144.930904 \nL 235.447125 110.970526 \nL 181.879125 110.970526 \nL 181.879125 144.930904 \n\" clip-path=\"url(#p81f92ea480)\" style=\"fill: none; stroke: #1f77b4; stroke-linecap: square\"/>\n   </g>\n   <g id=\"line2d_18\">\n    <path d=\"M 208.663125 144.930904 \nL 208.663125 151.999169 \n\" clip-path=\"url(#p81f92ea480)\" style=\"fill: none; stroke: #1f77b4; stroke-linecap: square\"/>\n   </g>\n   <g id=\"line2d_19\">\n    <path d=\"M 208.663125 110.970526 \nL 208.663125 74.484469 \n\" clip-path=\"url(#p81f92ea480)\" style=\"fill: none; stroke: #1f77b4; stroke-linecap: square\"/>\n   </g>\n   <g id=\"line2d_20\">\n    <path d=\"M 195.271125 151.999169 \nL 222.055125 151.999169 \n\" clip-path=\"url(#p81f92ea480)\" style=\"fill: none; stroke: #000000; stroke-linecap: square\"/>\n   </g>\n   <g id=\"line2d_21\">\n    <path d=\"M 195.271125 74.484469 \nL 222.055125 74.484469 \n\" clip-path=\"url(#p81f92ea480)\" style=\"fill: none; stroke: #000000; stroke-linecap: square\"/>\n   </g>\n   <g id=\"line2d_22\">\n    <defs>\n     <path id=\"mdba3cedd23\" d=\"M 0 3 \nC 0.795609 3 1.55874 2.683901 2.12132 2.12132 \nC 2.683901 1.55874 3 0.795609 3 0 \nC 3 -0.795609 2.683901 -1.55874 2.12132 -2.12132 \nC 1.55874 -2.683901 0.795609 -3 0 -3 \nC -0.795609 -3 -1.55874 -2.683901 -2.12132 -2.12132 \nC -2.683901 -1.55874 -3 -0.795609 -3 0 \nC -3 0.795609 -2.683901 1.55874 -2.12132 2.12132 \nC -1.55874 2.683901 -0.795609 3 0 3 \nz\n\" style=\"stroke: #000000\"/>\n    </defs>\n    <g clip-path=\"url(#p81f92ea480)\">\n     <use xlink:href=\"#mdba3cedd23\" x=\"208.663125\" y=\"271.814437\" style=\"fill-opacity: 0; stroke: #000000\"/>\n     <use xlink:href=\"#mdba3cedd23\" x=\"208.663125\" y=\"29.894438\" style=\"fill-opacity: 0; stroke: #000000\"/>\n    </g>\n   </g>\n   <g id=\"line2d_23\">\n    <path d=\"M 181.879125 139.279926 \nL 235.447125 139.279926 \n\" clip-path=\"url(#p81f92ea480)\" style=\"fill: none; stroke: #2ca02c; stroke-linecap: square\"/>\n   </g>\n   <g id=\"patch_3\">\n    <path d=\"M 30.103125 283.910437 \nL 30.103125 17.798438 \n\" style=\"fill: none; stroke: #000000; stroke-width: 0.8; stroke-linejoin: miter; stroke-linecap: square\"/>\n   </g>\n   <g id=\"patch_4\">\n    <path d=\"M 387.223125 283.910437 \nL 387.223125 17.798438 \n\" style=\"fill: none; stroke: #000000; stroke-width: 0.8; stroke-linejoin: miter; stroke-linecap: square\"/>\n   </g>\n   <g id=\"patch_5\">\n    <path d=\"M 30.103125 283.910437 \nL 387.223125 283.910437 \n\" style=\"fill: none; stroke: #000000; stroke-width: 0.8; stroke-linejoin: miter; stroke-linecap: square\"/>\n   </g>\n   <g id=\"patch_6\">\n    <path d=\"M 30.103125 17.798437 \nL 387.223125 17.798437 \n\" style=\"fill: none; stroke: #000000; stroke-width: 0.8; stroke-linejoin: miter; stroke-linecap: square\"/>\n   </g>\n  </g>\n </g>\n <defs>\n  <clipPath id=\"p81f92ea480\">\n   <rect x=\"30.103125\" y=\"17.798437\" width=\"357.12\" height=\"266.112\"/>\n  </clipPath>\n </defs>\n</svg>\n",
      "image/png": "[encoded data removed]"
     },
     "metadata": {}
    }
   ],
   "source": [
    "# deteksi outlier produk ambigu\n",
    "df[ambigu].boxplot('price')"
   ]
  },
  {
   "cell_type": "code",
   "execution_count": null,
   "metadata": {},
   "outputs": [],
   "source": [
    "# kategorikan produk harga pada umumnya\n",
    "# kategorikan produk harga outlier mahal\n",
    "# kategorikan produk harga outlier mmurah"
   ]
  }
 ]
}