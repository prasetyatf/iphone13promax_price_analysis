{
 "metadata": {
  "language_info": {
   "codemirror_mode": {
    "name": "ipython",
    "version": 3
   },
   "file_extension": ".py",
   "mimetype": "text/x-python",
   "name": "python",
   "nbconvert_exporter": "python",
   "pygments_lexer": "ipython3",
   "version": "3.8.6-final"
  },
  "orig_nbformat": 2,
  "kernelspec": {
   "name": "python38632bit1410168d057a4958a3f64ea7907d3b18",
   "display_name": "Python 3.8.6 32-bit"
  }
 },
 "nbformat": 4,
 "nbformat_minor": 2,
 "cells": [
  {
   "cell_type": "code",
   "execution_count": 253,
   "metadata": {},
   "outputs": [],
   "source": [
    "import pandas as pd\n",
    "import re"
   ]
  },
  {
   "cell_type": "code",
   "execution_count": 254,
   "metadata": {},
   "outputs": [
    {
     "output_type": "execute_result",
     "data": {
      "text/plain": [
       "                                                               name  \\\n",
       "0   Iphone 11 128GB Garansi Resmi TAM / Ibox - white, 64 New Packed   \n",
       "1                       IPhone 12 Garansi Resmi Ibox - Hijau, 64 gb   \n",
       "2                                        Iphone 12 mini 128GB - Red   \n",
       "3                                      Iphone 12 mini 128GB - White   \n",
       "4                             (OFFICIAL) Iphone 12 Pro 512GB - Gold   \n",
       "..                                                              ...   \n",
       "28                          Iphone 13 Pro Max 256gb - Garansi Resmi   \n",
       "29                                      Iphone 13 mini 256GB - Pink   \n",
       "30                        (OFFICIAL) Iphone 12 Pro 512GB - Graphite   \n",
       "31                                       Iphone 13 512GB - Midnight   \n",
       "32                                     Iphone 12 mini 128GB - Black   \n",
       "\n",
       "            price                             shop     location  \n",
       "0    Rp 7.950.000                                -            -  \n",
       "1   Rp 11.599.000                                -            -  \n",
       "2    Rp10.499.000  Wellio Smartphone Official Shop  Kab. Bekasi  \n",
       "3    Rp10.499.000  Wellio Smartphone Official Shop  Kab. Bekasi  \n",
       "4    Rp19.299.000  Wellio Smartphone Official Shop  Kab. Bekasi  \n",
       "..            ...                              ...          ...  \n",
       "28   Rp19.991.000                    Maju Hardware       Madiun  \n",
       "29   Rp15.999.000  Wellio Smartphone Official Shop  Kab. Bekasi  \n",
       "30   Rp19.299.000  Wellio Smartphone Official Shop  Kab. Bekasi  \n",
       "31   Rp20.099.000  Wellio Smartphone Official Shop  Kab. Bekasi  \n",
       "32   Rp10.499.000  Wellio Smartphone Official Shop  Kab. Bekasi  \n",
       "\n",
       "[175 rows x 4 columns]"
      ],
      "text/html": "<div>\n<style scoped>\n    .dataframe tbody tr th:only-of-type {\n        vertical-align: middle;\n    }\n\n    .dataframe tbody tr th {\n        vertical-align: top;\n    }\n\n    .dataframe thead th {\n        text-align: right;\n    }\n</style>\n<table border=\"1\" class=\"dataframe\">\n  <thead>\n    <tr style=\"text-align: right;\">\n      <th></th>\n      <th>name</th>\n      <th>price</th>\n      <th>shop</th>\n      <th>location</th>\n    </tr>\n  </thead>\n  <tbody>\n    <tr>\n      <th>0</th>\n      <td>Iphone 11 128GB Garansi Resmi TAM / Ibox - white, 64 New Packed</td>\n      <td>Rp 7.950.000</td>\n      <td>-</td>\n      <td>-</td>\n    </tr>\n    <tr>\n      <th>1</th>\n      <td>IPhone 12 Garansi Resmi Ibox - Hijau, 64 gb</td>\n      <td>Rp 11.599.000</td>\n      <td>-</td>\n      <td>-</td>\n    </tr>\n    <tr>\n      <th>2</th>\n      <td>Iphone 12 mini 128GB - Red</td>\n      <td>Rp10.499.000</td>\n      <td>Wellio Smartphone Official Shop</td>\n      <td>Kab. Bekasi</td>\n    </tr>\n    <tr>\n      <th>3</th>\n      <td>Iphone 12 mini 128GB - White</td>\n      <td>Rp10.499.000</td>\n      <td>Wellio Smartphone Official Shop</td>\n      <td>Kab. Bekasi</td>\n    </tr>\n    <tr>\n      <th>4</th>\n      <td>(OFFICIAL) Iphone 12 Pro 512GB - Gold</td>\n      <td>Rp19.299.000</td>\n      <td>Wellio Smartphone Official Shop</td>\n      <td>Kab. Bekasi</td>\n    </tr>\n    <tr>\n      <th>...</th>\n      <td>...</td>\n      <td>...</td>\n      <td>...</td>\n      <td>...</td>\n    </tr>\n    <tr>\n      <th>28</th>\n      <td>Iphone 13 Pro Max 256gb - Garansi Resmi</td>\n      <td>Rp19.991.000</td>\n      <td>Maju Hardware</td>\n      <td>Madiun</td>\n    </tr>\n    <tr>\n      <th>29</th>\n      <td>Iphone 13 mini 256GB - Pink</td>\n      <td>Rp15.999.000</td>\n      <td>Wellio Smartphone Official Shop</td>\n      <td>Kab. Bekasi</td>\n    </tr>\n    <tr>\n      <th>30</th>\n      <td>(OFFICIAL) Iphone 12 Pro 512GB - Graphite</td>\n      <td>Rp19.299.000</td>\n      <td>Wellio Smartphone Official Shop</td>\n      <td>Kab. Bekasi</td>\n    </tr>\n    <tr>\n      <th>31</th>\n      <td>Iphone 13 512GB - Midnight</td>\n      <td>Rp20.099.000</td>\n      <td>Wellio Smartphone Official Shop</td>\n      <td>Kab. Bekasi</td>\n    </tr>\n    <tr>\n      <th>32</th>\n      <td>Iphone 12 mini 128GB - Black</td>\n      <td>Rp10.499.000</td>\n      <td>Wellio Smartphone Official Shop</td>\n      <td>Kab. Bekasi</td>\n    </tr>\n  </tbody>\n</table>\n<p>175 rows × 4 columns</p>\n</div>"
     },
     "metadata": {},
     "execution_count": 254
    }
   ],
   "source": [
    "df1 = pd.read_csv('result-1.csv')\n",
    "df2 = pd.read_csv('result-2.csv')\n",
    "df3 = pd.read_csv('result-3.csv')\n",
    "\n",
    "df = pd.concat([df1,df2,df3])\n",
    "df"
   ]
  },
  {
   "cell_type": "code",
   "execution_count": 255,
   "metadata": {},
   "outputs": [],
   "source": [
    "pd.options.display.max_colwidth = 100\n",
    "pd.options.display.max_rows = 10"
   ]
  },
  {
   "cell_type": "code",
   "execution_count": 256,
   "metadata": {},
   "outputs": [
    {
     "output_type": "execute_result",
     "data": {
      "text/plain": [
       "                                                                  name  \\\n",
       "index                                                                    \n",
       "0      Iphone 11 128GB Garansi Resmi TAM / Ibox - white, 64 New Packed   \n",
       "1                          IPhone 12 Garansi Resmi Ibox - Hijau, 64 gb   \n",
       "2                                           Iphone 12 mini 128GB - Red   \n",
       "3                                         Iphone 12 mini 128GB - White   \n",
       "4                                (OFFICIAL) Iphone 12 Pro 512GB - Gold   \n",
       "...                                                                ...   \n",
       "170                            Iphone 13 Pro Max 256gb - Garansi Resmi   \n",
       "171                                        Iphone 13 mini 256GB - Pink   \n",
       "172                          (OFFICIAL) Iphone 12 Pro 512GB - Graphite   \n",
       "173                                         Iphone 13 512GB - Midnight   \n",
       "174                                       Iphone 12 mini 128GB - Black   \n",
       "\n",
       "               price                             shop     location  \n",
       "index                                                               \n",
       "0       Rp 7.950.000                                -            -  \n",
       "1      Rp 11.599.000                                -            -  \n",
       "2       Rp10.499.000  Wellio Smartphone Official Shop  Kab. Bekasi  \n",
       "3       Rp10.499.000  Wellio Smartphone Official Shop  Kab. Bekasi  \n",
       "4       Rp19.299.000  Wellio Smartphone Official Shop  Kab. Bekasi  \n",
       "...              ...                              ...          ...  \n",
       "170     Rp19.991.000                    Maju Hardware       Madiun  \n",
       "171     Rp15.999.000  Wellio Smartphone Official Shop  Kab. Bekasi  \n",
       "172     Rp19.299.000  Wellio Smartphone Official Shop  Kab. Bekasi  \n",
       "173     Rp20.099.000  Wellio Smartphone Official Shop  Kab. Bekasi  \n",
       "174     Rp10.499.000  Wellio Smartphone Official Shop  Kab. Bekasi  \n",
       "\n",
       "[175 rows x 4 columns]"
      ],
      "text/html": "<div>\n<style scoped>\n    .dataframe tbody tr th:only-of-type {\n        vertical-align: middle;\n    }\n\n    .dataframe tbody tr th {\n        vertical-align: top;\n    }\n\n    .dataframe thead th {\n        text-align: right;\n    }\n</style>\n<table border=\"1\" class=\"dataframe\">\n  <thead>\n    <tr style=\"text-align: right;\">\n      <th></th>\n      <th>name</th>\n      <th>price</th>\n      <th>shop</th>\n      <th>location</th>\n    </tr>\n    <tr>\n      <th>index</th>\n      <th></th>\n      <th></th>\n      <th></th>\n      <th></th>\n    </tr>\n  </thead>\n  <tbody>\n    <tr>\n      <th>0</th>\n      <td>Iphone 11 128GB Garansi Resmi TAM / Ibox - white, 64 New Packed</td>\n      <td>Rp 7.950.000</td>\n      <td>-</td>\n      <td>-</td>\n    </tr>\n    <tr>\n      <th>1</th>\n      <td>IPhone 12 Garansi Resmi Ibox - Hijau, 64 gb</td>\n      <td>Rp 11.599.000</td>\n      <td>-</td>\n      <td>-</td>\n    </tr>\n    <tr>\n      <th>2</th>\n      <td>Iphone 12 mini 128GB - Red</td>\n      <td>Rp10.499.000</td>\n      <td>Wellio Smartphone Official Shop</td>\n      <td>Kab. Bekasi</td>\n    </tr>\n    <tr>\n      <th>3</th>\n      <td>Iphone 12 mini 128GB - White</td>\n      <td>Rp10.499.000</td>\n      <td>Wellio Smartphone Official Shop</td>\n      <td>Kab. Bekasi</td>\n    </tr>\n    <tr>\n      <th>4</th>\n      <td>(OFFICIAL) Iphone 12 Pro 512GB - Gold</td>\n      <td>Rp19.299.000</td>\n      <td>Wellio Smartphone Official Shop</td>\n      <td>Kab. Bekasi</td>\n    </tr>\n    <tr>\n      <th>...</th>\n      <td>...</td>\n      <td>...</td>\n      <td>...</td>\n      <td>...</td>\n    </tr>\n    <tr>\n      <th>170</th>\n      <td>Iphone 13 Pro Max 256gb - Garansi Resmi</td>\n      <td>Rp19.991.000</td>\n      <td>Maju Hardware</td>\n      <td>Madiun</td>\n    </tr>\n    <tr>\n      <th>171</th>\n      <td>Iphone 13 mini 256GB - Pink</td>\n      <td>Rp15.999.000</td>\n      <td>Wellio Smartphone Official Shop</td>\n      <td>Kab. Bekasi</td>\n    </tr>\n    <tr>\n      <th>172</th>\n      <td>(OFFICIAL) Iphone 12 Pro 512GB - Graphite</td>\n      <td>Rp19.299.000</td>\n      <td>Wellio Smartphone Official Shop</td>\n      <td>Kab. Bekasi</td>\n    </tr>\n    <tr>\n      <th>173</th>\n      <td>Iphone 13 512GB - Midnight</td>\n      <td>Rp20.099.000</td>\n      <td>Wellio Smartphone Official Shop</td>\n      <td>Kab. Bekasi</td>\n    </tr>\n    <tr>\n      <th>174</th>\n      <td>Iphone 12 mini 128GB - Black</td>\n      <td>Rp10.499.000</td>\n      <td>Wellio Smartphone Official Shop</td>\n      <td>Kab. Bekasi</td>\n    </tr>\n  </tbody>\n</table>\n<p>175 rows × 4 columns</p>\n</div>"
     },
     "metadata": {},
     "execution_count": 256
    }
   ],
   "source": [
    "df['index'] = [x for x in range(len(df.name))]\n",
    "df.set_index('index', inplace=True)\n",
    "df"
   ]
  },
  {
   "cell_type": "code",
   "execution_count": 257,
   "metadata": {},
   "outputs": [
    {
     "output_type": "execute_result",
     "data": {
      "text/plain": [
       "                                                                         name  \\\n",
       "index                                                                           \n",
       "7                          Apple Iphone 13 Pro Max 256gb Garansi Resmi [Ibox]   \n",
       "9      Apple Iphone 13 Pro Max 128gb | 256gb | 512gb | 1tb Garansi Resmi Ibox   \n",
       "10             Iphone 13 Pro Max 128gb/256gb/512gb/1tb Garansi Resmi Ibox/Tam   \n",
       "11     Apple Iphone 13 Pro Max 128gb Ibox Dual Sim Green | Iphone 13 Mini 128   \n",
       "12                           Iphone 13 Pro Max 128gb Garansi Resmi Ibox / Tam   \n",
       "...                                                                       ...   \n",
       "163                      Apple Iphone 13 Pro Max 256gb 6.7 Inch Garansi Resmi   \n",
       "164                                     Iphone 13 Pro Max 256gb Garansi Resmi   \n",
       "165                                                   Iphone 13 Pro Max 512gb   \n",
       "166                                   Apple Iphone 13 Pro Max - Garansi Resmi   \n",
       "170                                   Iphone 13 Pro Max 256gb - Garansi Resmi   \n",
       "\n",
       "              price                    shop       location  \n",
       "index                                                       \n",
       "7      Rp23.299.000            tokolasvegas       Surabaya  \n",
       "9      Rp19.699.000          Universe Store  Jakarta Utara  \n",
       "10     Rp19.599.000         Senjaya Selindo  Jakarta Pusat  \n",
       "11     Rp12.765.000           Studio Ponsel  Jakarta Pusat  \n",
       "12     Rp19.689.000  PREMIUM OFFICIAL STORE         Bekasi  \n",
       "...             ...                     ...            ...  \n",
       "163    Rp23.299.000    Andalas Cellular Bpn     Balikpapan  \n",
       "164    Rp23.299.000    SURYAPHONE SAMARINDA      Samarinda  \n",
       "165    Rp27.299.000    SURYAPHONE SAMARINDA      Samarinda  \n",
       "166    Rp23.299.000             Gadget Mart    Banjarmasin  \n",
       "170    Rp19.991.000           Maju Hardware         Madiun  \n",
       "\n",
       "[128 rows x 4 columns]"
      ],
      "text/html": "<div>\n<style scoped>\n    .dataframe tbody tr th:only-of-type {\n        vertical-align: middle;\n    }\n\n    .dataframe tbody tr th {\n        vertical-align: top;\n    }\n\n    .dataframe thead th {\n        text-align: right;\n    }\n</style>\n<table border=\"1\" class=\"dataframe\">\n  <thead>\n    <tr style=\"text-align: right;\">\n      <th></th>\n      <th>name</th>\n      <th>price</th>\n      <th>shop</th>\n      <th>location</th>\n    </tr>\n    <tr>\n      <th>index</th>\n      <th></th>\n      <th></th>\n      <th></th>\n      <th></th>\n    </tr>\n  </thead>\n  <tbody>\n    <tr>\n      <th>7</th>\n      <td>Apple Iphone 13 Pro Max 256gb Garansi Resmi [Ibox]</td>\n      <td>Rp23.299.000</td>\n      <td>tokolasvegas</td>\n      <td>Surabaya</td>\n    </tr>\n    <tr>\n      <th>9</th>\n      <td>Apple Iphone 13 Pro Max 128gb | 256gb | 512gb | 1tb Garansi Resmi Ibox</td>\n      <td>Rp19.699.000</td>\n      <td>Universe Store</td>\n      <td>Jakarta Utara</td>\n    </tr>\n    <tr>\n      <th>10</th>\n      <td>Iphone 13 Pro Max 128gb/256gb/512gb/1tb Garansi Resmi Ibox/Tam</td>\n      <td>Rp19.599.000</td>\n      <td>Senjaya Selindo</td>\n      <td>Jakarta Pusat</td>\n    </tr>\n    <tr>\n      <th>11</th>\n      <td>Apple Iphone 13 Pro Max 128gb Ibox Dual Sim Green | Iphone 13 Mini 128</td>\n      <td>Rp12.765.000</td>\n      <td>Studio Ponsel</td>\n      <td>Jakarta Pusat</td>\n    </tr>\n    <tr>\n      <th>12</th>\n      <td>Iphone 13 Pro Max 128gb Garansi Resmi Ibox / Tam</td>\n      <td>Rp19.689.000</td>\n      <td>PREMIUM OFFICIAL STORE</td>\n      <td>Bekasi</td>\n    </tr>\n    <tr>\n      <th>...</th>\n      <td>...</td>\n      <td>...</td>\n      <td>...</td>\n      <td>...</td>\n    </tr>\n    <tr>\n      <th>163</th>\n      <td>Apple Iphone 13 Pro Max 256gb 6.7 Inch Garansi Resmi</td>\n      <td>Rp23.299.000</td>\n      <td>Andalas Cellular Bpn</td>\n      <td>Balikpapan</td>\n    </tr>\n    <tr>\n      <th>164</th>\n      <td>Iphone 13 Pro Max 256gb Garansi Resmi</td>\n      <td>Rp23.299.000</td>\n      <td>SURYAPHONE SAMARINDA</td>\n      <td>Samarinda</td>\n    </tr>\n    <tr>\n      <th>165</th>\n      <td>Iphone 13 Pro Max 512gb</td>\n      <td>Rp27.299.000</td>\n      <td>SURYAPHONE SAMARINDA</td>\n      <td>Samarinda</td>\n    </tr>\n    <tr>\n      <th>166</th>\n      <td>Apple Iphone 13 Pro Max - Garansi Resmi</td>\n      <td>Rp23.299.000</td>\n      <td>Gadget Mart</td>\n      <td>Banjarmasin</td>\n    </tr>\n    <tr>\n      <th>170</th>\n      <td>Iphone 13 Pro Max 256gb - Garansi Resmi</td>\n      <td>Rp19.991.000</td>\n      <td>Maju Hardware</td>\n      <td>Madiun</td>\n    </tr>\n  </tbody>\n</table>\n<p>128 rows × 4 columns</p>\n</div>"
     },
     "metadata": {},
     "execution_count": 257
    }
   ],
   "source": [
    "# Iphone 13 pro max has 3 variance: 128gb, 256gb, 512gb\n",
    "# i choose 128gb\n",
    "df = df.loc[df.name.str.contains(r\"iphone 13 pro max\", case=False, regex=False), :]\n",
    "df"
   ]
  },
  {
   "cell_type": "code",
   "execution_count": 258,
   "metadata": {},
   "outputs": [
    {
     "output_type": "execute_result",
     "data": {
      "text/plain": [
       "                                                                         name  \\\n",
       "index                                                                           \n",
       "9      Apple Iphone 13 Pro Max 128gb | 256gb | 512gb | 1tb Garansi Resmi Ibox   \n",
       "10             Iphone 13 Pro Max 128gb/256gb/512gb/1tb Garansi Resmi Ibox/Tam   \n",
       "11     Apple Iphone 13 Pro Max 128gb Ibox Dual Sim Green | Iphone 13 Mini 128   \n",
       "12                           Iphone 13 Pro Max 128gb Garansi Resmi Ibox / Tam   \n",
       "13      Iphone 13 Pro Max Ibox Dual Sim Green 1tb 512gb 256gb 128gb | 13 Mini   \n",
       "17                             Iphone 13 Pro Max 128gb Garansi Resmi Tam/Ibox   \n",
       "18      Apple Iphone 13 Pro Max 128/256/512 Gb 1 Tb Rom 128 256 512gb 1tb Ios   \n",
       "21      Iphone 13 Pro Max 1tb 5g Ibox 128gb 256gb 512gb - Not 12 Mini 256 128   \n",
       "22                     Apple Iphone 13 Pro Max 128gb Grs Resmi Ibox Indonesia   \n",
       "23                    Iphone 13 Pro Max 128 256 512 Gb 1tb Garansi Resmi Ibox   \n",
       "31              Iphone 13 Pro Max Dual Sim 1tb 512gb 256gb 128gb Apple Promax   \n",
       "34         Apple Iphone 13 Pro Max 128gb Garansi Resmi Ibox / Tam / Indonesia   \n",
       "37     Iphone 13 Pro Max 128gb / 256gb / 512gb / 1tb Garansi Resmi Tam / Ibox   \n",
       "41     Apple Iphone 13 Pro Max 128,256,512gb,1tb Garansi Resmi Ibox Indonesia   \n",
       "43       Iphone 13 Pro Max 128gb Garansi Resmi Ibox | Apple Iphone 13 Pro Max   \n",
       "46                                 Iphone 13 Pro Max 128gb Garansi Resmi Ibox   \n",
       "47           Apple Iphone 13 Pro Max (128/256/512/1tb) Garansi Resmi Ibox Tam   \n",
       "49      Iphone 13 Pro Max 1tb 5g Ibox 128gb 256gb 512gb - Not 12 Mini 128 256   \n",
       "52                                              Apple Iphone 13 Pro Max 128gb   \n",
       "54                          Apple Iphone 13 Pro Max [ 128gb ] - Garansi Resmi   \n",
       "58                             Iphone 13 Pro Max 128gb Garansi Resmi Ibox Tam   \n",
       "60                      Iphone 13 Pro Max 128gb 256gb 512gb 1tb Garansi Resmi   \n",
       "61                                 Iphone 13 Pro Max 128gb Garansi Resmi Ibox   \n",
       "63         Apple Iphone 13 Pro Max 128gb Garansi Resmi Tam / Ibox / Indonesia   \n",
       "65                      Iphone 13 Pro Max 128gb 256gb 512gb 1tb Garansi Resmi   \n",
       "66                                 Iphone 13 Pro Max 128gb Garansi Resmi Ibox   \n",
       "78       Apple Iphone 13 Pro Max 128gb 256gb 512gb Binb New Ibox New Original   \n",
       "87                           (Official) Iphone 13 Pro Max 128gb - Sierra Blue   \n",
       "91      Iphone 13 Pro Max 128gb 256gb 512gb 1tb Blue Graphite Gold - Ibox 1th   \n",
       "97                   Iphone 13 Pro Max 1tb 512 Gb 256 Gb 128 Gb Garansi Resmi   \n",
       "98             Iphone 13 Pro Max 128gb/256gb/512gb/1tb Garansi Resmi Ibox/Tam   \n",
       "99                                                    Iphone 13 Pro Max 128gb   \n",
       "101                          (Official) Iphone 13 Pro Max 128gb - Sierra Blue   \n",
       "107           Iphone 13 Pro Max Green Edition 128gb 256gb 512gb Garansi Inter   \n",
       "109                                   Iphone 13 Pro Max 128gb 256gb 512gb 1tb   \n",
       "111                         Iphone 13 Pro Max 128gb Barang Baru Garansi Resmi   \n",
       "115                   Iphone 13 Pro Max Internal 128gb Garansi Resmi Tam Ibox   \n",
       "119                      Iphone 13 Pro Max 128gb Ibox / Single / Dual / Apple   \n",
       "121                                             Apple Iphone 13 Pro Max 128gb   \n",
       "123                                             Apple Iphone 13 Pro Max 128gb   \n",
       "124                (Ibox) Iphone 13 Pro Max 128gb / 256gb / 512gb / 1tb Resmi   \n",
       "126                                                   Iphone 13 Pro Max 128gb   \n",
       "128                                             Apple Iphone 13 Pro Max 128gb   \n",
       "130                        Apple Iphone 13 Pro Max 128gb Garansi Resmi [Ibox]   \n",
       "135       Iphone 13 Pro Max (128gb, 256gb, 512gb, 1tb, Wireless Charging 15w)   \n",
       "137    Iphone 13 Pro Max 128gb 256gb 512gb 1tb Sierra Blue Graphite Gold Silv   \n",
       "149               Iphone 13 Pro Max Promax 128gb | 256gb | 512gb | 1tb Series   \n",
       "150                                       Iphone 13 Pro Max 128gb/256gb/512gb   \n",
       "152     Iphone 13 Pro Max 128gb|256gb|512gb|1tb New Series - Garansi Ibox 1th   \n",
       "154      Iphone 13 Pro Max Green 128gb / 256gb / 512gb / 1tb Garansi Ibox 1th   \n",
       "155                Iphone 13 Pro Max 128gb | 256gb | 512gb Garansi Resmi Ibox   \n",
       "156     Iphone 13 Pro Max 128gb | 256gb | 512gb | 1tb - Original Garansi Ibox   \n",
       "158                      Apple Iphone 13 Pro Max 128gb Garansi Resmi Tam/Ibox   \n",
       "160                      Apple Iphone 13 Pro Max 128gb 6.7 Inch Garansi Resmi   \n",
       "\n",
       "              price                             shop         location  \n",
       "index                                                                  \n",
       "9      Rp19.699.000                   Universe Store    Jakarta Utara  \n",
       "10     Rp19.599.000                  Senjaya Selindo    Jakarta Pusat  \n",
       "11     Rp12.765.000                    Studio Ponsel    Jakarta Pusat  \n",
       "12     Rp19.689.000           PREMIUM OFFICIAL STORE           Bekasi  \n",
       "13     Rp12.765.000                    Studio Ponsel    Jakarta Pusat  \n",
       "17     Rp19.699.000                    INTIKOM STORE            Medan  \n",
       "18     Rp19.797.000                     SUPER_GADGET    Jakarta Pusat  \n",
       "21     Rp14.728.000               Dewa Ponsel Rakyat    Jakarta Pusat  \n",
       "22     Rp19.349.000                        CMP phone    Jakarta Pusat  \n",
       "23     Rp19.799.000                        Garasi.ku    Jakarta Pusat  \n",
       "31     Rp17.410.000                    Studio Ponsel    Jakarta Pusat  \n",
       "34     Rp19.743.000                 SFONE OMNI STORE  Jakarta Selatan  \n",
       "37     Rp22.135.000                 Kreasindo Online    Jakarta Pusat  \n",
       "41     Rp26.079.000                      Ori Selular           Bekasi  \n",
       "43     Rp19.799.000                           Wijaya           Bekasi  \n",
       "46     Rp19.699.000              Rajaponsel Official          Bandung  \n",
       "47     Rp19.699.000                 murahmeriah shop  Jakarta Selatan  \n",
       "49     Rp18.118.000               Distributor Ponsel    Jakarta Pusat  \n",
       "52     Rp19.499.000          Bhinneka Official Store    Jakarta Utara  \n",
       "54     Rp20.180.900                     Gadhet-Holic    Jakarta Pusat  \n",
       "58     Rp19.689.000                      Shadow Gold           Bekasi  \n",
       "60     Rp21.099.000                      Super Store    Jakarta Pusat  \n",
       "61     Rp19.999.000                      enterphone2    Jakarta Pusat  \n",
       "63     Rp19.639.000                         Vote VIP    Jakarta Utara  \n",
       "65     Rp19.870.000                      Pandawatiga    Jakarta Pusat  \n",
       "66     Rp19.999.000                        JKT-PHONE    Jakarta Pusat  \n",
       "78     Rp19.650.000                      kotakkatik_  Kab. Purwakarta  \n",
       "87     Rp20.699.000  Wellio Smartphone Official Shop      Kab. Bekasi  \n",
       "91     Rp22.259.000                   Gadget Channel    Jakarta Pusat  \n",
       "97     Rp19.880.000                         angel 19        Tangerang  \n",
       "98     Rp19.999.000                         Nic-cell    Jakarta Pusat  \n",
       "99     Rp21.690.100            ITC Roxy Mas Official    Jakarta Pusat  \n",
       "101    Rp20.699.000             Wellio Official Shop      Kab. Bekasi  \n",
       "107    Rp17.995.000               Dewa Ponsel Rakyat    Jakarta Pusat  \n",
       "109    Rp20.059.000                       Gawai Mart    Jakarta Pusat  \n",
       "111    Rp20.199.000              LotteMart Indonesia  Jakarta Selatan  \n",
       "115    Rp20.199.000                  VJ Princellindo           Bekasi  \n",
       "119    Rp17.338.000                           HokiHP    Jakarta Pusat  \n",
       "121    Rp20.199.000                             DOSS  Jakarta Selatan  \n",
       "123    Rp19.699.000                    Indokom Store    Jakarta Pusat  \n",
       "124    Rp20.199.000           Diamond Handphone Bali         Denpasar  \n",
       "126    Rp19.899.000                Atlantic Cellular           Cimahi  \n",
       "128    Rp20.199.000                        dossjogja      Kab. Sleman  \n",
       "130    Rp20.199.000                     tokolasvegas         Surabaya  \n",
       "135    Rp20.199.000             TIGA PUTRA HP CENTER           Malang  \n",
       "137    Rp23.625.000                      BeyondGames          Bandung  \n",
       "149    Rp19.359.000               Gadget Point Store         Surabaya  \n",
       "150    Rp20.199.000                  alibabastore.id           Malang  \n",
       "152    Rp19.359.000                     Doran Gadget         Surabaya  \n",
       "154    Rp19.359.000                     Doran Gadget         Surabaya  \n",
       "155    Rp22.259.000                     Fenix Gadget         Surabaya  \n",
       "156    Rp20.179.000            Doran Gadget Semarang         Semarang  \n",
       "158    Rp19.650.000                      kotakkatik_  Kab. Purwakarta  \n",
       "160    Rp20.199.000             Andalas Cellular Bpn       Balikpapan  "
      ],
      "text/html": "<div>\n<style scoped>\n    .dataframe tbody tr th:only-of-type {\n        vertical-align: middle;\n    }\n\n    .dataframe tbody tr th {\n        vertical-align: top;\n    }\n\n    .dataframe thead th {\n        text-align: right;\n    }\n</style>\n<table border=\"1\" class=\"dataframe\">\n  <thead>\n    <tr style=\"text-align: right;\">\n      <th></th>\n      <th>name</th>\n      <th>price</th>\n      <th>shop</th>\n      <th>location</th>\n    </tr>\n    <tr>\n      <th>index</th>\n      <th></th>\n      <th></th>\n      <th></th>\n      <th></th>\n    </tr>\n  </thead>\n  <tbody>\n    <tr>\n      <th>9</th>\n      <td>Apple Iphone 13 Pro Max 128gb | 256gb | 512gb | 1tb Garansi Resmi Ibox</td>\n      <td>Rp19.699.000</td>\n      <td>Universe Store</td>\n      <td>Jakarta Utara</td>\n    </tr>\n    <tr>\n      <th>10</th>\n      <td>Iphone 13 Pro Max 128gb/256gb/512gb/1tb Garansi Resmi Ibox/Tam</td>\n      <td>Rp19.599.000</td>\n      <td>Senjaya Selindo</td>\n      <td>Jakarta Pusat</td>\n    </tr>\n    <tr>\n      <th>11</th>\n      <td>Apple Iphone 13 Pro Max 128gb Ibox Dual Sim Green | Iphone 13 Mini 128</td>\n      <td>Rp12.765.000</td>\n      <td>Studio Ponsel</td>\n      <td>Jakarta Pusat</td>\n    </tr>\n    <tr>\n      <th>12</th>\n      <td>Iphone 13 Pro Max 128gb Garansi Resmi Ibox / Tam</td>\n      <td>Rp19.689.000</td>\n      <td>PREMIUM OFFICIAL STORE</td>\n      <td>Bekasi</td>\n    </tr>\n    <tr>\n      <th>13</th>\n      <td>Iphone 13 Pro Max Ibox Dual Sim Green 1tb 512gb 256gb 128gb | 13 Mini</td>\n      <td>Rp12.765.000</td>\n      <td>Studio Ponsel</td>\n      <td>Jakarta Pusat</td>\n    </tr>\n    <tr>\n      <th>17</th>\n      <td>Iphone 13 Pro Max 128gb Garansi Resmi Tam/Ibox</td>\n      <td>Rp19.699.000</td>\n      <td>INTIKOM STORE</td>\n      <td>Medan</td>\n    </tr>\n    <tr>\n      <th>18</th>\n      <td>Apple Iphone 13 Pro Max 128/256/512 Gb 1 Tb Rom 128 256 512gb 1tb Ios</td>\n      <td>Rp19.797.000</td>\n      <td>SUPER_GADGET</td>\n      <td>Jakarta Pusat</td>\n    </tr>\n    <tr>\n      <th>21</th>\n      <td>Iphone 13 Pro Max 1tb 5g Ibox 128gb 256gb 512gb - Not 12 Mini 256 128</td>\n      <td>Rp14.728.000</td>\n      <td>Dewa Ponsel Rakyat</td>\n      <td>Jakarta Pusat</td>\n    </tr>\n    <tr>\n      <th>22</th>\n      <td>Apple Iphone 13 Pro Max 128gb Grs Resmi Ibox Indonesia</td>\n      <td>Rp19.349.000</td>\n      <td>CMP phone</td>\n      <td>Jakarta Pusat</td>\n    </tr>\n    <tr>\n      <th>23</th>\n      <td>Iphone 13 Pro Max 128 256 512 Gb 1tb Garansi Resmi Ibox</td>\n      <td>Rp19.799.000</td>\n      <td>Garasi.ku</td>\n      <td>Jakarta Pusat</td>\n    </tr>\n    <tr>\n      <th>31</th>\n      <td>Iphone 13 Pro Max Dual Sim 1tb 512gb 256gb 128gb Apple Promax</td>\n      <td>Rp17.410.000</td>\n      <td>Studio Ponsel</td>\n      <td>Jakarta Pusat</td>\n    </tr>\n    <tr>\n      <th>34</th>\n      <td>Apple Iphone 13 Pro Max 128gb Garansi Resmi Ibox / Tam / Indonesia</td>\n      <td>Rp19.743.000</td>\n      <td>SFONE OMNI STORE</td>\n      <td>Jakarta Selatan</td>\n    </tr>\n    <tr>\n      <th>37</th>\n      <td>Iphone 13 Pro Max 128gb / 256gb / 512gb / 1tb Garansi Resmi Tam / Ibox</td>\n      <td>Rp22.135.000</td>\n      <td>Kreasindo Online</td>\n      <td>Jakarta Pusat</td>\n    </tr>\n    <tr>\n      <th>41</th>\n      <td>Apple Iphone 13 Pro Max 128,256,512gb,1tb Garansi Resmi Ibox Indonesia</td>\n      <td>Rp26.079.000</td>\n      <td>Ori Selular</td>\n      <td>Bekasi</td>\n    </tr>\n    <tr>\n      <th>43</th>\n      <td>Iphone 13 Pro Max 128gb Garansi Resmi Ibox | Apple Iphone 13 Pro Max</td>\n      <td>Rp19.799.000</td>\n      <td>Wijaya</td>\n      <td>Bekasi</td>\n    </tr>\n    <tr>\n      <th>46</th>\n      <td>Iphone 13 Pro Max 128gb Garansi Resmi Ibox</td>\n      <td>Rp19.699.000</td>\n      <td>Rajaponsel Official</td>\n      <td>Bandung</td>\n    </tr>\n    <tr>\n      <th>47</th>\n      <td>Apple Iphone 13 Pro Max (128/256/512/1tb) Garansi Resmi Ibox Tam</td>\n      <td>Rp19.699.000</td>\n      <td>murahmeriah shop</td>\n      <td>Jakarta Selatan</td>\n    </tr>\n    <tr>\n      <th>49</th>\n      <td>Iphone 13 Pro Max 1tb 5g Ibox 128gb 256gb 512gb - Not 12 Mini 128 256</td>\n      <td>Rp18.118.000</td>\n      <td>Distributor Ponsel</td>\n      <td>Jakarta Pusat</td>\n    </tr>\n    <tr>\n      <th>52</th>\n      <td>Apple Iphone 13 Pro Max 128gb</td>\n      <td>Rp19.499.000</td>\n      <td>Bhinneka Official Store</td>\n      <td>Jakarta Utara</td>\n    </tr>\n    <tr>\n      <th>54</th>\n      <td>Apple Iphone 13 Pro Max [ 128gb ] - Garansi Resmi</td>\n      <td>Rp20.180.900</td>\n      <td>Gadhet-Holic</td>\n      <td>Jakarta Pusat</td>\n    </tr>\n    <tr>\n      <th>58</th>\n      <td>Iphone 13 Pro Max 128gb Garansi Resmi Ibox Tam</td>\n      <td>Rp19.689.000</td>\n      <td>Shadow Gold</td>\n      <td>Bekasi</td>\n    </tr>\n    <tr>\n      <th>60</th>\n      <td>Iphone 13 Pro Max 128gb 256gb 512gb 1tb Garansi Resmi</td>\n      <td>Rp21.099.000</td>\n      <td>Super Store</td>\n      <td>Jakarta Pusat</td>\n    </tr>\n    <tr>\n      <th>61</th>\n      <td>Iphone 13 Pro Max 128gb Garansi Resmi Ibox</td>\n      <td>Rp19.999.000</td>\n      <td>enterphone2</td>\n      <td>Jakarta Pusat</td>\n    </tr>\n    <tr>\n      <th>63</th>\n      <td>Apple Iphone 13 Pro Max 128gb Garansi Resmi Tam / Ibox / Indonesia</td>\n      <td>Rp19.639.000</td>\n      <td>Vote VIP</td>\n      <td>Jakarta Utara</td>\n    </tr>\n    <tr>\n      <th>65</th>\n      <td>Iphone 13 Pro Max 128gb 256gb 512gb 1tb Garansi Resmi</td>\n      <td>Rp19.870.000</td>\n      <td>Pandawatiga</td>\n      <td>Jakarta Pusat</td>\n    </tr>\n    <tr>\n      <th>66</th>\n      <td>Iphone 13 Pro Max 128gb Garansi Resmi Ibox</td>\n      <td>Rp19.999.000</td>\n      <td>JKT-PHONE</td>\n      <td>Jakarta Pusat</td>\n    </tr>\n    <tr>\n      <th>78</th>\n      <td>Apple Iphone 13 Pro Max 128gb 256gb 512gb Binb New Ibox New Original</td>\n      <td>Rp19.650.000</td>\n      <td>kotakkatik_</td>\n      <td>Kab. Purwakarta</td>\n    </tr>\n    <tr>\n      <th>87</th>\n      <td>(Official) Iphone 13 Pro Max 128gb - Sierra Blue</td>\n      <td>Rp20.699.000</td>\n      <td>Wellio Smartphone Official Shop</td>\n      <td>Kab. Bekasi</td>\n    </tr>\n    <tr>\n      <th>91</th>\n      <td>Iphone 13 Pro Max 128gb 256gb 512gb 1tb Blue Graphite Gold - Ibox 1th</td>\n      <td>Rp22.259.000</td>\n      <td>Gadget Channel</td>\n      <td>Jakarta Pusat</td>\n    </tr>\n    <tr>\n      <th>97</th>\n      <td>Iphone 13 Pro Max 1tb 512 Gb 256 Gb 128 Gb Garansi Resmi</td>\n      <td>Rp19.880.000</td>\n      <td>angel 19</td>\n      <td>Tangerang</td>\n    </tr>\n    <tr>\n      <th>98</th>\n      <td>Iphone 13 Pro Max 128gb/256gb/512gb/1tb Garansi Resmi Ibox/Tam</td>\n      <td>Rp19.999.000</td>\n      <td>Nic-cell</td>\n      <td>Jakarta Pusat</td>\n    </tr>\n    <tr>\n      <th>99</th>\n      <td>Iphone 13 Pro Max 128gb</td>\n      <td>Rp21.690.100</td>\n      <td>ITC Roxy Mas Official</td>\n      <td>Jakarta Pusat</td>\n    </tr>\n    <tr>\n      <th>101</th>\n      <td>(Official) Iphone 13 Pro Max 128gb - Sierra Blue</td>\n      <td>Rp20.699.000</td>\n      <td>Wellio Official Shop</td>\n      <td>Kab. Bekasi</td>\n    </tr>\n    <tr>\n      <th>107</th>\n      <td>Iphone 13 Pro Max Green Edition 128gb 256gb 512gb Garansi Inter</td>\n      <td>Rp17.995.000</td>\n      <td>Dewa Ponsel Rakyat</td>\n      <td>Jakarta Pusat</td>\n    </tr>\n    <tr>\n      <th>109</th>\n      <td>Iphone 13 Pro Max 128gb 256gb 512gb 1tb</td>\n      <td>Rp20.059.000</td>\n      <td>Gawai Mart</td>\n      <td>Jakarta Pusat</td>\n    </tr>\n    <tr>\n      <th>111</th>\n      <td>Iphone 13 Pro Max 128gb Barang Baru Garansi Resmi</td>\n      <td>Rp20.199.000</td>\n      <td>LotteMart Indonesia</td>\n      <td>Jakarta Selatan</td>\n    </tr>\n    <tr>\n      <th>115</th>\n      <td>Iphone 13 Pro Max Internal 128gb Garansi Resmi Tam Ibox</td>\n      <td>Rp20.199.000</td>\n      <td>VJ Princellindo</td>\n      <td>Bekasi</td>\n    </tr>\n    <tr>\n      <th>119</th>\n      <td>Iphone 13 Pro Max 128gb Ibox / Single / Dual / Apple</td>\n      <td>Rp17.338.000</td>\n      <td>HokiHP</td>\n      <td>Jakarta Pusat</td>\n    </tr>\n    <tr>\n      <th>121</th>\n      <td>Apple Iphone 13 Pro Max 128gb</td>\n      <td>Rp20.199.000</td>\n      <td>DOSS</td>\n      <td>Jakarta Selatan</td>\n    </tr>\n    <tr>\n      <th>123</th>\n      <td>Apple Iphone 13 Pro Max 128gb</td>\n      <td>Rp19.699.000</td>\n      <td>Indokom Store</td>\n      <td>Jakarta Pusat</td>\n    </tr>\n    <tr>\n      <th>124</th>\n      <td>(Ibox) Iphone 13 Pro Max 128gb / 256gb / 512gb / 1tb Resmi</td>\n      <td>Rp20.199.000</td>\n      <td>Diamond Handphone Bali</td>\n      <td>Denpasar</td>\n    </tr>\n    <tr>\n      <th>126</th>\n      <td>Iphone 13 Pro Max 128gb</td>\n      <td>Rp19.899.000</td>\n      <td>Atlantic Cellular</td>\n      <td>Cimahi</td>\n    </tr>\n    <tr>\n      <th>128</th>\n      <td>Apple Iphone 13 Pro Max 128gb</td>\n      <td>Rp20.199.000</td>\n      <td>dossjogja</td>\n      <td>Kab. Sleman</td>\n    </tr>\n    <tr>\n      <th>130</th>\n      <td>Apple Iphone 13 Pro Max 128gb Garansi Resmi [Ibox]</td>\n      <td>Rp20.199.000</td>\n      <td>tokolasvegas</td>\n      <td>Surabaya</td>\n    </tr>\n    <tr>\n      <th>135</th>\n      <td>Iphone 13 Pro Max (128gb, 256gb, 512gb, 1tb, Wireless Charging 15w)</td>\n      <td>Rp20.199.000</td>\n      <td>TIGA PUTRA HP CENTER</td>\n      <td>Malang</td>\n    </tr>\n    <tr>\n      <th>137</th>\n      <td>Iphone 13 Pro Max 128gb 256gb 512gb 1tb Sierra Blue Graphite Gold Silv</td>\n      <td>Rp23.625.000</td>\n      <td>BeyondGames</td>\n      <td>Bandung</td>\n    </tr>\n    <tr>\n      <th>149</th>\n      <td>Iphone 13 Pro Max Promax 128gb | 256gb | 512gb | 1tb Series</td>\n      <td>Rp19.359.000</td>\n      <td>Gadget Point Store</td>\n      <td>Surabaya</td>\n    </tr>\n    <tr>\n      <th>150</th>\n      <td>Iphone 13 Pro Max 128gb/256gb/512gb</td>\n      <td>Rp20.199.000</td>\n      <td>alibabastore.id</td>\n      <td>Malang</td>\n    </tr>\n    <tr>\n      <th>152</th>\n      <td>Iphone 13 Pro Max 128gb|256gb|512gb|1tb New Series - Garansi Ibox 1th</td>\n      <td>Rp19.359.000</td>\n      <td>Doran Gadget</td>\n      <td>Surabaya</td>\n    </tr>\n    <tr>\n      <th>154</th>\n      <td>Iphone 13 Pro Max Green 128gb / 256gb / 512gb / 1tb Garansi Ibox 1th</td>\n      <td>Rp19.359.000</td>\n      <td>Doran Gadget</td>\n      <td>Surabaya</td>\n    </tr>\n    <tr>\n      <th>155</th>\n      <td>Iphone 13 Pro Max 128gb | 256gb | 512gb Garansi Resmi Ibox</td>\n      <td>Rp22.259.000</td>\n      <td>Fenix Gadget</td>\n      <td>Surabaya</td>\n    </tr>\n    <tr>\n      <th>156</th>\n      <td>Iphone 13 Pro Max 128gb | 256gb | 512gb | 1tb - Original Garansi Ibox</td>\n      <td>Rp20.179.000</td>\n      <td>Doran Gadget Semarang</td>\n      <td>Semarang</td>\n    </tr>\n    <tr>\n      <th>158</th>\n      <td>Apple Iphone 13 Pro Max 128gb Garansi Resmi Tam/Ibox</td>\n      <td>Rp19.650.000</td>\n      <td>kotakkatik_</td>\n      <td>Kab. Purwakarta</td>\n    </tr>\n    <tr>\n      <th>160</th>\n      <td>Apple Iphone 13 Pro Max 128gb 6.7 Inch Garansi Resmi</td>\n      <td>Rp20.199.000</td>\n      <td>Andalas Cellular Bpn</td>\n      <td>Balikpapan</td>\n    </tr>\n  </tbody>\n</table>\n</div>"
     },
     "metadata": {},
     "execution_count": 258
    }
   ],
   "source": [
    "for name in df.name:\n",
    "    if re.findall(\"128\", name):\n",
    "        continue\n",
    "    else:\n",
    "        df.drop(df.loc[df.name == name].index, inplace=True)\n",
    "\n",
    "pd.options.display.max_rows=200\n",
    "df"
   ]
  },
  {
   "cell_type": "code",
   "execution_count": 259,
   "metadata": {},
   "outputs": [
    {
     "output_type": "execute_result",
     "data": {
      "text/plain": [
       "                                                                         name  \\\n",
       "index                                                                           \n",
       "11     Apple Iphone 13 Pro Max 128gb Ibox Dual Sim Green | Iphone 13 Mini 128   \n",
       "13      Iphone 13 Pro Max Ibox Dual Sim Green 1tb 512gb 256gb 128gb | 13 Mini   \n",
       "21      Iphone 13 Pro Max 1tb 5g Ibox 128gb 256gb 512gb - Not 12 Mini 256 128   \n",
       "119                      Iphone 13 Pro Max 128gb Ibox / Single / Dual / Apple   \n",
       "31              Iphone 13 Pro Max Dual Sim 1tb 512gb 256gb 128gb Apple Promax   \n",
       "...                                                                       ...   \n",
       "37     Iphone 13 Pro Max 128gb / 256gb / 512gb / 1tb Garansi Resmi Tam / Ibox   \n",
       "91      Iphone 13 Pro Max 128gb 256gb 512gb 1tb Blue Graphite Gold - Ibox 1th   \n",
       "155                Iphone 13 Pro Max 128gb | 256gb | 512gb Garansi Resmi Ibox   \n",
       "137    Iphone 13 Pro Max 128gb 256gb 512gb 1tb Sierra Blue Graphite Gold Silv   \n",
       "41     Apple Iphone 13 Pro Max 128,256,512gb,1tb Garansi Resmi Ibox Indonesia   \n",
       "\n",
       "              price                shop       location  \n",
       "index                                                   \n",
       "11     Rp12.765.000       Studio Ponsel  Jakarta Pusat  \n",
       "13     Rp12.765.000       Studio Ponsel  Jakarta Pusat  \n",
       "21     Rp14.728.000  Dewa Ponsel Rakyat  Jakarta Pusat  \n",
       "119    Rp17.338.000              HokiHP  Jakarta Pusat  \n",
       "31     Rp17.410.000       Studio Ponsel  Jakarta Pusat  \n",
       "...             ...                 ...            ...  \n",
       "37     Rp22.135.000    Kreasindo Online  Jakarta Pusat  \n",
       "91     Rp22.259.000      Gadget Channel  Jakarta Pusat  \n",
       "155    Rp22.259.000        Fenix Gadget       Surabaya  \n",
       "137    Rp23.625.000         BeyondGames        Bandung  \n",
       "41     Rp26.079.000         Ori Selular         Bekasi  \n",
       "\n",
       "[54 rows x 4 columns]"
      ],
      "text/html": "<div>\n<style scoped>\n    .dataframe tbody tr th:only-of-type {\n        vertical-align: middle;\n    }\n\n    .dataframe tbody tr th {\n        vertical-align: top;\n    }\n\n    .dataframe thead th {\n        text-align: right;\n    }\n</style>\n<table border=\"1\" class=\"dataframe\">\n  <thead>\n    <tr style=\"text-align: right;\">\n      <th></th>\n      <th>name</th>\n      <th>price</th>\n      <th>shop</th>\n      <th>location</th>\n    </tr>\n    <tr>\n      <th>index</th>\n      <th></th>\n      <th></th>\n      <th></th>\n      <th></th>\n    </tr>\n  </thead>\n  <tbody>\n    <tr>\n      <th>11</th>\n      <td>Apple Iphone 13 Pro Max 128gb Ibox Dual Sim Green | Iphone 13 Mini 128</td>\n      <td>Rp12.765.000</td>\n      <td>Studio Ponsel</td>\n      <td>Jakarta Pusat</td>\n    </tr>\n    <tr>\n      <th>13</th>\n      <td>Iphone 13 Pro Max Ibox Dual Sim Green 1tb 512gb 256gb 128gb | 13 Mini</td>\n      <td>Rp12.765.000</td>\n      <td>Studio Ponsel</td>\n      <td>Jakarta Pusat</td>\n    </tr>\n    <tr>\n      <th>21</th>\n      <td>Iphone 13 Pro Max 1tb 5g Ibox 128gb 256gb 512gb - Not 12 Mini 256 128</td>\n      <td>Rp14.728.000</td>\n      <td>Dewa Ponsel Rakyat</td>\n      <td>Jakarta Pusat</td>\n    </tr>\n    <tr>\n      <th>119</th>\n      <td>Iphone 13 Pro Max 128gb Ibox / Single / Dual / Apple</td>\n      <td>Rp17.338.000</td>\n      <td>HokiHP</td>\n      <td>Jakarta Pusat</td>\n    </tr>\n    <tr>\n      <th>31</th>\n      <td>Iphone 13 Pro Max Dual Sim 1tb 512gb 256gb 128gb Apple Promax</td>\n      <td>Rp17.410.000</td>\n      <td>Studio Ponsel</td>\n      <td>Jakarta Pusat</td>\n    </tr>\n    <tr>\n      <th>...</th>\n      <td>...</td>\n      <td>...</td>\n      <td>...</td>\n      <td>...</td>\n    </tr>\n    <tr>\n      <th>37</th>\n      <td>Iphone 13 Pro Max 128gb / 256gb / 512gb / 1tb Garansi Resmi Tam / Ibox</td>\n      <td>Rp22.135.000</td>\n      <td>Kreasindo Online</td>\n      <td>Jakarta Pusat</td>\n    </tr>\n    <tr>\n      <th>91</th>\n      <td>Iphone 13 Pro Max 128gb 256gb 512gb 1tb Blue Graphite Gold - Ibox 1th</td>\n      <td>Rp22.259.000</td>\n      <td>Gadget Channel</td>\n      <td>Jakarta Pusat</td>\n    </tr>\n    <tr>\n      <th>155</th>\n      <td>Iphone 13 Pro Max 128gb | 256gb | 512gb Garansi Resmi Ibox</td>\n      <td>Rp22.259.000</td>\n      <td>Fenix Gadget</td>\n      <td>Surabaya</td>\n    </tr>\n    <tr>\n      <th>137</th>\n      <td>Iphone 13 Pro Max 128gb 256gb 512gb 1tb Sierra Blue Graphite Gold Silv</td>\n      <td>Rp23.625.000</td>\n      <td>BeyondGames</td>\n      <td>Bandung</td>\n    </tr>\n    <tr>\n      <th>41</th>\n      <td>Apple Iphone 13 Pro Max 128,256,512gb,1tb Garansi Resmi Ibox Indonesia</td>\n      <td>Rp26.079.000</td>\n      <td>Ori Selular</td>\n      <td>Bekasi</td>\n    </tr>\n  </tbody>\n</table>\n<p>54 rows × 4 columns</p>\n</div>"
     },
     "metadata": {},
     "execution_count": 259
    }
   ],
   "source": [
    "df.sort_values(by=['price'], ascending=True, inplace=True)\n",
    "pd.options.display.max_rows=10\n",
    "df"
   ]
  },
  {
   "cell_type": "code",
   "execution_count": 260,
   "metadata": {},
   "outputs": [
    {
     "output_type": "stream",
     "name": "stdout",
     "text": [
      "<class 'pandas.core.frame.DataFrame'>\nInt64Index: 54 entries, 11 to 41\nData columns (total 4 columns):\n #   Column    Non-Null Count  Dtype \n---  ------    --------------  ----- \n 0   name      54 non-null     object\n 1   price     54 non-null     object\n 2   shop      54 non-null     object\n 3   location  54 non-null     object\ndtypes: object(4)\nmemory usage: 1.3+ KB\n"
     ]
    }
   ],
   "source": [
    "df.info()"
   ]
  },
  {
   "cell_type": "code",
   "execution_count": 261,
   "metadata": {},
   "outputs": [
    {
     "output_type": "error",
     "ename": "ValueError",
     "evalue": "invalid literal for int() with base 10: 'Rp12.765.000'",
     "traceback": [
      "\u001b[1;31m---------------------------------------------------------------------------\u001b[0m",
      "\u001b[1;31mValueError\u001b[0m                                Traceback (most recent call last)",
      "Input \u001b[1;32mIn [261]\u001b[0m, in \u001b[0;36m<cell line: 1>\u001b[1;34m()\u001b[0m\n\u001b[1;32m----> 1\u001b[0m \u001b[43mdf\u001b[49m\u001b[38;5;241;43m.\u001b[39;49m\u001b[43mprice\u001b[49m\u001b[38;5;241;43m.\u001b[39;49m\u001b[43mastype\u001b[49m\u001b[43m(\u001b[49m\u001b[38;5;28;43mint\u001b[39;49m\u001b[43m)\u001b[49m\n\u001b[0;32m      2\u001b[0m df\u001b[38;5;241m.\u001b[39minfo()\n",
      "File \u001b[1;32mC:\\Python\\lib\\site-packages\\pandas\\core\\generic.py:5912\u001b[0m, in \u001b[0;36mNDFrame.astype\u001b[1;34m(self, dtype, copy, errors)\u001b[0m\n\u001b[0;32m   5905\u001b[0m     results \u001b[38;5;241m=\u001b[39m [\n\u001b[0;32m   5906\u001b[0m         \u001b[38;5;28mself\u001b[39m\u001b[38;5;241m.\u001b[39miloc[:, i]\u001b[38;5;241m.\u001b[39mastype(dtype, copy\u001b[38;5;241m=\u001b[39mcopy)\n\u001b[0;32m   5907\u001b[0m         \u001b[38;5;28;01mfor\u001b[39;00m i \u001b[38;5;129;01min\u001b[39;00m \u001b[38;5;28mrange\u001b[39m(\u001b[38;5;28mlen\u001b[39m(\u001b[38;5;28mself\u001b[39m\u001b[38;5;241m.\u001b[39mcolumns))\n\u001b[0;32m   5908\u001b[0m     ]\n\u001b[0;32m   5910\u001b[0m \u001b[38;5;28;01melse\u001b[39;00m:\n\u001b[0;32m   5911\u001b[0m     \u001b[38;5;66;03m# else, only a single dtype is given\u001b[39;00m\n\u001b[1;32m-> 5912\u001b[0m     new_data \u001b[38;5;241m=\u001b[39m \u001b[38;5;28;43mself\u001b[39;49m\u001b[38;5;241;43m.\u001b[39;49m\u001b[43m_mgr\u001b[49m\u001b[38;5;241;43m.\u001b[39;49m\u001b[43mastype\u001b[49m\u001b[43m(\u001b[49m\u001b[43mdtype\u001b[49m\u001b[38;5;241;43m=\u001b[39;49m\u001b[43mdtype\u001b[49m\u001b[43m,\u001b[49m\u001b[43m \u001b[49m\u001b[43mcopy\u001b[49m\u001b[38;5;241;43m=\u001b[39;49m\u001b[43mcopy\u001b[49m\u001b[43m,\u001b[49m\u001b[43m \u001b[49m\u001b[43merrors\u001b[49m\u001b[38;5;241;43m=\u001b[39;49m\u001b[43merrors\u001b[49m\u001b[43m)\u001b[49m\n\u001b[0;32m   5913\u001b[0m     \u001b[38;5;28;01mreturn\u001b[39;00m \u001b[38;5;28mself\u001b[39m\u001b[38;5;241m.\u001b[39m_constructor(new_data)\u001b[38;5;241m.\u001b[39m__finalize__(\u001b[38;5;28mself\u001b[39m, method\u001b[38;5;241m=\u001b[39m\u001b[38;5;124m\"\u001b[39m\u001b[38;5;124mastype\u001b[39m\u001b[38;5;124m\"\u001b[39m)\n\u001b[0;32m   5915\u001b[0m \u001b[38;5;66;03m# GH 33113: handle empty frame or series\u001b[39;00m\n",
      "File \u001b[1;32mC:\\Python\\lib\\site-packages\\pandas\\core\\internals\\managers.py:419\u001b[0m, in \u001b[0;36mBaseBlockManager.astype\u001b[1;34m(self, dtype, copy, errors)\u001b[0m\n\u001b[0;32m    418\u001b[0m \u001b[38;5;28;01mdef\u001b[39;00m \u001b[38;5;21mastype\u001b[39m(\u001b[38;5;28mself\u001b[39m: T, dtype, copy: \u001b[38;5;28mbool\u001b[39m \u001b[38;5;241m=\u001b[39m \u001b[38;5;28;01mFalse\u001b[39;00m, errors: \u001b[38;5;28mstr\u001b[39m \u001b[38;5;241m=\u001b[39m \u001b[38;5;124m\"\u001b[39m\u001b[38;5;124mraise\u001b[39m\u001b[38;5;124m\"\u001b[39m) \u001b[38;5;241m-\u001b[39m\u001b[38;5;241m>\u001b[39m T:\n\u001b[1;32m--> 419\u001b[0m     \u001b[38;5;28;01mreturn\u001b[39;00m \u001b[38;5;28;43mself\u001b[39;49m\u001b[38;5;241;43m.\u001b[39;49m\u001b[43mapply\u001b[49m\u001b[43m(\u001b[49m\u001b[38;5;124;43m\"\u001b[39;49m\u001b[38;5;124;43mastype\u001b[39;49m\u001b[38;5;124;43m\"\u001b[39;49m\u001b[43m,\u001b[49m\u001b[43m \u001b[49m\u001b[43mdtype\u001b[49m\u001b[38;5;241;43m=\u001b[39;49m\u001b[43mdtype\u001b[49m\u001b[43m,\u001b[49m\u001b[43m \u001b[49m\u001b[43mcopy\u001b[49m\u001b[38;5;241;43m=\u001b[39;49m\u001b[43mcopy\u001b[49m\u001b[43m,\u001b[49m\u001b[43m \u001b[49m\u001b[43merrors\u001b[49m\u001b[38;5;241;43m=\u001b[39;49m\u001b[43merrors\u001b[49m\u001b[43m)\u001b[49m\n",
      "File \u001b[1;32mC:\\Python\\lib\\site-packages\\pandas\\core\\internals\\managers.py:304\u001b[0m, in \u001b[0;36mBaseBlockManager.apply\u001b[1;34m(self, f, align_keys, ignore_failures, **kwargs)\u001b[0m\n\u001b[0;32m    302\u001b[0m         applied \u001b[38;5;241m=\u001b[39m b\u001b[38;5;241m.\u001b[39mapply(f, \u001b[38;5;241m*\u001b[39m\u001b[38;5;241m*\u001b[39mkwargs)\n\u001b[0;32m    303\u001b[0m     \u001b[38;5;28;01melse\u001b[39;00m:\n\u001b[1;32m--> 304\u001b[0m         applied \u001b[38;5;241m=\u001b[39m \u001b[38;5;28;43mgetattr\u001b[39;49m\u001b[43m(\u001b[49m\u001b[43mb\u001b[49m\u001b[43m,\u001b[49m\u001b[43m \u001b[49m\u001b[43mf\u001b[49m\u001b[43m)\u001b[49m\u001b[43m(\u001b[49m\u001b[38;5;241;43m*\u001b[39;49m\u001b[38;5;241;43m*\u001b[39;49m\u001b[43mkwargs\u001b[49m\u001b[43m)\u001b[49m\n\u001b[0;32m    305\u001b[0m \u001b[38;5;28;01mexcept\u001b[39;00m (\u001b[38;5;167;01mTypeError\u001b[39;00m, \u001b[38;5;167;01mNotImplementedError\u001b[39;00m):\n\u001b[0;32m    306\u001b[0m     \u001b[38;5;28;01mif\u001b[39;00m \u001b[38;5;129;01mnot\u001b[39;00m ignore_failures:\n",
      "File \u001b[1;32mC:\\Python\\lib\\site-packages\\pandas\\core\\internals\\blocks.py:580\u001b[0m, in \u001b[0;36mBlock.astype\u001b[1;34m(self, dtype, copy, errors)\u001b[0m\n\u001b[0;32m    562\u001b[0m \u001b[38;5;124;03m\"\"\"\u001b[39;00m\n\u001b[0;32m    563\u001b[0m \u001b[38;5;124;03mCoerce to the new dtype.\u001b[39;00m\n\u001b[0;32m    564\u001b[0m \n\u001b[1;32m   (...)\u001b[0m\n\u001b[0;32m    576\u001b[0m \u001b[38;5;124;03mBlock\u001b[39;00m\n\u001b[0;32m    577\u001b[0m \u001b[38;5;124;03m\"\"\"\u001b[39;00m\n\u001b[0;32m    578\u001b[0m values \u001b[38;5;241m=\u001b[39m \u001b[38;5;28mself\u001b[39m\u001b[38;5;241m.\u001b[39mvalues\n\u001b[1;32m--> 580\u001b[0m new_values \u001b[38;5;241m=\u001b[39m \u001b[43mastype_array_safe\u001b[49m\u001b[43m(\u001b[49m\u001b[43mvalues\u001b[49m\u001b[43m,\u001b[49m\u001b[43m \u001b[49m\u001b[43mdtype\u001b[49m\u001b[43m,\u001b[49m\u001b[43m \u001b[49m\u001b[43mcopy\u001b[49m\u001b[38;5;241;43m=\u001b[39;49m\u001b[43mcopy\u001b[49m\u001b[43m,\u001b[49m\u001b[43m \u001b[49m\u001b[43merrors\u001b[49m\u001b[38;5;241;43m=\u001b[39;49m\u001b[43merrors\u001b[49m\u001b[43m)\u001b[49m\n\u001b[0;32m    582\u001b[0m new_values \u001b[38;5;241m=\u001b[39m maybe_coerce_values(new_values)\n\u001b[0;32m    583\u001b[0m newb \u001b[38;5;241m=\u001b[39m \u001b[38;5;28mself\u001b[39m\u001b[38;5;241m.\u001b[39mmake_block(new_values)\n",
      "File \u001b[1;32mC:\\Python\\lib\\site-packages\\pandas\\core\\dtypes\\cast.py:1292\u001b[0m, in \u001b[0;36mastype_array_safe\u001b[1;34m(values, dtype, copy, errors)\u001b[0m\n\u001b[0;32m   1289\u001b[0m     dtype \u001b[38;5;241m=\u001b[39m dtype\u001b[38;5;241m.\u001b[39mnumpy_dtype\n\u001b[0;32m   1291\u001b[0m \u001b[38;5;28;01mtry\u001b[39;00m:\n\u001b[1;32m-> 1292\u001b[0m     new_values \u001b[38;5;241m=\u001b[39m \u001b[43mastype_array\u001b[49m\u001b[43m(\u001b[49m\u001b[43mvalues\u001b[49m\u001b[43m,\u001b[49m\u001b[43m \u001b[49m\u001b[43mdtype\u001b[49m\u001b[43m,\u001b[49m\u001b[43m \u001b[49m\u001b[43mcopy\u001b[49m\u001b[38;5;241;43m=\u001b[39;49m\u001b[43mcopy\u001b[49m\u001b[43m)\u001b[49m\n\u001b[0;32m   1293\u001b[0m \u001b[38;5;28;01mexcept\u001b[39;00m (\u001b[38;5;167;01mValueError\u001b[39;00m, \u001b[38;5;167;01mTypeError\u001b[39;00m):\n\u001b[0;32m   1294\u001b[0m     \u001b[38;5;66;03m# e.g. astype_nansafe can fail on object-dtype of strings\u001b[39;00m\n\u001b[0;32m   1295\u001b[0m     \u001b[38;5;66;03m#  trying to convert to float\u001b[39;00m\n\u001b[0;32m   1296\u001b[0m     \u001b[38;5;28;01mif\u001b[39;00m errors \u001b[38;5;241m==\u001b[39m \u001b[38;5;124m\"\u001b[39m\u001b[38;5;124mignore\u001b[39m\u001b[38;5;124m\"\u001b[39m:\n",
      "File \u001b[1;32mC:\\Python\\lib\\site-packages\\pandas\\core\\dtypes\\cast.py:1237\u001b[0m, in \u001b[0;36mastype_array\u001b[1;34m(values, dtype, copy)\u001b[0m\n\u001b[0;32m   1234\u001b[0m     values \u001b[38;5;241m=\u001b[39m values\u001b[38;5;241m.\u001b[39mastype(dtype, copy\u001b[38;5;241m=\u001b[39mcopy)\n\u001b[0;32m   1236\u001b[0m \u001b[38;5;28;01melse\u001b[39;00m:\n\u001b[1;32m-> 1237\u001b[0m     values \u001b[38;5;241m=\u001b[39m \u001b[43mastype_nansafe\u001b[49m\u001b[43m(\u001b[49m\u001b[43mvalues\u001b[49m\u001b[43m,\u001b[49m\u001b[43m \u001b[49m\u001b[43mdtype\u001b[49m\u001b[43m,\u001b[49m\u001b[43m \u001b[49m\u001b[43mcopy\u001b[49m\u001b[38;5;241;43m=\u001b[39;49m\u001b[43mcopy\u001b[49m\u001b[43m)\u001b[49m\n\u001b[0;32m   1239\u001b[0m \u001b[38;5;66;03m# in pandas we don't store numpy str dtypes, so convert to object\u001b[39;00m\n\u001b[0;32m   1240\u001b[0m \u001b[38;5;28;01mif\u001b[39;00m \u001b[38;5;28misinstance\u001b[39m(dtype, np\u001b[38;5;241m.\u001b[39mdtype) \u001b[38;5;129;01mand\u001b[39;00m \u001b[38;5;28missubclass\u001b[39m(values\u001b[38;5;241m.\u001b[39mdtype\u001b[38;5;241m.\u001b[39mtype, \u001b[38;5;28mstr\u001b[39m):\n",
      "File \u001b[1;32mC:\\Python\\lib\\site-packages\\pandas\\core\\dtypes\\cast.py:1154\u001b[0m, in \u001b[0;36mastype_nansafe\u001b[1;34m(arr, dtype, copy, skipna)\u001b[0m\n\u001b[0;32m   1150\u001b[0m \u001b[38;5;28;01melif\u001b[39;00m is_object_dtype(arr\u001b[38;5;241m.\u001b[39mdtype):\n\u001b[0;32m   1151\u001b[0m \n\u001b[0;32m   1152\u001b[0m     \u001b[38;5;66;03m# work around NumPy brokenness, #1987\u001b[39;00m\n\u001b[0;32m   1153\u001b[0m     \u001b[38;5;28;01mif\u001b[39;00m np\u001b[38;5;241m.\u001b[39missubdtype(dtype\u001b[38;5;241m.\u001b[39mtype, np\u001b[38;5;241m.\u001b[39minteger):\n\u001b[1;32m-> 1154\u001b[0m         \u001b[38;5;28;01mreturn\u001b[39;00m \u001b[43mlib\u001b[49m\u001b[38;5;241;43m.\u001b[39;49m\u001b[43mastype_intsafe\u001b[49m\u001b[43m(\u001b[49m\u001b[43marr\u001b[49m\u001b[43m,\u001b[49m\u001b[43m \u001b[49m\u001b[43mdtype\u001b[49m\u001b[43m)\u001b[49m\n\u001b[0;32m   1156\u001b[0m     \u001b[38;5;66;03m# if we have a datetime/timedelta array of objects\u001b[39;00m\n\u001b[0;32m   1157\u001b[0m     \u001b[38;5;66;03m# then coerce to a proper dtype and recall astype_nansafe\u001b[39;00m\n\u001b[0;32m   1159\u001b[0m     \u001b[38;5;28;01melif\u001b[39;00m is_datetime64_dtype(dtype):\n",
      "File \u001b[1;32mC:\\Python\\lib\\site-packages\\pandas\\_libs\\lib.pyx:668\u001b[0m, in \u001b[0;36mpandas._libs.lib.astype_intsafe\u001b[1;34m()\u001b[0m\n",
      "\u001b[1;31mValueError\u001b[0m: invalid literal for int() with base 10: 'Rp12.765.000'"
     ]
    }
   ],
   "source": [
    "df.price.astype(int)\n",
    "df.info()"
   ]
  },
  {
   "cell_type": "code",
   "execution_count": 262,
   "metadata": {},
   "outputs": [
    {
     "output_type": "execute_result",
     "data": {
      "text/plain": [
       "                                                                         name  \\\n",
       "index                                                                           \n",
       "11     Apple Iphone 13 Pro Max 128gb Ibox Dual Sim Green | Iphone 13 Mini 128   \n",
       "13      Iphone 13 Pro Max Ibox Dual Sim Green 1tb 512gb 256gb 128gb | 13 Mini   \n",
       "21      Iphone 13 Pro Max 1tb 5g Ibox 128gb 256gb 512gb - Not 12 Mini 256 128   \n",
       "119                      Iphone 13 Pro Max 128gb Ibox / Single / Dual / Apple   \n",
       "31              Iphone 13 Pro Max Dual Sim 1tb 512gb 256gb 128gb Apple Promax   \n",
       "...                                                                       ...   \n",
       "37     Iphone 13 Pro Max 128gb / 256gb / 512gb / 1tb Garansi Resmi Tam / Ibox   \n",
       "91      Iphone 13 Pro Max 128gb 256gb 512gb 1tb Blue Graphite Gold - Ibox 1th   \n",
       "155                Iphone 13 Pro Max 128gb | 256gb | 512gb Garansi Resmi Ibox   \n",
       "137    Iphone 13 Pro Max 128gb 256gb 512gb 1tb Sierra Blue Graphite Gold Silv   \n",
       "41     Apple Iphone 13 Pro Max 128,256,512gb,1tb Garansi Resmi Ibox Indonesia   \n",
       "\n",
       "          price                shop       location  \n",
       "index                                               \n",
       "11     12765000       Studio Ponsel  Jakarta Pusat  \n",
       "13     12765000       Studio Ponsel  Jakarta Pusat  \n",
       "21     14728000  Dewa Ponsel Rakyat  Jakarta Pusat  \n",
       "119    17338000              HokiHP  Jakarta Pusat  \n",
       "31     17410000       Studio Ponsel  Jakarta Pusat  \n",
       "...         ...                 ...            ...  \n",
       "37     22135000    Kreasindo Online  Jakarta Pusat  \n",
       "91     22259000      Gadget Channel  Jakarta Pusat  \n",
       "155    22259000        Fenix Gadget       Surabaya  \n",
       "137    23625000         BeyondGames        Bandung  \n",
       "41     26079000         Ori Selular         Bekasi  \n",
       "\n",
       "[54 rows x 4 columns]"
      ],
      "text/html": "<div>\n<style scoped>\n    .dataframe tbody tr th:only-of-type {\n        vertical-align: middle;\n    }\n\n    .dataframe tbody tr th {\n        vertical-align: top;\n    }\n\n    .dataframe thead th {\n        text-align: right;\n    }\n</style>\n<table border=\"1\" class=\"dataframe\">\n  <thead>\n    <tr style=\"text-align: right;\">\n      <th></th>\n      <th>name</th>\n      <th>price</th>\n      <th>shop</th>\n      <th>location</th>\n    </tr>\n    <tr>\n      <th>index</th>\n      <th></th>\n      <th></th>\n      <th></th>\n      <th></th>\n    </tr>\n  </thead>\n  <tbody>\n    <tr>\n      <th>11</th>\n      <td>Apple Iphone 13 Pro Max 128gb Ibox Dual Sim Green | Iphone 13 Mini 128</td>\n      <td>12765000</td>\n      <td>Studio Ponsel</td>\n      <td>Jakarta Pusat</td>\n    </tr>\n    <tr>\n      <th>13</th>\n      <td>Iphone 13 Pro Max Ibox Dual Sim Green 1tb 512gb 256gb 128gb | 13 Mini</td>\n      <td>12765000</td>\n      <td>Studio Ponsel</td>\n      <td>Jakarta Pusat</td>\n    </tr>\n    <tr>\n      <th>21</th>\n      <td>Iphone 13 Pro Max 1tb 5g Ibox 128gb 256gb 512gb - Not 12 Mini 256 128</td>\n      <td>14728000</td>\n      <td>Dewa Ponsel Rakyat</td>\n      <td>Jakarta Pusat</td>\n    </tr>\n    <tr>\n      <th>119</th>\n      <td>Iphone 13 Pro Max 128gb Ibox / Single / Dual / Apple</td>\n      <td>17338000</td>\n      <td>HokiHP</td>\n      <td>Jakarta Pusat</td>\n    </tr>\n    <tr>\n      <th>31</th>\n      <td>Iphone 13 Pro Max Dual Sim 1tb 512gb 256gb 128gb Apple Promax</td>\n      <td>17410000</td>\n      <td>Studio Ponsel</td>\n      <td>Jakarta Pusat</td>\n    </tr>\n    <tr>\n      <th>...</th>\n      <td>...</td>\n      <td>...</td>\n      <td>...</td>\n      <td>...</td>\n    </tr>\n    <tr>\n      <th>37</th>\n      <td>Iphone 13 Pro Max 128gb / 256gb / 512gb / 1tb Garansi Resmi Tam / Ibox</td>\n      <td>22135000</td>\n      <td>Kreasindo Online</td>\n      <td>Jakarta Pusat</td>\n    </tr>\n    <tr>\n      <th>91</th>\n      <td>Iphone 13 Pro Max 128gb 256gb 512gb 1tb Blue Graphite Gold - Ibox 1th</td>\n      <td>22259000</td>\n      <td>Gadget Channel</td>\n      <td>Jakarta Pusat</td>\n    </tr>\n    <tr>\n      <th>155</th>\n      <td>Iphone 13 Pro Max 128gb | 256gb | 512gb Garansi Resmi Ibox</td>\n      <td>22259000</td>\n      <td>Fenix Gadget</td>\n      <td>Surabaya</td>\n    </tr>\n    <tr>\n      <th>137</th>\n      <td>Iphone 13 Pro Max 128gb 256gb 512gb 1tb Sierra Blue Graphite Gold Silv</td>\n      <td>23625000</td>\n      <td>BeyondGames</td>\n      <td>Bandung</td>\n    </tr>\n    <tr>\n      <th>41</th>\n      <td>Apple Iphone 13 Pro Max 128,256,512gb,1tb Garansi Resmi Ibox Indonesia</td>\n      <td>26079000</td>\n      <td>Ori Selular</td>\n      <td>Bekasi</td>\n    </tr>\n  </tbody>\n</table>\n<p>54 rows × 4 columns</p>\n</div>"
     },
     "metadata": {},
     "execution_count": 262
    }
   ],
   "source": [
    "price_list = []\n",
    "for p in df.price:\n",
    "    replace = re.sub(r\"\\.\", \"\", p.lstrip(\"Rp\"))\n",
    "    price_list.append(replace)\n",
    "df.price = price_list\n",
    "df"
   ]
  },
  {
   "cell_type": "code",
   "execution_count": 263,
   "metadata": {},
   "outputs": [],
   "source": [
    "df.price = df.price.astype(int)"
   ]
  },
  {
   "cell_type": "code",
   "execution_count": 264,
   "metadata": {},
   "outputs": [
    {
     "output_type": "stream",
     "name": "stdout",
     "text": [
      "<class 'pandas.core.frame.DataFrame'>\nInt64Index: 54 entries, 11 to 41\nData columns (total 4 columns):\n #   Column    Non-Null Count  Dtype \n---  ------    --------------  ----- \n 0   name      54 non-null     object\n 1   price     54 non-null     int32 \n 2   shop      54 non-null     object\n 3   location  54 non-null     object\ndtypes: int32(1), object(3)\nmemory usage: 1.3+ KB\n"
     ]
    }
   ],
   "source": [
    "df.info()"
   ]
  },
  {
   "cell_type": "code",
   "execution_count": 265,
   "metadata": {},
   "outputs": [
    {
     "output_type": "execute_result",
     "data": {
      "text/plain": [
       "<AxesSubplot:>"
      ]
     },
     "metadata": {},
     "execution_count": 265
    },
    {
     "output_type": "display_data",
     "data": {
      "text/plain": "<Figure size 640x480 with 1 Axes>",
      "image/svg+xml": "<?xml version=\"1.0\" encoding=\"utf-8\" standalone=\"no\"?>\n<!DOCTYPE svg PUBLIC \"-//W3C//DTD SVG 1.1//EN\"\n  \"http://www.w3.org/Graphics/SVG/1.1/DTD/svg11.dtd\">\n<svg xmlns:xlink=\"http://www.w3.org/1999/xlink\" width=\"394.423125pt\" height=\"307.788562pt\" viewBox=\"0 0 394.423125 307.788562\" xmlns=\"http://www.w3.org/2000/svg\" version=\"1.1\">\n <metadata>\n  <rdf:RDF xmlns:dc=\"http://purl.org/dc/elements/1.1/\" xmlns:cc=\"http://creativecommons.org/ns#\" xmlns:rdf=\"http://www.w3.org/1999/02/22-rdf-syntax-ns#\">\n   <cc:Work>\n    <dc:type rdf:resource=\"http://purl.org/dc/dcmitype/StillImage\"/>\n    <dc:date>2022-06-24T04:04:31.231009</dc:date>\n    <dc:format>image/svg+xml</dc:format>\n    <dc:creator>\n     <cc:Agent>\n      <dc:title>Matplotlib v3.5.2, https://matplotlib.org/</dc:title>\n     </cc:Agent>\n    </dc:creator>\n   </cc:Work>\n  </rdf:RDF>\n </metadata>\n <defs>\n  <style type=\"text/css\">*{stroke-linejoin: round; stroke-linecap: butt}</style>\n </defs>\n <g id=\"figure_1\">\n  <g id=\"patch_1\">\n   <path d=\"M 0 307.788562 \nL 394.423125 307.788562 \nL 394.423125 0 \nL 0 0 \nz\n\" style=\"fill: #ffffff\"/>\n  </g>\n  <g id=\"axes_1\">\n   <g id=\"patch_2\">\n    <path d=\"M 30.103125 283.910437 \nL 387.223125 283.910437 \nL 387.223125 17.798437 \nL 30.103125 17.798437 \nz\n\" style=\"fill: #ffffff\"/>\n   </g>\n   <g id=\"matplotlib.axis_1\">\n    <g id=\"xtick_1\">\n     <g id=\"line2d_1\">\n      <path d=\"M 208.663125 283.910437 \nL 208.663125 17.798437 \n\" clip-path=\"url(#p2923382497)\" style=\"fill: none; stroke: #b0b0b0; stroke-width: 0.8; stroke-linecap: square\"/>\n     </g>\n     <g id=\"line2d_2\">\n      <defs>\n       <path id=\"m4745201aea\" d=\"M 0 0 \nL 0 3.5 \n\" style=\"stroke: #000000; stroke-width: 0.8\"/>\n      </defs>\n      <g>\n       <use xlink:href=\"#m4745201aea\" x=\"208.663125\" y=\"283.910437\" style=\"stroke: #000000; stroke-width: 0.8\"/>\n      </g>\n     </g>\n     <g id=\"text_1\">\n      <!-- price -->\n      <g transform=\"translate(196.218594 298.508875)scale(0.1 -0.1)\">\n       <defs>\n        <path id=\"DejaVuSans-70\" d=\"M 1159 525 \nL 1159 -1331 \nL 581 -1331 \nL 581 3500 \nL 1159 3500 \nL 1159 2969 \nQ 1341 3281 1617 3432 \nQ 1894 3584 2278 3584 \nQ 2916 3584 3314 3078 \nQ 3713 2572 3713 1747 \nQ 3713 922 3314 415 \nQ 2916 -91 2278 -91 \nQ 1894 -91 1617 61 \nQ 1341 213 1159 525 \nz\nM 3116 1747 \nQ 3116 2381 2855 2742 \nQ 2594 3103 2138 3103 \nQ 1681 3103 1420 2742 \nQ 1159 2381 1159 1747 \nQ 1159 1113 1420 752 \nQ 1681 391 2138 391 \nQ 2594 391 2855 752 \nQ 3116 1113 3116 1747 \nz\n\" transform=\"scale(0.015625)\"/>\n        <path id=\"DejaVuSans-72\" d=\"M 2631 2963 \nQ 2534 3019 2420 3045 \nQ 2306 3072 2169 3072 \nQ 1681 3072 1420 2755 \nQ 1159 2438 1159 1844 \nL 1159 0 \nL 581 0 \nL 581 3500 \nL 1159 3500 \nL 1159 2956 \nQ 1341 3275 1631 3429 \nQ 1922 3584 2338 3584 \nQ 2397 3584 2469 3576 \nQ 2541 3569 2628 3553 \nL 2631 2963 \nz\n\" transform=\"scale(0.015625)\"/>\n        <path id=\"DejaVuSans-69\" d=\"M 603 3500 \nL 1178 3500 \nL 1178 0 \nL 603 0 \nL 603 3500 \nz\nM 603 4863 \nL 1178 4863 \nL 1178 4134 \nL 603 4134 \nL 603 4863 \nz\n\" transform=\"scale(0.015625)\"/>\n        <path id=\"DejaVuSans-63\" d=\"M 3122 3366 \nL 3122 2828 \nQ 2878 2963 2633 3030 \nQ 2388 3097 2138 3097 \nQ 1578 3097 1268 2742 \nQ 959 2388 959 1747 \nQ 959 1106 1268 751 \nQ 1578 397 2138 397 \nQ 2388 397 2633 464 \nQ 2878 531 3122 666 \nL 3122 134 \nQ 2881 22 2623 -34 \nQ 2366 -91 2075 -91 \nQ 1284 -91 818 406 \nQ 353 903 353 1747 \nQ 353 2603 823 3093 \nQ 1294 3584 2113 3584 \nQ 2378 3584 2631 3529 \nQ 2884 3475 3122 3366 \nz\n\" transform=\"scale(0.015625)\"/>\n        <path id=\"DejaVuSans-65\" d=\"M 3597 1894 \nL 3597 1613 \nL 953 1613 \nQ 991 1019 1311 708 \nQ 1631 397 2203 397 \nQ 2534 397 2845 478 \nQ 3156 559 3463 722 \nL 3463 178 \nQ 3153 47 2828 -22 \nQ 2503 -91 2169 -91 \nQ 1331 -91 842 396 \nQ 353 884 353 1716 \nQ 353 2575 817 3079 \nQ 1281 3584 2069 3584 \nQ 2775 3584 3186 3129 \nQ 3597 2675 3597 1894 \nz\nM 3022 2063 \nQ 3016 2534 2758 2815 \nQ 2500 3097 2075 3097 \nQ 1594 3097 1305 2825 \nQ 1016 2553 972 2059 \nL 3022 2063 \nz\n\" transform=\"scale(0.015625)\"/>\n       </defs>\n       <use xlink:href=\"#DejaVuSans-70\"/>\n       <use xlink:href=\"#DejaVuSans-72\" x=\"63.476562\"/>\n       <use xlink:href=\"#DejaVuSans-69\" x=\"104.589844\"/>\n       <use xlink:href=\"#DejaVuSans-63\" x=\"132.373047\"/>\n       <use xlink:href=\"#DejaVuSans-65\" x=\"187.353516\"/>\n      </g>\n     </g>\n    </g>\n   </g>\n   <g id=\"matplotlib.axis_2\">\n    <g id=\"ytick_1\">\n     <g id=\"line2d_3\">\n      <path d=\"M 30.103125 249.374059 \nL 387.223125 249.374059 \n\" clip-path=\"url(#p2923382497)\" style=\"fill: none; stroke: #b0b0b0; stroke-width: 0.8; stroke-linecap: square\"/>\n     </g>\n     <g id=\"line2d_4\">\n      <defs>\n       <path id=\"me364f29a65\" d=\"M 0 0 \nL -3.5 0 \n\" style=\"stroke: #000000; stroke-width: 0.8\"/>\n      </defs>\n      <g>\n       <use xlink:href=\"#me364f29a65\" x=\"30.103125\" y=\"249.374059\" style=\"stroke: #000000; stroke-width: 0.8\"/>\n      </g>\n     </g>\n     <g id=\"text_2\">\n      <!-- 1.4 -->\n      <g transform=\"translate(7.2 253.173278)scale(0.1 -0.1)\">\n       <defs>\n        <path id=\"DejaVuSans-31\" d=\"M 794 531 \nL 1825 531 \nL 1825 4091 \nL 703 3866 \nL 703 4441 \nL 1819 4666 \nL 2450 4666 \nL 2450 531 \nL 3481 531 \nL 3481 0 \nL 794 0 \nL 794 531 \nz\n\" transform=\"scale(0.015625)\"/>\n        <path id=\"DejaVuSans-2e\" d=\"M 684 794 \nL 1344 794 \nL 1344 0 \nL 684 0 \nL 684 794 \nz\n\" transform=\"scale(0.015625)\"/>\n        <path id=\"DejaVuSans-34\" d=\"M 2419 4116 \nL 825 1625 \nL 2419 1625 \nL 2419 4116 \nz\nM 2253 4666 \nL 3047 4666 \nL 3047 1625 \nL 3713 1625 \nL 3713 1100 \nL 3047 1100 \nL 3047 0 \nL 2419 0 \nL 2419 1100 \nL 313 1100 \nL 313 1709 \nL 2253 4666 \nz\n\" transform=\"scale(0.015625)\"/>\n       </defs>\n       <use xlink:href=\"#DejaVuSans-31\"/>\n       <use xlink:href=\"#DejaVuSans-2e\" x=\"63.623047\"/>\n       <use xlink:href=\"#DejaVuSans-34\" x=\"95.410156\"/>\n      </g>\n     </g>\n    </g>\n    <g id=\"ytick_2\">\n     <g id=\"line2d_5\">\n      <path d=\"M 30.103125 213.033365 \nL 387.223125 213.033365 \n\" clip-path=\"url(#p2923382497)\" style=\"fill: none; stroke: #b0b0b0; stroke-width: 0.8; stroke-linecap: square\"/>\n     </g>\n     <g id=\"line2d_6\">\n      <g>\n       <use xlink:href=\"#me364f29a65\" x=\"30.103125\" y=\"213.033365\" style=\"stroke: #000000; stroke-width: 0.8\"/>\n      </g>\n     </g>\n     <g id=\"text_3\">\n      <!-- 1.6 -->\n      <g transform=\"translate(7.2 216.832584)scale(0.1 -0.1)\">\n       <defs>\n        <path id=\"DejaVuSans-36\" d=\"M 2113 2584 \nQ 1688 2584 1439 2293 \nQ 1191 2003 1191 1497 \nQ 1191 994 1439 701 \nQ 1688 409 2113 409 \nQ 2538 409 2786 701 \nQ 3034 994 3034 1497 \nQ 3034 2003 2786 2293 \nQ 2538 2584 2113 2584 \nz\nM 3366 4563 \nL 3366 3988 \nQ 3128 4100 2886 4159 \nQ 2644 4219 2406 4219 \nQ 1781 4219 1451 3797 \nQ 1122 3375 1075 2522 \nQ 1259 2794 1537 2939 \nQ 1816 3084 2150 3084 \nQ 2853 3084 3261 2657 \nQ 3669 2231 3669 1497 \nQ 3669 778 3244 343 \nQ 2819 -91 2113 -91 \nQ 1303 -91 875 529 \nQ 447 1150 447 2328 \nQ 447 3434 972 4092 \nQ 1497 4750 2381 4750 \nQ 2619 4750 2861 4703 \nQ 3103 4656 3366 4563 \nz\n\" transform=\"scale(0.015625)\"/>\n       </defs>\n       <use xlink:href=\"#DejaVuSans-31\"/>\n       <use xlink:href=\"#DejaVuSans-2e\" x=\"63.623047\"/>\n       <use xlink:href=\"#DejaVuSans-36\" x=\"95.410156\"/>\n      </g>\n     </g>\n    </g>\n    <g id=\"ytick_3\">\n     <g id=\"line2d_7\">\n      <path d=\"M 30.103125 176.692671 \nL 387.223125 176.692671 \n\" clip-path=\"url(#p2923382497)\" style=\"fill: none; stroke: #b0b0b0; stroke-width: 0.8; stroke-linecap: square\"/>\n     </g>\n     <g id=\"line2d_8\">\n      <g>\n       <use xlink:href=\"#me364f29a65\" x=\"30.103125\" y=\"176.692671\" style=\"stroke: #000000; stroke-width: 0.8\"/>\n      </g>\n     </g>\n     <g id=\"text_4\">\n      <!-- 1.8 -->\n      <g transform=\"translate(7.2 180.49189)scale(0.1 -0.1)\">\n       <defs>\n        <path id=\"DejaVuSans-38\" d=\"M 2034 2216 \nQ 1584 2216 1326 1975 \nQ 1069 1734 1069 1313 \nQ 1069 891 1326 650 \nQ 1584 409 2034 409 \nQ 2484 409 2743 651 \nQ 3003 894 3003 1313 \nQ 3003 1734 2745 1975 \nQ 2488 2216 2034 2216 \nz\nM 1403 2484 \nQ 997 2584 770 2862 \nQ 544 3141 544 3541 \nQ 544 4100 942 4425 \nQ 1341 4750 2034 4750 \nQ 2731 4750 3128 4425 \nQ 3525 4100 3525 3541 \nQ 3525 3141 3298 2862 \nQ 3072 2584 2669 2484 \nQ 3125 2378 3379 2068 \nQ 3634 1759 3634 1313 \nQ 3634 634 3220 271 \nQ 2806 -91 2034 -91 \nQ 1263 -91 848 271 \nQ 434 634 434 1313 \nQ 434 1759 690 2068 \nQ 947 2378 1403 2484 \nz\nM 1172 3481 \nQ 1172 3119 1398 2916 \nQ 1625 2713 2034 2713 \nQ 2441 2713 2670 2916 \nQ 2900 3119 2900 3481 \nQ 2900 3844 2670 4047 \nQ 2441 4250 2034 4250 \nQ 1625 4250 1398 4047 \nQ 1172 3844 1172 3481 \nz\n\" transform=\"scale(0.015625)\"/>\n       </defs>\n       <use xlink:href=\"#DejaVuSans-31\"/>\n       <use xlink:href=\"#DejaVuSans-2e\" x=\"63.623047\"/>\n       <use xlink:href=\"#DejaVuSans-38\" x=\"95.410156\"/>\n      </g>\n     </g>\n    </g>\n    <g id=\"ytick_4\">\n     <g id=\"line2d_9\">\n      <path d=\"M 30.103125 140.351977 \nL 387.223125 140.351977 \n\" clip-path=\"url(#p2923382497)\" style=\"fill: none; stroke: #b0b0b0; stroke-width: 0.8; stroke-linecap: square\"/>\n     </g>\n     <g id=\"line2d_10\">\n      <g>\n       <use xlink:href=\"#me364f29a65\" x=\"30.103125\" y=\"140.351977\" style=\"stroke: #000000; stroke-width: 0.8\"/>\n      </g>\n     </g>\n     <g id=\"text_5\">\n      <!-- 2.0 -->\n      <g transform=\"translate(7.2 144.151196)scale(0.1 -0.1)\">\n       <defs>\n        <path id=\"DejaVuSans-32\" d=\"M 1228 531 \nL 3431 531 \nL 3431 0 \nL 469 0 \nL 469 531 \nQ 828 903 1448 1529 \nQ 2069 2156 2228 2338 \nQ 2531 2678 2651 2914 \nQ 2772 3150 2772 3378 \nQ 2772 3750 2511 3984 \nQ 2250 4219 1831 4219 \nQ 1534 4219 1204 4116 \nQ 875 4013 500 3803 \nL 500 4441 \nQ 881 4594 1212 4672 \nQ 1544 4750 1819 4750 \nQ 2544 4750 2975 4387 \nQ 3406 4025 3406 3419 \nQ 3406 3131 3298 2873 \nQ 3191 2616 2906 2266 \nQ 2828 2175 2409 1742 \nQ 1991 1309 1228 531 \nz\n\" transform=\"scale(0.015625)\"/>\n        <path id=\"DejaVuSans-30\" d=\"M 2034 4250 \nQ 1547 4250 1301 3770 \nQ 1056 3291 1056 2328 \nQ 1056 1369 1301 889 \nQ 1547 409 2034 409 \nQ 2525 409 2770 889 \nQ 3016 1369 3016 2328 \nQ 3016 3291 2770 3770 \nQ 2525 4250 2034 4250 \nz\nM 2034 4750 \nQ 2819 4750 3233 4129 \nQ 3647 3509 3647 2328 \nQ 3647 1150 3233 529 \nQ 2819 -91 2034 -91 \nQ 1250 -91 836 529 \nQ 422 1150 422 2328 \nQ 422 3509 836 4129 \nQ 1250 4750 2034 4750 \nz\n\" transform=\"scale(0.015625)\"/>\n       </defs>\n       <use xlink:href=\"#DejaVuSans-32\"/>\n       <use xlink:href=\"#DejaVuSans-2e\" x=\"63.623047\"/>\n       <use xlink:href=\"#DejaVuSans-30\" x=\"95.410156\"/>\n      </g>\n     </g>\n    </g>\n    <g id=\"ytick_5\">\n     <g id=\"line2d_11\">\n      <path d=\"M 30.103125 104.011283 \nL 387.223125 104.011283 \n\" clip-path=\"url(#p2923382497)\" style=\"fill: none; stroke: #b0b0b0; stroke-width: 0.8; stroke-linecap: square\"/>\n     </g>\n     <g id=\"line2d_12\">\n      <g>\n       <use xlink:href=\"#me364f29a65\" x=\"30.103125\" y=\"104.011283\" style=\"stroke: #000000; stroke-width: 0.8\"/>\n      </g>\n     </g>\n     <g id=\"text_6\">\n      <!-- 2.2 -->\n      <g transform=\"translate(7.2 107.810502)scale(0.1 -0.1)\">\n       <use xlink:href=\"#DejaVuSans-32\"/>\n       <use xlink:href=\"#DejaVuSans-2e\" x=\"63.623047\"/>\n       <use xlink:href=\"#DejaVuSans-32\" x=\"95.410156\"/>\n      </g>\n     </g>\n    </g>\n    <g id=\"ytick_6\">\n     <g id=\"line2d_13\">\n      <path d=\"M 30.103125 67.670589 \nL 387.223125 67.670589 \n\" clip-path=\"url(#p2923382497)\" style=\"fill: none; stroke: #b0b0b0; stroke-width: 0.8; stroke-linecap: square\"/>\n     </g>\n     <g id=\"line2d_14\">\n      <g>\n       <use xlink:href=\"#me364f29a65\" x=\"30.103125\" y=\"67.670589\" style=\"stroke: #000000; stroke-width: 0.8\"/>\n      </g>\n     </g>\n     <g id=\"text_7\">\n      <!-- 2.4 -->\n      <g transform=\"translate(7.2 71.469808)scale(0.1 -0.1)\">\n       <use xlink:href=\"#DejaVuSans-32\"/>\n       <use xlink:href=\"#DejaVuSans-2e\" x=\"63.623047\"/>\n       <use xlink:href=\"#DejaVuSans-34\" x=\"95.410156\"/>\n      </g>\n     </g>\n    </g>\n    <g id=\"ytick_7\">\n     <g id=\"line2d_15\">\n      <path d=\"M 30.103125 31.329895 \nL 387.223125 31.329895 \n\" clip-path=\"url(#p2923382497)\" style=\"fill: none; stroke: #b0b0b0; stroke-width: 0.8; stroke-linecap: square\"/>\n     </g>\n     <g id=\"line2d_16\">\n      <g>\n       <use xlink:href=\"#me364f29a65\" x=\"30.103125\" y=\"31.329895\" style=\"stroke: #000000; stroke-width: 0.8\"/>\n      </g>\n     </g>\n     <g id=\"text_8\">\n      <!-- 2.6 -->\n      <g transform=\"translate(7.2 35.129114)scale(0.1 -0.1)\">\n       <use xlink:href=\"#DejaVuSans-32\"/>\n       <use xlink:href=\"#DejaVuSans-2e\" x=\"63.623047\"/>\n       <use xlink:href=\"#DejaVuSans-36\" x=\"95.410156\"/>\n      </g>\n     </g>\n    </g>\n    <g id=\"text_9\">\n     <!-- 1e7 -->\n     <g transform=\"translate(30.103125 14.798437)scale(0.1 -0.1)\">\n      <defs>\n       <path id=\"DejaVuSans-37\" d=\"M 525 4666 \nL 3525 4666 \nL 3525 4397 \nL 1831 0 \nL 1172 0 \nL 2766 4134 \nL 525 4134 \nL 525 4666 \nz\n\" transform=\"scale(0.015625)\"/>\n      </defs>\n      <use xlink:href=\"#DejaVuSans-31\"/>\n      <use xlink:href=\"#DejaVuSans-65\" x=\"63.623047\"/>\n      <use xlink:href=\"#DejaVuSans-37\" x=\"125.146484\"/>\n     </g>\n    </g>\n   </g>\n   <g id=\"line2d_17\">\n    <path d=\"M 181.879125 146.861504 \nL 235.447125 146.861504 \nL 235.447125 136.736078 \nL 181.879125 136.736078 \nL 181.879125 146.861504 \n\" clip-path=\"url(#p2923382497)\" style=\"fill: none; stroke: #1f77b4; stroke-linecap: square\"/>\n   </g>\n   <g id=\"line2d_18\">\n    <path d=\"M 208.663125 146.861504 \nL 208.663125 152.180873 \n\" clip-path=\"url(#p2923382497)\" style=\"fill: none; stroke: #1f77b4; stroke-linecap: square\"/>\n   </g>\n   <g id=\"line2d_19\">\n    <path d=\"M 208.663125 136.736078 \nL 208.663125 127.650904 \n\" clip-path=\"url(#p2923382497)\" style=\"fill: none; stroke: #1f77b4; stroke-linecap: square\"/>\n   </g>\n   <g id=\"line2d_20\">\n    <path d=\"M 195.271125 152.180873 \nL 222.055125 152.180873 \n\" clip-path=\"url(#p2923382497)\" style=\"fill: none; stroke: #000000; stroke-linecap: square\"/>\n   </g>\n   <g id=\"line2d_21\">\n    <path d=\"M 195.271125 127.650904 \nL 222.055125 127.650904 \n\" clip-path=\"url(#p2923382497)\" style=\"fill: none; stroke: #000000; stroke-linecap: square\"/>\n   </g>\n   <g id=\"line2d_22\">\n    <defs>\n     <path id=\"mdf889351ce\" d=\"M 0 3 \nC 0.795609 3 1.55874 2.683901 2.12132 2.12132 \nC 2.683901 1.55874 3 0.795609 3 0 \nC 3 -0.795609 2.683901 -1.55874 2.12132 -2.12132 \nC 1.55874 -2.683901 0.795609 -3 0 -3 \nC -0.795609 -3 -1.55874 -2.683901 -2.12132 -2.12132 \nC -2.683901 -1.55874 -3 -0.795609 -3 0 \nC -3 0.795609 -2.683901 1.55874 -2.12132 2.12132 \nC -1.55874 2.683901 -0.795609 3 0 3 \nz\n\" style=\"stroke: #000000\"/>\n    </defs>\n    <g clip-path=\"url(#p2923382497)\">\n     <use xlink:href=\"#mdf889351ce\" x=\"208.663125\" y=\"271.814437\" style=\"fill-opacity: 0; stroke: #000000\"/>\n     <use xlink:href=\"#mdf889351ce\" x=\"208.663125\" y=\"271.814437\" style=\"fill-opacity: 0; stroke: #000000\"/>\n     <use xlink:href=\"#mdf889351ce\" x=\"208.663125\" y=\"236.146046\" style=\"fill-opacity: 0; stroke: #000000\"/>\n     <use xlink:href=\"#mdf889351ce\" x=\"208.663125\" y=\"188.721441\" style=\"fill-opacity: 0; stroke: #000000\"/>\n     <use xlink:href=\"#mdf889351ce\" x=\"208.663125\" y=\"187.413176\" style=\"fill-opacity: 0; stroke: #000000\"/>\n     <use xlink:href=\"#mdf889351ce\" x=\"208.663125\" y=\"176.783523\" style=\"fill-opacity: 0; stroke: #000000\"/>\n     <use xlink:href=\"#mdf889351ce\" x=\"208.663125\" y=\"174.54857\" style=\"fill-opacity: 0; stroke: #000000\"/>\n     <use xlink:href=\"#mdf889351ce\" x=\"208.663125\" y=\"120.382766\" style=\"fill-opacity: 0; stroke: #000000\"/>\n     <use xlink:href=\"#mdf889351ce\" x=\"208.663125\" y=\"109.642273\" style=\"fill-opacity: 0; stroke: #000000\"/>\n     <use xlink:href=\"#mdf889351ce\" x=\"208.663125\" y=\"101.558286\" style=\"fill-opacity: 0; stroke: #000000\"/>\n     <use xlink:href=\"#mdf889351ce\" x=\"208.663125\" y=\"99.305163\" style=\"fill-opacity: 0; stroke: #000000\"/>\n     <use xlink:href=\"#mdf889351ce\" x=\"208.663125\" y=\"99.305163\" style=\"fill-opacity: 0; stroke: #000000\"/>\n     <use xlink:href=\"#mdf889351ce\" x=\"208.663125\" y=\"74.484469\" style=\"fill-opacity: 0; stroke: #000000\"/>\n     <use xlink:href=\"#mdf889351ce\" x=\"208.663125\" y=\"29.894438\" style=\"fill-opacity: 0; stroke: #000000\"/>\n    </g>\n   </g>\n   <g id=\"line2d_23\">\n    <path d=\"M 181.879125 143.359169 \nL 235.447125 143.359169 \n\" clip-path=\"url(#p2923382497)\" style=\"fill: none; stroke: #2ca02c; stroke-linecap: square\"/>\n   </g>\n   <g id=\"patch_3\">\n    <path d=\"M 30.103125 283.910437 \nL 30.103125 17.798438 \n\" style=\"fill: none; stroke: #000000; stroke-width: 0.8; stroke-linejoin: miter; stroke-linecap: square\"/>\n   </g>\n   <g id=\"patch_4\">\n    <path d=\"M 387.223125 283.910437 \nL 387.223125 17.798438 \n\" style=\"fill: none; stroke: #000000; stroke-width: 0.8; stroke-linejoin: miter; stroke-linecap: square\"/>\n   </g>\n   <g id=\"patch_5\">\n    <path d=\"M 30.103125 283.910437 \nL 387.223125 283.910437 \n\" style=\"fill: none; stroke: #000000; stroke-width: 0.8; stroke-linejoin: miter; stroke-linecap: square\"/>\n   </g>\n   <g id=\"patch_6\">\n    <path d=\"M 30.103125 17.798437 \nL 387.223125 17.798437 \n\" style=\"fill: none; stroke: #000000; stroke-width: 0.8; stroke-linejoin: miter; stroke-linecap: square\"/>\n   </g>\n  </g>\n </g>\n <defs>\n  <clipPath id=\"p2923382497\">\n   <rect x=\"30.103125\" y=\"17.798437\" width=\"357.12\" height=\"266.112\"/>\n  </clipPath>\n </defs>\n</svg>\n",
      "image/png": "[encoded data removed]"
     },
     "metadata": {}
    }
   ],
   "source": [
    "df.boxplot('price')"
   ]
  },
  {
   "cell_type": "code",
   "execution_count": null,
   "metadata": {},
   "outputs": [],
   "source": []
  }
 ]
}